{
 "cells": [
  {
   "cell_type": "code",
   "execution_count": 1,
   "metadata": {},
   "outputs": [],
   "source": [
    "%load_ext autoreload\n",
    "%autoreload 2"
   ]
  },
  {
   "cell_type": "code",
   "execution_count": 2,
   "metadata": {},
   "outputs": [],
   "source": [
    "import yfinance as yf\n",
    "import pandas as pd\n",
    "import logging\n",
    "import sys\n",
    "from copy import deepcopy\n",
    "from pathlib import Path\n",
    "from datetime import datetime\n",
    "from dateutil.relativedelta import relativedelta"
   ]
  },
  {
   "cell_type": "code",
   "execution_count": 3,
   "metadata": {},
   "outputs": [],
   "source": [
    "src_path: str = \"../src\"\n",
    "sys.path.append(src_path)\n",
    "logging.basicConfig()\n",
    "logging.getLogger().setLevel(logging.INFO)"
   ]
  },
  {
   "cell_type": "code",
   "execution_count": 4,
   "metadata": {},
   "outputs": [],
   "source": [
    "from data.utils import download_yfinance_data, get_price_statistics\n",
    "from data.plots import candlestick_yearly, violin_monthly, violin_weekday\n",
    "from models.utils import split_time_data, preprocess_data, fit_forecaster\n",
    "from models.plots import plot_data_split, plot_data_predictions"
   ]
  },
  {
   "cell_type": "code",
   "execution_count": 5,
   "metadata": {},
   "outputs": [
    {
     "data": {
      "text/plain": [
       "PosixPath('/home/uziel/Development/stock_picker/data')"
      ]
     },
     "execution_count": 5,
     "metadata": {},
     "output_type": "execute_result"
    }
   ],
   "source": [
    "random_seed = 8080\n",
    "portfolio_name = \"big_tech\"\n",
    "data_path = Path(\"..\").resolve().joinpath(\"data\")\n",
    "data_path"
   ]
  },
  {
   "attachments": {},
   "cell_type": "markdown",
   "metadata": {},
   "source": [
    "## 1. Business understanding\n"
   ]
  },
  {
   "attachments": {},
   "cell_type": "markdown",
   "metadata": {},
   "source": [
    "It is often not straight-forward to discern which stocks have performed better than others when looking at historical data. Stock's price changes constantly, with some events, such as economic recessions, pandemics or natural disasters heavily affecting the valuations of many companies.\n",
    "\n",
    "However, these companies are not necessarily affected the same way, and their publicly traded price can, due to a multitude of factors, react very differently to the same events. For example, in 2020 there was the COVID-19 outbreak, eCommerce companies such as Amazon, as well as hardware manufacturers such as NVIDIA, saw a dramatic increase in the demand of their products due to the pandemic's lockdowns. We will be able to see this clearly in the data later on.\n",
    "\n",
    "As small investors, we might be interested in analysing the past performance of a certain portfolio of companies, as well as be able forecast whether they will continue their present trend.\n",
    "\n",
    "The goal of this project is to provide an easy to use interface to quickly compare the performance of multiple companies over a given period of time by means of visualizations and aggregated statistics. This will allow users to pick which companies did best. It will also provide an idea of how the stocks will change their price in the near future. We aim to answer questions such as:\n",
    "\n",
    "1. Which company grew more in value?\n",
    "2. Which company experimented the lowest volatility? Which experimented the highest?\n",
    "3. Which company is expected to grow more in value?\n",
    "\n",
    "However, it is important to consider that, according to [random walk theory](https://en.wikipedia.org/wiki/Random_walk_hypothesis), market prices behave randomly and not as a function of their time series. In other words, the patterns observed in the historical price a certain financial security are unlikely to help predict the future. In financial markets, we find that the future value of a security depends on its previous value plus some unexplained variance.\n",
    "\n",
    "**DISCLAIMER:** This project is merely meant to be used for understanding the past and get a sense of the future. The insights gained and any recommendations made **are not financial advise**. The value of a company at any given time and its evolution dependes on many factors that aren't taken into account in this project. Real-world value investing requires an in-depth analysis of each company and sector, and it's still not guaranteed to yield better returns than simply investing in a market index. And above all, **Past performance is no guarantee of future results. Don't assume an investment will continue to do well in the future simply because it's done well in the past.**\n"
   ]
  },
  {
   "attachments": {},
   "cell_type": "markdown",
   "metadata": {},
   "source": [
    "## 2. Understanding the data through Exploratory Data Analysis (EDA)\n",
    "\n",
    "In this section, we preview the kind of financial data that can be downloaded through the Yahoo Finance API.\n"
   ]
  },
  {
   "cell_type": "code",
   "execution_count": 6,
   "metadata": {},
   "outputs": [],
   "source": [
    "portfolio_filepath = data_path.joinpath(\"portfolios\").joinpath(f\"{portfolio_name}.txt\")\n",
    "tickers = [line.split(\" \")[0] for line in portfolio_filepath.read_text().split(\"\\n\")]\n",
    "date_range = (\n",
    "    datetime.now() - relativedelta(years=5),\n",
    "    datetime.now(),\n",
    ")\n",
    "save_path = data_path.joinpath(portfolio_name)\n",
    "save_path.mkdir(parents=True, exist_ok=True)"
   ]
  },
  {
   "cell_type": "code",
   "execution_count": 7,
   "metadata": {},
   "outputs": [],
   "source": [
    "ticker_selected = tickers[0]"
   ]
  },
  {
   "cell_type": "code",
   "execution_count": 8,
   "metadata": {},
   "outputs": [
    {
     "name": "stderr",
     "output_type": "stream",
     "text": [
      "INFO:root:Downloading information for tickers (GOOG AMZN AAPL MSFT NFLX)\n",
      "2023-02-15 21:57:52.846 INFO    root: Downloading information for tickers (GOOG AMZN AAPL MSFT NFLX)\n"
     ]
    },
    {
     "name": "stdout",
     "output_type": "stream",
     "text": [
      "WARNING: No decryption keys could be extracted from JS file. Falling back to backup decrypt methods.\n",
      "WARNING: No decryption keys could be extracted from JS file. Falling back to backup decrypt methods.\n",
      "WARNING: No decryption keys could be extracted from JS file. Falling back to backup decrypt methods.\n",
      "WARNING: No decryption keys could be extracted from JS file. Falling back to backup decrypt methods.\n",
      "WARNING: No decryption keys could be extracted from JS file. Falling back to backup decrypt methods.\n"
     ]
    },
    {
     "name": "stderr",
     "output_type": "stream",
     "text": [
      "INFO:root:Tickers information downloaded successfully!\n",
      "2023-02-15 21:58:14.483 INFO    root: Tickers information downloaded successfully!\n",
      "INFO:root:Downloading historical data...\n",
      "2023-02-15 21:58:14.485 INFO    root: Downloading historical data...\n"
     ]
    },
    {
     "name": "stdout",
     "output_type": "stream",
     "text": [
      "[*********************100%***********************]  5 of 5 completed"
     ]
    },
    {
     "name": "stderr",
     "output_type": "stream",
     "text": [
      "INFO:root:Historical data downloaded successfully!\n",
      "2023-02-15 21:58:14.994 INFO    root: Historical data downloaded successfully!\n"
     ]
    },
    {
     "name": "stdout",
     "output_type": "stream",
     "text": [
      "\n"
     ]
    }
   ],
   "source": [
    "tickers_info, tickers_data = download_yfinance_data(tickers, date_range, save_path)"
   ]
  },
  {
   "attachments": {},
   "cell_type": "markdown",
   "metadata": {},
   "source": [
    "### 2.1. Tickers information\n"
   ]
  },
  {
   "cell_type": "code",
   "execution_count": 9,
   "metadata": {},
   "outputs": [
    {
     "data": {
      "text/html": [
       "<div>\n",
       "<style scoped>\n",
       "    .dataframe tbody tr th:only-of-type {\n",
       "        vertical-align: middle;\n",
       "    }\n",
       "\n",
       "    .dataframe tbody tr th {\n",
       "        vertical-align: top;\n",
       "    }\n",
       "\n",
       "    .dataframe thead th {\n",
       "        text-align: right;\n",
       "    }\n",
       "</style>\n",
       "<table border=\"1\" class=\"dataframe\">\n",
       "  <thead>\n",
       "    <tr style=\"text-align: right;\">\n",
       "      <th></th>\n",
       "      <th>GOOG</th>\n",
       "      <th>AMZN</th>\n",
       "      <th>AAPL</th>\n",
       "      <th>MSFT</th>\n",
       "      <th>NFLX</th>\n",
       "    </tr>\n",
       "  </thead>\n",
       "  <tbody>\n",
       "    <tr>\n",
       "      <th>zip</th>\n",
       "      <td>94043</td>\n",
       "      <td>98109-5210</td>\n",
       "      <td>95014</td>\n",
       "      <td>98052-6399</td>\n",
       "      <td>95032</td>\n",
       "    </tr>\n",
       "    <tr>\n",
       "      <th>sector</th>\n",
       "      <td>Communication Services</td>\n",
       "      <td>Consumer Cyclical</td>\n",
       "      <td>Technology</td>\n",
       "      <td>Technology</td>\n",
       "      <td>Communication Services</td>\n",
       "    </tr>\n",
       "    <tr>\n",
       "      <th>fullTimeEmployees</th>\n",
       "      <td>190234</td>\n",
       "      <td>1541000</td>\n",
       "      <td>164000</td>\n",
       "      <td>221000</td>\n",
       "      <td>12800</td>\n",
       "    </tr>\n",
       "    <tr>\n",
       "      <th>longBusinessSummary</th>\n",
       "      <td>Alphabet Inc. offers various products and plat...</td>\n",
       "      <td>Amazon.com, Inc. engages in the retail sale of...</td>\n",
       "      <td>Apple Inc. designs, manufactures, and markets ...</td>\n",
       "      <td>Microsoft Corporation develops, licenses, and ...</td>\n",
       "      <td>Netflix, Inc. provides entertainment services....</td>\n",
       "    </tr>\n",
       "    <tr>\n",
       "      <th>city</th>\n",
       "      <td>Mountain View</td>\n",
       "      <td>Seattle</td>\n",
       "      <td>Cupertino</td>\n",
       "      <td>Redmond</td>\n",
       "      <td>Los Gatos</td>\n",
       "    </tr>\n",
       "    <tr>\n",
       "      <th>...</th>\n",
       "      <td>...</td>\n",
       "      <td>...</td>\n",
       "      <td>...</td>\n",
       "      <td>...</td>\n",
       "      <td>...</td>\n",
       "    </tr>\n",
       "    <tr>\n",
       "      <th>bidSize</th>\n",
       "      <td>800</td>\n",
       "      <td>800</td>\n",
       "      <td>1200</td>\n",
       "      <td>1000</td>\n",
       "      <td>900</td>\n",
       "    </tr>\n",
       "    <tr>\n",
       "      <th>preMarketPrice</th>\n",
       "      <td>94.8</td>\n",
       "      <td>99.13</td>\n",
       "      <td>153.12</td>\n",
       "      <td>268.3</td>\n",
       "      <td>355.44</td>\n",
       "    </tr>\n",
       "    <tr>\n",
       "      <th>logo_url</th>\n",
       "      <td>https://logo.clearbit.com/abc.xyz</td>\n",
       "      <td>https://logo.clearbit.com/amazon.com</td>\n",
       "      <td>https://logo.clearbit.com/apple.com</td>\n",
       "      <td>https://logo.clearbit.com/microsoft.com</td>\n",
       "      <td>https://logo.clearbit.com/netflix.com</td>\n",
       "    </tr>\n",
       "    <tr>\n",
       "      <th>trailingPegRatio</th>\n",
       "      <td>1.1571</td>\n",
       "      <td>6.471</td>\n",
       "      <td>2.4749</td>\n",
       "      <td>2.2853</td>\n",
       "      <td>1.6656</td>\n",
       "    </tr>\n",
       "    <tr>\n",
       "      <th>fax</th>\n",
       "      <td>NaN</td>\n",
       "      <td>NaN</td>\n",
       "      <td>NaN</td>\n",
       "      <td>425 706 7329</td>\n",
       "      <td>NaN</td>\n",
       "    </tr>\n",
       "  </tbody>\n",
       "</table>\n",
       "<p>98 rows × 5 columns</p>\n",
       "</div>"
      ],
      "text/plain": [
       "                                                                  GOOG  \\\n",
       "zip                                                              94043   \n",
       "sector                                          Communication Services   \n",
       "fullTimeEmployees                                               190234   \n",
       "longBusinessSummary  Alphabet Inc. offers various products and plat...   \n",
       "city                                                     Mountain View   \n",
       "...                                                                ...   \n",
       "bidSize                                                            800   \n",
       "preMarketPrice                                                    94.8   \n",
       "logo_url                             https://logo.clearbit.com/abc.xyz   \n",
       "trailingPegRatio                                                1.1571   \n",
       "fax                                                                NaN   \n",
       "\n",
       "                                                                  AMZN  \\\n",
       "zip                                                         98109-5210   \n",
       "sector                                               Consumer Cyclical   \n",
       "fullTimeEmployees                                              1541000   \n",
       "longBusinessSummary  Amazon.com, Inc. engages in the retail sale of...   \n",
       "city                                                           Seattle   \n",
       "...                                                                ...   \n",
       "bidSize                                                            800   \n",
       "preMarketPrice                                                   99.13   \n",
       "logo_url                          https://logo.clearbit.com/amazon.com   \n",
       "trailingPegRatio                                                 6.471   \n",
       "fax                                                                NaN   \n",
       "\n",
       "                                                                  AAPL  \\\n",
       "zip                                                              95014   \n",
       "sector                                                      Technology   \n",
       "fullTimeEmployees                                               164000   \n",
       "longBusinessSummary  Apple Inc. designs, manufactures, and markets ...   \n",
       "city                                                         Cupertino   \n",
       "...                                                                ...   \n",
       "bidSize                                                           1200   \n",
       "preMarketPrice                                                  153.12   \n",
       "logo_url                           https://logo.clearbit.com/apple.com   \n",
       "trailingPegRatio                                                2.4749   \n",
       "fax                                                                NaN   \n",
       "\n",
       "                                                                  MSFT  \\\n",
       "zip                                                         98052-6399   \n",
       "sector                                                      Technology   \n",
       "fullTimeEmployees                                               221000   \n",
       "longBusinessSummary  Microsoft Corporation develops, licenses, and ...   \n",
       "city                                                           Redmond   \n",
       "...                                                                ...   \n",
       "bidSize                                                           1000   \n",
       "preMarketPrice                                                   268.3   \n",
       "logo_url                       https://logo.clearbit.com/microsoft.com   \n",
       "trailingPegRatio                                                2.2853   \n",
       "fax                                                       425 706 7329   \n",
       "\n",
       "                                                                  NFLX  \n",
       "zip                                                              95032  \n",
       "sector                                          Communication Services  \n",
       "fullTimeEmployees                                                12800  \n",
       "longBusinessSummary  Netflix, Inc. provides entertainment services....  \n",
       "city                                                         Los Gatos  \n",
       "...                                                                ...  \n",
       "bidSize                                                            900  \n",
       "preMarketPrice                                                  355.44  \n",
       "logo_url                         https://logo.clearbit.com/netflix.com  \n",
       "trailingPegRatio                                                1.6656  \n",
       "fax                                                                NaN  \n",
       "\n",
       "[98 rows x 5 columns]"
      ]
     },
     "execution_count": 9,
     "metadata": {},
     "output_type": "execute_result"
    }
   ],
   "source": [
    "tickers_info.dropna(how=\"all\")"
   ]
  },
  {
   "cell_type": "code",
   "execution_count": 10,
   "metadata": {},
   "outputs": [
    {
     "data": {
      "text/plain": [
       "Index(['zip', 'sector', 'fullTimeEmployees', 'longBusinessSummary', 'city',\n",
       "       'phone', 'state', 'country', 'companyOfficers', 'website', 'maxAge',\n",
       "       'address1', 'industry', 'ebitdaMargins', 'profitMargins',\n",
       "       'grossMargins', 'operatingCashflow', 'revenueGrowth',\n",
       "       'operatingMargins', 'ebitda', 'targetLowPrice', 'recommendationKey',\n",
       "       'grossProfits', 'freeCashflow', 'targetMedianPrice', 'earningsGrowth',\n",
       "       'currentRatio', 'returnOnAssets', 'numberOfAnalystOpinions',\n",
       "       'targetMeanPrice', 'debtToEquity', 'returnOnEquity', 'targetHighPrice',\n",
       "       'totalCash', 'totalDebt', 'totalRevenue', 'totalCashPerShare',\n",
       "       'financialCurrency', 'revenuePerShare', 'quickRatio',\n",
       "       'recommendationMean', 'shortName', 'longName', 'isEsgPopulated',\n",
       "       'gmtOffSetMilliseconds', 'messageBoardId', 'market',\n",
       "       'enterpriseToRevenue', 'enterpriseToEbitda', 'forwardEps',\n",
       "       'sharesOutstanding', 'bookValue', 'sharesShort',\n",
       "       'sharesPercentSharesOut', 'lastFiscalYearEnd',\n",
       "       'heldPercentInstitutions', 'netIncomeToCommon', 'trailingEps',\n",
       "       'lastDividendValue', 'SandP52WeekChange', 'priceToBook',\n",
       "       'heldPercentInsiders', 'nextFiscalYearEnd', 'mostRecentQuarter',\n",
       "       'shortRatio', 'sharesShortPreviousMonthDate', 'floatShares', 'beta',\n",
       "       'enterpriseValue', 'priceHint', 'lastSplitDate', 'lastSplitFactor',\n",
       "       'lastDividendDate', 'earningsQuarterlyGrowth',\n",
       "       'priceToSalesTrailing12Months', 'dateShortInterest', 'pegRatio',\n",
       "       'forwardPE', 'shortPercentOfFloat', 'sharesShortPriorMonth',\n",
       "       'impliedSharesOutstanding', 'trailingAnnualDividendYield',\n",
       "       'payoutRatio', 'trailingAnnualDividendRate', 'dividendRate',\n",
       "       'exDividendDate', 'trailingPE', 'ask', 'askSize',\n",
       "       'fiveYearAvgDividendYield', 'bid', 'tradeable', 'dividendYield',\n",
       "       'bidSize', 'preMarketPrice', 'logo_url', 'trailingPegRatio', 'fax'],\n",
       "      dtype='object')"
      ]
     },
     "execution_count": 10,
     "metadata": {},
     "output_type": "execute_result"
    }
   ],
   "source": [
    "tickers_info.dropna(how=\"all\").index"
   ]
  },
  {
   "attachments": {},
   "cell_type": "markdown",
   "metadata": {},
   "source": [
    "Lots of current information is available for inspection for each of the security tickers in our portfolio. Among the many fields, we can find relevant financial indicators such as `ebitda`, `freeCashflow`, `revenuePerShare` and many, many others. Unfortunately, we don't have historical data for these fields, so we cannot link this information to our historical price data."
   ]
  },
  {
   "attachments": {},
   "cell_type": "markdown",
   "metadata": {},
   "source": [
    "### 2.2. Historical Price Data\n"
   ]
  },
  {
   "cell_type": "code",
   "execution_count": 11,
   "metadata": {},
   "outputs": [
    {
     "data": {
      "text/html": [
       "<div>\n",
       "<style scoped>\n",
       "    .dataframe tbody tr th:only-of-type {\n",
       "        vertical-align: middle;\n",
       "    }\n",
       "\n",
       "    .dataframe tbody tr th {\n",
       "        vertical-align: top;\n",
       "    }\n",
       "\n",
       "    .dataframe thead tr th {\n",
       "        text-align: left;\n",
       "    }\n",
       "\n",
       "    .dataframe thead tr:last-of-type th {\n",
       "        text-align: right;\n",
       "    }\n",
       "</style>\n",
       "<table border=\"1\" class=\"dataframe\">\n",
       "  <thead>\n",
       "    <tr>\n",
       "      <th></th>\n",
       "      <th colspan=\"5\" halign=\"left\">Adj Close</th>\n",
       "      <th colspan=\"5\" halign=\"left\">Close</th>\n",
       "      <th>...</th>\n",
       "      <th colspan=\"5\" halign=\"left\">Open</th>\n",
       "      <th colspan=\"5\" halign=\"left\">Volume</th>\n",
       "    </tr>\n",
       "    <tr>\n",
       "      <th></th>\n",
       "      <th>AAPL</th>\n",
       "      <th>AMZN</th>\n",
       "      <th>GOOG</th>\n",
       "      <th>MSFT</th>\n",
       "      <th>NFLX</th>\n",
       "      <th>AAPL</th>\n",
       "      <th>AMZN</th>\n",
       "      <th>GOOG</th>\n",
       "      <th>MSFT</th>\n",
       "      <th>NFLX</th>\n",
       "      <th>...</th>\n",
       "      <th>AAPL</th>\n",
       "      <th>AMZN</th>\n",
       "      <th>GOOG</th>\n",
       "      <th>MSFT</th>\n",
       "      <th>NFLX</th>\n",
       "      <th>AAPL</th>\n",
       "      <th>AMZN</th>\n",
       "      <th>GOOG</th>\n",
       "      <th>MSFT</th>\n",
       "      <th>NFLX</th>\n",
       "    </tr>\n",
       "    <tr>\n",
       "      <th>Date</th>\n",
       "      <th></th>\n",
       "      <th></th>\n",
       "      <th></th>\n",
       "      <th></th>\n",
       "      <th></th>\n",
       "      <th></th>\n",
       "      <th></th>\n",
       "      <th></th>\n",
       "      <th></th>\n",
       "      <th></th>\n",
       "      <th></th>\n",
       "      <th></th>\n",
       "      <th></th>\n",
       "      <th></th>\n",
       "      <th></th>\n",
       "      <th></th>\n",
       "      <th></th>\n",
       "      <th></th>\n",
       "      <th></th>\n",
       "      <th></th>\n",
       "      <th></th>\n",
       "    </tr>\n",
       "  </thead>\n",
       "  <tbody>\n",
       "    <tr>\n",
       "      <th>2018-02-16</th>\n",
       "      <td>41.095284</td>\n",
       "      <td>72.434502</td>\n",
       "      <td>54.740002</td>\n",
       "      <td>87.044746</td>\n",
       "      <td>278.519989</td>\n",
       "      <td>43.107498</td>\n",
       "      <td>72.434502</td>\n",
       "      <td>54.740002</td>\n",
       "      <td>92.000000</td>\n",
       "      <td>278.519989</td>\n",
       "      <td>...</td>\n",
       "      <td>43.090000</td>\n",
       "      <td>72.868500</td>\n",
       "      <td>54.420502</td>\n",
       "      <td>92.449997</td>\n",
       "      <td>278.730011</td>\n",
       "      <td>160704400.0</td>\n",
       "      <td>89452000.0</td>\n",
       "      <td>33590000.0</td>\n",
       "      <td>30596900.0</td>\n",
       "      <td>8312400.0</td>\n",
       "    </tr>\n",
       "    <tr>\n",
       "      <th>2018-02-17</th>\n",
       "      <td>NaN</td>\n",
       "      <td>NaN</td>\n",
       "      <td>NaN</td>\n",
       "      <td>NaN</td>\n",
       "      <td>NaN</td>\n",
       "      <td>NaN</td>\n",
       "      <td>NaN</td>\n",
       "      <td>NaN</td>\n",
       "      <td>NaN</td>\n",
       "      <td>NaN</td>\n",
       "      <td>...</td>\n",
       "      <td>NaN</td>\n",
       "      <td>NaN</td>\n",
       "      <td>NaN</td>\n",
       "      <td>NaN</td>\n",
       "      <td>NaN</td>\n",
       "      <td>NaN</td>\n",
       "      <td>NaN</td>\n",
       "      <td>NaN</td>\n",
       "      <td>NaN</td>\n",
       "      <td>NaN</td>\n",
       "    </tr>\n",
       "    <tr>\n",
       "      <th>2018-02-18</th>\n",
       "      <td>NaN</td>\n",
       "      <td>NaN</td>\n",
       "      <td>NaN</td>\n",
       "      <td>NaN</td>\n",
       "      <td>NaN</td>\n",
       "      <td>NaN</td>\n",
       "      <td>NaN</td>\n",
       "      <td>NaN</td>\n",
       "      <td>NaN</td>\n",
       "      <td>NaN</td>\n",
       "      <td>...</td>\n",
       "      <td>NaN</td>\n",
       "      <td>NaN</td>\n",
       "      <td>NaN</td>\n",
       "      <td>NaN</td>\n",
       "      <td>NaN</td>\n",
       "      <td>NaN</td>\n",
       "      <td>NaN</td>\n",
       "      <td>NaN</td>\n",
       "      <td>NaN</td>\n",
       "      <td>NaN</td>\n",
       "    </tr>\n",
       "    <tr>\n",
       "      <th>2018-02-19</th>\n",
       "      <td>NaN</td>\n",
       "      <td>NaN</td>\n",
       "      <td>NaN</td>\n",
       "      <td>NaN</td>\n",
       "      <td>NaN</td>\n",
       "      <td>NaN</td>\n",
       "      <td>NaN</td>\n",
       "      <td>NaN</td>\n",
       "      <td>NaN</td>\n",
       "      <td>NaN</td>\n",
       "      <td>...</td>\n",
       "      <td>NaN</td>\n",
       "      <td>NaN</td>\n",
       "      <td>NaN</td>\n",
       "      <td>NaN</td>\n",
       "      <td>NaN</td>\n",
       "      <td>NaN</td>\n",
       "      <td>NaN</td>\n",
       "      <td>NaN</td>\n",
       "      <td>NaN</td>\n",
       "      <td>NaN</td>\n",
       "    </tr>\n",
       "    <tr>\n",
       "      <th>2018-02-20</th>\n",
       "      <td>40.957062</td>\n",
       "      <td>73.417503</td>\n",
       "      <td>55.123001</td>\n",
       "      <td>87.725960</td>\n",
       "      <td>278.549988</td>\n",
       "      <td>42.962502</td>\n",
       "      <td>73.417503</td>\n",
       "      <td>55.123001</td>\n",
       "      <td>92.720001</td>\n",
       "      <td>278.549988</td>\n",
       "      <td>...</td>\n",
       "      <td>43.012501</td>\n",
       "      <td>72.324501</td>\n",
       "      <td>54.528500</td>\n",
       "      <td>91.480003</td>\n",
       "      <td>277.739990</td>\n",
       "      <td>135722000.0</td>\n",
       "      <td>129984000.0</td>\n",
       "      <td>28462000.0</td>\n",
       "      <td>30911700.0</td>\n",
       "      <td>7769000.0</td>\n",
       "    </tr>\n",
       "    <tr>\n",
       "      <th>...</th>\n",
       "      <td>...</td>\n",
       "      <td>...</td>\n",
       "      <td>...</td>\n",
       "      <td>...</td>\n",
       "      <td>...</td>\n",
       "      <td>...</td>\n",
       "      <td>...</td>\n",
       "      <td>...</td>\n",
       "      <td>...</td>\n",
       "      <td>...</td>\n",
       "      <td>...</td>\n",
       "      <td>...</td>\n",
       "      <td>...</td>\n",
       "      <td>...</td>\n",
       "      <td>...</td>\n",
       "      <td>...</td>\n",
       "      <td>...</td>\n",
       "      <td>...</td>\n",
       "      <td>...</td>\n",
       "      <td>...</td>\n",
       "      <td>...</td>\n",
       "    </tr>\n",
       "    <tr>\n",
       "      <th>2023-02-11</th>\n",
       "      <td>NaN</td>\n",
       "      <td>NaN</td>\n",
       "      <td>NaN</td>\n",
       "      <td>NaN</td>\n",
       "      <td>NaN</td>\n",
       "      <td>NaN</td>\n",
       "      <td>NaN</td>\n",
       "      <td>NaN</td>\n",
       "      <td>NaN</td>\n",
       "      <td>NaN</td>\n",
       "      <td>...</td>\n",
       "      <td>NaN</td>\n",
       "      <td>NaN</td>\n",
       "      <td>NaN</td>\n",
       "      <td>NaN</td>\n",
       "      <td>NaN</td>\n",
       "      <td>NaN</td>\n",
       "      <td>NaN</td>\n",
       "      <td>NaN</td>\n",
       "      <td>NaN</td>\n",
       "      <td>NaN</td>\n",
       "    </tr>\n",
       "    <tr>\n",
       "      <th>2023-02-12</th>\n",
       "      <td>NaN</td>\n",
       "      <td>NaN</td>\n",
       "      <td>NaN</td>\n",
       "      <td>NaN</td>\n",
       "      <td>NaN</td>\n",
       "      <td>NaN</td>\n",
       "      <td>NaN</td>\n",
       "      <td>NaN</td>\n",
       "      <td>NaN</td>\n",
       "      <td>NaN</td>\n",
       "      <td>...</td>\n",
       "      <td>NaN</td>\n",
       "      <td>NaN</td>\n",
       "      <td>NaN</td>\n",
       "      <td>NaN</td>\n",
       "      <td>NaN</td>\n",
       "      <td>NaN</td>\n",
       "      <td>NaN</td>\n",
       "      <td>NaN</td>\n",
       "      <td>NaN</td>\n",
       "      <td>NaN</td>\n",
       "    </tr>\n",
       "    <tr>\n",
       "      <th>2023-02-13</th>\n",
       "      <td>153.850006</td>\n",
       "      <td>99.540001</td>\n",
       "      <td>95.000000</td>\n",
       "      <td>271.320007</td>\n",
       "      <td>358.570007</td>\n",
       "      <td>153.850006</td>\n",
       "      <td>99.540001</td>\n",
       "      <td>95.000000</td>\n",
       "      <td>271.320007</td>\n",
       "      <td>358.570007</td>\n",
       "      <td>...</td>\n",
       "      <td>150.949997</td>\n",
       "      <td>97.849998</td>\n",
       "      <td>95.010002</td>\n",
       "      <td>267.640015</td>\n",
       "      <td>349.500000</td>\n",
       "      <td>62199000.0</td>\n",
       "      <td>52841500.0</td>\n",
       "      <td>43116600.0</td>\n",
       "      <td>44630900.0</td>\n",
       "      <td>7134400.0</td>\n",
       "    </tr>\n",
       "    <tr>\n",
       "      <th>2023-02-14</th>\n",
       "      <td>153.199997</td>\n",
       "      <td>99.699997</td>\n",
       "      <td>94.949997</td>\n",
       "      <td>272.170013</td>\n",
       "      <td>359.959991</td>\n",
       "      <td>153.199997</td>\n",
       "      <td>99.699997</td>\n",
       "      <td>94.949997</td>\n",
       "      <td>272.170013</td>\n",
       "      <td>359.959991</td>\n",
       "      <td>...</td>\n",
       "      <td>152.119995</td>\n",
       "      <td>98.410004</td>\n",
       "      <td>94.660004</td>\n",
       "      <td>272.670013</td>\n",
       "      <td>357.549988</td>\n",
       "      <td>61707600.0</td>\n",
       "      <td>56202900.0</td>\n",
       "      <td>42513100.0</td>\n",
       "      <td>37047900.0</td>\n",
       "      <td>4624800.0</td>\n",
       "    </tr>\n",
       "    <tr>\n",
       "      <th>2023-02-15</th>\n",
       "      <td>155.020004</td>\n",
       "      <td>101.004997</td>\n",
       "      <td>96.974998</td>\n",
       "      <td>268.795013</td>\n",
       "      <td>360.825012</td>\n",
       "      <td>155.020004</td>\n",
       "      <td>101.004997</td>\n",
       "      <td>96.974998</td>\n",
       "      <td>268.795013</td>\n",
       "      <td>360.825012</td>\n",
       "      <td>...</td>\n",
       "      <td>153.110001</td>\n",
       "      <td>99.089996</td>\n",
       "      <td>94.739998</td>\n",
       "      <td>268.320007</td>\n",
       "      <td>356.630005</td>\n",
       "      <td>58665779.0</td>\n",
       "      <td>41871693.0</td>\n",
       "      <td>33535769.0</td>\n",
       "      <td>24483131.0</td>\n",
       "      <td>3516068.0</td>\n",
       "    </tr>\n",
       "  </tbody>\n",
       "</table>\n",
       "<p>1826 rows × 30 columns</p>\n",
       "</div>"
      ],
      "text/plain": [
       "             Adj Close                                                 \\\n",
       "                  AAPL        AMZN       GOOG        MSFT        NFLX   \n",
       "Date                                                                    \n",
       "2018-02-16   41.095284   72.434502  54.740002   87.044746  278.519989   \n",
       "2018-02-17         NaN         NaN        NaN         NaN         NaN   \n",
       "2018-02-18         NaN         NaN        NaN         NaN         NaN   \n",
       "2018-02-19         NaN         NaN        NaN         NaN         NaN   \n",
       "2018-02-20   40.957062   73.417503  55.123001   87.725960  278.549988   \n",
       "...                ...         ...        ...         ...         ...   \n",
       "2023-02-11         NaN         NaN        NaN         NaN         NaN   \n",
       "2023-02-12         NaN         NaN        NaN         NaN         NaN   \n",
       "2023-02-13  153.850006   99.540001  95.000000  271.320007  358.570007   \n",
       "2023-02-14  153.199997   99.699997  94.949997  272.170013  359.959991   \n",
       "2023-02-15  155.020004  101.004997  96.974998  268.795013  360.825012   \n",
       "\n",
       "                 Close                                                 ...  \\\n",
       "                  AAPL        AMZN       GOOG        MSFT        NFLX  ...   \n",
       "Date                                                                   ...   \n",
       "2018-02-16   43.107498   72.434502  54.740002   92.000000  278.519989  ...   \n",
       "2018-02-17         NaN         NaN        NaN         NaN         NaN  ...   \n",
       "2018-02-18         NaN         NaN        NaN         NaN         NaN  ...   \n",
       "2018-02-19         NaN         NaN        NaN         NaN         NaN  ...   \n",
       "2018-02-20   42.962502   73.417503  55.123001   92.720001  278.549988  ...   \n",
       "...                ...         ...        ...         ...         ...  ...   \n",
       "2023-02-11         NaN         NaN        NaN         NaN         NaN  ...   \n",
       "2023-02-12         NaN         NaN        NaN         NaN         NaN  ...   \n",
       "2023-02-13  153.850006   99.540001  95.000000  271.320007  358.570007  ...   \n",
       "2023-02-14  153.199997   99.699997  94.949997  272.170013  359.959991  ...   \n",
       "2023-02-15  155.020004  101.004997  96.974998  268.795013  360.825012  ...   \n",
       "\n",
       "                  Open                                                \\\n",
       "                  AAPL       AMZN       GOOG        MSFT        NFLX   \n",
       "Date                                                                   \n",
       "2018-02-16   43.090000  72.868500  54.420502   92.449997  278.730011   \n",
       "2018-02-17         NaN        NaN        NaN         NaN         NaN   \n",
       "2018-02-18         NaN        NaN        NaN         NaN         NaN   \n",
       "2018-02-19         NaN        NaN        NaN         NaN         NaN   \n",
       "2018-02-20   43.012501  72.324501  54.528500   91.480003  277.739990   \n",
       "...                ...        ...        ...         ...         ...   \n",
       "2023-02-11         NaN        NaN        NaN         NaN         NaN   \n",
       "2023-02-12         NaN        NaN        NaN         NaN         NaN   \n",
       "2023-02-13  150.949997  97.849998  95.010002  267.640015  349.500000   \n",
       "2023-02-14  152.119995  98.410004  94.660004  272.670013  357.549988   \n",
       "2023-02-15  153.110001  99.089996  94.739998  268.320007  356.630005   \n",
       "\n",
       "                 Volume                                                  \n",
       "                   AAPL         AMZN        GOOG        MSFT       NFLX  \n",
       "Date                                                                     \n",
       "2018-02-16  160704400.0   89452000.0  33590000.0  30596900.0  8312400.0  \n",
       "2018-02-17          NaN          NaN         NaN         NaN        NaN  \n",
       "2018-02-18          NaN          NaN         NaN         NaN        NaN  \n",
       "2018-02-19          NaN          NaN         NaN         NaN        NaN  \n",
       "2018-02-20  135722000.0  129984000.0  28462000.0  30911700.0  7769000.0  \n",
       "...                 ...          ...         ...         ...        ...  \n",
       "2023-02-11          NaN          NaN         NaN         NaN        NaN  \n",
       "2023-02-12          NaN          NaN         NaN         NaN        NaN  \n",
       "2023-02-13   62199000.0   52841500.0  43116600.0  44630900.0  7134400.0  \n",
       "2023-02-14   61707600.0   56202900.0  42513100.0  37047900.0  4624800.0  \n",
       "2023-02-15   58665779.0   41871693.0  33535769.0  24483131.0  3516068.0  \n",
       "\n",
       "[1826 rows x 30 columns]"
      ]
     },
     "execution_count": 11,
     "metadata": {},
     "output_type": "execute_result"
    }
   ],
   "source": [
    "tickers_data"
   ]
  },
  {
   "attachments": {},
   "cell_type": "markdown",
   "metadata": {},
   "source": [
    "Different information is available for each date and ticker: `Adj Close`, `Close`, `High`, `Low`, `Open` and `Volume`. We will only be using `Adj Close` for performance analysis as well as forecasting.\n",
    "\n",
    "`NaN` value indicate periods for which no data is available. In the case of stock securities of publicly traded companies, we don't have values for Saturdays and Sundays, since the stock markets are closed. We will later on remove beginning and trailing `NaN` values as needed, while `NaN` values found in the middle of periods, such as weekends, will be forward filled.\n"
   ]
  },
  {
   "attachments": {},
   "cell_type": "markdown",
   "metadata": {},
   "source": [
    "## 3. Data Preparation and Visualization\n",
    "\n",
    "In the previous section, we already did some minor pre-processing such as ensuring that the index of the price data is a `datetime` object. Next, we will extract price statistics as well visualizations to improve our understanding of the data.\n"
   ]
  },
  {
   "attachments": {},
   "cell_type": "markdown",
   "metadata": {},
   "source": [
    "### 3.1. Historical price statistics\n"
   ]
  },
  {
   "cell_type": "code",
   "execution_count": 12,
   "metadata": {},
   "outputs": [
    {
     "name": "stderr",
     "output_type": "stream",
     "text": [
      "INFO:root:Calculating historical price statistics...\n",
      "2023-02-15 21:58:15.252 INFO    root: Calculating historical price statistics...\n",
      "INFO:root:Historical price statistics calculated successfully!\n",
      "2023-02-15 21:58:19.026 INFO    root: Historical price statistics calculated successfully!\n"
     ]
    },
    {
     "data": {
      "text/html": [
       "<div>\n",
       "<style scoped>\n",
       "    .dataframe tbody tr th:only-of-type {\n",
       "        vertical-align: middle;\n",
       "    }\n",
       "\n",
       "    .dataframe tbody tr th {\n",
       "        vertical-align: top;\n",
       "    }\n",
       "\n",
       "    .dataframe thead th {\n",
       "        text-align: right;\n",
       "    }\n",
       "</style>\n",
       "<table border=\"1\" class=\"dataframe\">\n",
       "  <thead>\n",
       "    <tr style=\"text-align: right;\">\n",
       "      <th></th>\n",
       "      <th>count</th>\n",
       "      <th>mean</th>\n",
       "      <th>std</th>\n",
       "      <th>min</th>\n",
       "      <th>25%</th>\n",
       "      <th>50%</th>\n",
       "      <th>75%</th>\n",
       "      <th>max</th>\n",
       "      <th>abs_change</th>\n",
       "      <th>rel_change</th>\n",
       "      <th>max_fall</th>\n",
       "      <th>max_rise</th>\n",
       "    </tr>\n",
       "  </thead>\n",
       "  <tbody>\n",
       "    <tr>\n",
       "      <th>AAPL</th>\n",
       "      <td>1258.0</td>\n",
       "      <td>99.20</td>\n",
       "      <td>46.24</td>\n",
       "      <td>34.26</td>\n",
       "      <td>50.45</td>\n",
       "      <td>108.73</td>\n",
       "      <td>143.02</td>\n",
       "      <td>180.68</td>\n",
       "      <td>113.92</td>\n",
       "      <td>277.22</td>\n",
       "      <td>-0.39</td>\n",
       "      <td>4.27</td>\n",
       "    </tr>\n",
       "    <tr>\n",
       "      <th>MSFT</th>\n",
       "      <td>1258.0</td>\n",
       "      <td>194.21</td>\n",
       "      <td>74.13</td>\n",
       "      <td>82.48</td>\n",
       "      <td>122.37</td>\n",
       "      <td>203.47</td>\n",
       "      <td>255.02</td>\n",
       "      <td>339.92</td>\n",
       "      <td>181.75</td>\n",
       "      <td>208.80</td>\n",
       "      <td>-0.37</td>\n",
       "      <td>3.12</td>\n",
       "    </tr>\n",
       "    <tr>\n",
       "      <th>GOOG</th>\n",
       "      <td>1258.0</td>\n",
       "      <td>87.00</td>\n",
       "      <td>30.91</td>\n",
       "      <td>48.81</td>\n",
       "      <td>59.22</td>\n",
       "      <td>75.78</td>\n",
       "      <td>113.34</td>\n",
       "      <td>150.71</td>\n",
       "      <td>42.23</td>\n",
       "      <td>77.16</td>\n",
       "      <td>-0.45</td>\n",
       "      <td>2.09</td>\n",
       "    </tr>\n",
       "    <tr>\n",
       "      <th>AMZN</th>\n",
       "      <td>1258.0</td>\n",
       "      <td>120.59</td>\n",
       "      <td>34.79</td>\n",
       "      <td>67.20</td>\n",
       "      <td>89.62</td>\n",
       "      <td>108.22</td>\n",
       "      <td>158.09</td>\n",
       "      <td>186.57</td>\n",
       "      <td>28.57</td>\n",
       "      <td>39.44</td>\n",
       "      <td>-0.56</td>\n",
       "      <td>1.78</td>\n",
       "    </tr>\n",
       "    <tr>\n",
       "      <th>NFLX</th>\n",
       "      <td>1258.0</td>\n",
       "      <td>390.37</td>\n",
       "      <td>117.31</td>\n",
       "      <td>166.37</td>\n",
       "      <td>307.09</td>\n",
       "      <td>362.87</td>\n",
       "      <td>494.56</td>\n",
       "      <td>691.69</td>\n",
       "      <td>82.31</td>\n",
       "      <td>29.55</td>\n",
       "      <td>-0.76</td>\n",
       "      <td>1.96</td>\n",
       "    </tr>\n",
       "  </tbody>\n",
       "</table>\n",
       "</div>"
      ],
      "text/plain": [
       "       count    mean     std     min     25%     50%     75%     max  \\\n",
       "AAPL  1258.0   99.20   46.24   34.26   50.45  108.73  143.02  180.68   \n",
       "MSFT  1258.0  194.21   74.13   82.48  122.37  203.47  255.02  339.92   \n",
       "GOOG  1258.0   87.00   30.91   48.81   59.22   75.78  113.34  150.71   \n",
       "AMZN  1258.0  120.59   34.79   67.20   89.62  108.22  158.09  186.57   \n",
       "NFLX  1258.0  390.37  117.31  166.37  307.09  362.87  494.56  691.69   \n",
       "\n",
       "      abs_change  rel_change  max_fall  max_rise  \n",
       "AAPL      113.92      277.22     -0.39      4.27  \n",
       "MSFT      181.75      208.80     -0.37      3.12  \n",
       "GOOG       42.23       77.16     -0.45      2.09  \n",
       "AMZN       28.57       39.44     -0.56      1.78  \n",
       "NFLX       82.31       29.55     -0.76      1.96  "
      ]
     },
     "execution_count": 12,
     "metadata": {},
     "output_type": "execute_result"
    }
   ],
   "source": [
    "price_stats = get_price_statistics(tickers_data)\n",
    "price_stats"
   ]
  },
  {
   "attachments": {},
   "cell_type": "markdown",
   "metadata": {},
   "source": [
    "*According to these statistics, we can see that **GOOG** experimented the least price volatily in the observed period (`std=30.91`), while **NFLX** experimented the largest (`std=117.31`).\n",
    "\n",
    "On the other hand, **APPL** increased its value the most since the beginning of the observed period (`rel_change=277.76`), while **NTLX** increased the least (`rel_change=29.86`).\n",
    "\n",
    "And Finally, **MSFT** experimented the lowest fall in price (`max_fall=-0.37`), while **NFLX** saw its price plummet `76%` at some point during this period.\n",
    "\n",
    "Overall, it seems that this wasn't a good period to be invested in **NFLX**!\n",
    "\n",
    "**Clarification on custom statistics**:\n",
    "- *max_fall*: The maximum price fall from a previous all-time high.\n",
    "- *max_rise*: The maximum price rise from a previous all-time low."
   ]
  },
  {
   "attachments": {},
   "cell_type": "markdown",
   "metadata": {},
   "source": [
    "### 3.2. Visualizing yearly price movements through candlestick charts\n",
    "\n",
    "A [candlestick chart](https://en.wikipedia.org/wiki/Candlestick_chart) is a style of financial chart used to describe price movements of a security, derivative, or currency. It is similar to a bar chart in that each candlestick represents all four important pieces of information for that day: open and close in the thick body; high and low in the “candle wick”. Being densely packed with information, it tends to represent trading patterns over short periods of time, often a few days or a few trading sessions.\n"
   ]
  },
  {
   "cell_type": "code",
   "execution_count": 13,
   "metadata": {},
   "outputs": [
    {
     "data": {
      "application/vnd.plotly.v1+json": {
       "config": {
        "plotlyServerURL": "https://plot.ly"
       },
       "data": [
        {
         "close": [
          51.78049850463867,
          66.85099792480469,
          87.59400177001953,
          144.67950439453125,
          88.7300033569336,
          96.9749984741211
         ],
         "high": [
          63.69449996948242,
          68.25,
          92.36000061035156,
          151.85000610351562,
          152.10000610351562,
          108.81999969482422
         ],
         "low": [
          48.50550079345703,
          50.70349884033203,
          50.67679977416992,
          84.94999694824219,
          83.44999694824219,
          85.56999969482422
         ],
         "open": [
          54.420501708984375,
          50.82849884033203,
          67.07749938964844,
          87.87699890136719,
          144.47549438476562,
          89.83000183105469
         ],
         "type": "candlestick",
         "x": [
          "2018-01-01T00:00:00",
          "2019-01-01T00:00:00",
          "2020-01-01T00:00:00",
          "2021-01-01T00:00:00",
          "2022-01-01T00:00:00",
          "2023-01-01T00:00:00"
         ]
        }
       ],
       "layout": {
        "annotations": [
         {
          "showarrow": false,
          "text": "-4.9%",
          "x": "2018-01-01T00:00:00",
          "xanchor": "center",
          "xref": "x",
          "y": 0.4687672413775807,
          "yref": "paper"
         },
         {
          "showarrow": false,
          "text": "31.5%",
          "x": "2019-01-01T00:00:00",
          "xanchor": "center",
          "xref": "x",
          "y": 0.49871793071165743,
          "yref": "paper"
         },
         {
          "showarrow": false,
          "text": "30.6%",
          "x": "2020-01-01T00:00:00",
          "xanchor": "center",
          "xref": "x",
          "y": 0.6572320638007967,
          "yref": "paper"
         },
         {
          "showarrow": false,
          "text": "64.6%",
          "x": "2021-01-01T00:00:00",
          "xanchor": "center",
          "xref": "x",
          "y": 1.0483563445761477,
          "yref": "paper"
         },
         {
          "showarrow": false,
          "text": "-38.6%",
          "x": "2022-01-01T00:00:00",
          "xanchor": "center",
          "xref": "x",
          "y": 1.05,
          "yref": "paper"
         },
         {
          "showarrow": false,
          "text": "8.0%",
          "x": "2023-01-01T00:00:00",
          "xanchor": "center",
          "xref": "x",
          "y": 0.7654503308879813,
          "yref": "paper"
         }
        ],
        "template": {
         "data": {
          "bar": [
           {
            "error_x": {
             "color": "rgb(36,36,36)"
            },
            "error_y": {
             "color": "rgb(36,36,36)"
            },
            "marker": {
             "line": {
              "color": "rgb(234,234,242)",
              "width": 0.5
             },
             "pattern": {
              "fillmode": "overlay",
              "size": 10,
              "solidity": 0.2
             }
            },
            "type": "bar"
           }
          ],
          "barpolar": [
           {
            "marker": {
             "line": {
              "color": "rgb(234,234,242)",
              "width": 0.5
             },
             "pattern": {
              "fillmode": "overlay",
              "size": 10,
              "solidity": 0.2
             }
            },
            "type": "barpolar"
           }
          ],
          "carpet": [
           {
            "aaxis": {
             "endlinecolor": "rgb(36,36,36)",
             "gridcolor": "white",
             "linecolor": "white",
             "minorgridcolor": "white",
             "startlinecolor": "rgb(36,36,36)"
            },
            "baxis": {
             "endlinecolor": "rgb(36,36,36)",
             "gridcolor": "white",
             "linecolor": "white",
             "minorgridcolor": "white",
             "startlinecolor": "rgb(36,36,36)"
            },
            "type": "carpet"
           }
          ],
          "choropleth": [
           {
            "colorbar": {
             "outlinewidth": 0,
             "tickcolor": "rgb(36,36,36)",
             "ticklen": 8,
             "ticks": "outside",
             "tickwidth": 2
            },
            "type": "choropleth"
           }
          ],
          "contour": [
           {
            "colorbar": {
             "outlinewidth": 0,
             "tickcolor": "rgb(36,36,36)",
             "ticklen": 8,
             "ticks": "outside",
             "tickwidth": 2
            },
            "colorscale": [
             [
              0,
              "rgb(2,4,25)"
             ],
             [
              0.06274509803921569,
              "rgb(24,15,41)"
             ],
             [
              0.12549019607843137,
              "rgb(47,23,57)"
             ],
             [
              0.18823529411764706,
              "rgb(71,28,72)"
             ],
             [
              0.25098039215686274,
              "rgb(97,30,82)"
             ],
             [
              0.3137254901960784,
              "rgb(123,30,89)"
             ],
             [
              0.3764705882352941,
              "rgb(150,27,91)"
             ],
             [
              0.4392156862745098,
              "rgb(177,22,88)"
             ],
             [
              0.5019607843137255,
              "rgb(203,26,79)"
             ],
             [
              0.5647058823529412,
              "rgb(223,47,67)"
             ],
             [
              0.6274509803921569,
              "rgb(236,76,61)"
             ],
             [
              0.6901960784313725,
              "rgb(242,107,73)"
             ],
             [
              0.7529411764705882,
              "rgb(244,135,95)"
             ],
             [
              0.8156862745098039,
              "rgb(245,162,122)"
             ],
             [
              0.8784313725490196,
              "rgb(246,188,153)"
             ],
             [
              0.9411764705882353,
              "rgb(247,212,187)"
             ],
             [
              1,
              "rgb(250,234,220)"
             ]
            ],
            "type": "contour"
           }
          ],
          "contourcarpet": [
           {
            "colorbar": {
             "outlinewidth": 0,
             "tickcolor": "rgb(36,36,36)",
             "ticklen": 8,
             "ticks": "outside",
             "tickwidth": 2
            },
            "type": "contourcarpet"
           }
          ],
          "heatmap": [
           {
            "colorbar": {
             "outlinewidth": 0,
             "tickcolor": "rgb(36,36,36)",
             "ticklen": 8,
             "ticks": "outside",
             "tickwidth": 2
            },
            "colorscale": [
             [
              0,
              "rgb(2,4,25)"
             ],
             [
              0.06274509803921569,
              "rgb(24,15,41)"
             ],
             [
              0.12549019607843137,
              "rgb(47,23,57)"
             ],
             [
              0.18823529411764706,
              "rgb(71,28,72)"
             ],
             [
              0.25098039215686274,
              "rgb(97,30,82)"
             ],
             [
              0.3137254901960784,
              "rgb(123,30,89)"
             ],
             [
              0.3764705882352941,
              "rgb(150,27,91)"
             ],
             [
              0.4392156862745098,
              "rgb(177,22,88)"
             ],
             [
              0.5019607843137255,
              "rgb(203,26,79)"
             ],
             [
              0.5647058823529412,
              "rgb(223,47,67)"
             ],
             [
              0.6274509803921569,
              "rgb(236,76,61)"
             ],
             [
              0.6901960784313725,
              "rgb(242,107,73)"
             ],
             [
              0.7529411764705882,
              "rgb(244,135,95)"
             ],
             [
              0.8156862745098039,
              "rgb(245,162,122)"
             ],
             [
              0.8784313725490196,
              "rgb(246,188,153)"
             ],
             [
              0.9411764705882353,
              "rgb(247,212,187)"
             ],
             [
              1,
              "rgb(250,234,220)"
             ]
            ],
            "type": "heatmap"
           }
          ],
          "heatmapgl": [
           {
            "colorbar": {
             "outlinewidth": 0,
             "tickcolor": "rgb(36,36,36)",
             "ticklen": 8,
             "ticks": "outside",
             "tickwidth": 2
            },
            "colorscale": [
             [
              0,
              "rgb(2,4,25)"
             ],
             [
              0.06274509803921569,
              "rgb(24,15,41)"
             ],
             [
              0.12549019607843137,
              "rgb(47,23,57)"
             ],
             [
              0.18823529411764706,
              "rgb(71,28,72)"
             ],
             [
              0.25098039215686274,
              "rgb(97,30,82)"
             ],
             [
              0.3137254901960784,
              "rgb(123,30,89)"
             ],
             [
              0.3764705882352941,
              "rgb(150,27,91)"
             ],
             [
              0.4392156862745098,
              "rgb(177,22,88)"
             ],
             [
              0.5019607843137255,
              "rgb(203,26,79)"
             ],
             [
              0.5647058823529412,
              "rgb(223,47,67)"
             ],
             [
              0.6274509803921569,
              "rgb(236,76,61)"
             ],
             [
              0.6901960784313725,
              "rgb(242,107,73)"
             ],
             [
              0.7529411764705882,
              "rgb(244,135,95)"
             ],
             [
              0.8156862745098039,
              "rgb(245,162,122)"
             ],
             [
              0.8784313725490196,
              "rgb(246,188,153)"
             ],
             [
              0.9411764705882353,
              "rgb(247,212,187)"
             ],
             [
              1,
              "rgb(250,234,220)"
             ]
            ],
            "type": "heatmapgl"
           }
          ],
          "histogram": [
           {
            "marker": {
             "pattern": {
              "fillmode": "overlay",
              "size": 10,
              "solidity": 0.2
             }
            },
            "type": "histogram"
           }
          ],
          "histogram2d": [
           {
            "colorbar": {
             "outlinewidth": 0,
             "tickcolor": "rgb(36,36,36)",
             "ticklen": 8,
             "ticks": "outside",
             "tickwidth": 2
            },
            "colorscale": [
             [
              0,
              "rgb(2,4,25)"
             ],
             [
              0.06274509803921569,
              "rgb(24,15,41)"
             ],
             [
              0.12549019607843137,
              "rgb(47,23,57)"
             ],
             [
              0.18823529411764706,
              "rgb(71,28,72)"
             ],
             [
              0.25098039215686274,
              "rgb(97,30,82)"
             ],
             [
              0.3137254901960784,
              "rgb(123,30,89)"
             ],
             [
              0.3764705882352941,
              "rgb(150,27,91)"
             ],
             [
              0.4392156862745098,
              "rgb(177,22,88)"
             ],
             [
              0.5019607843137255,
              "rgb(203,26,79)"
             ],
             [
              0.5647058823529412,
              "rgb(223,47,67)"
             ],
             [
              0.6274509803921569,
              "rgb(236,76,61)"
             ],
             [
              0.6901960784313725,
              "rgb(242,107,73)"
             ],
             [
              0.7529411764705882,
              "rgb(244,135,95)"
             ],
             [
              0.8156862745098039,
              "rgb(245,162,122)"
             ],
             [
              0.8784313725490196,
              "rgb(246,188,153)"
             ],
             [
              0.9411764705882353,
              "rgb(247,212,187)"
             ],
             [
              1,
              "rgb(250,234,220)"
             ]
            ],
            "type": "histogram2d"
           }
          ],
          "histogram2dcontour": [
           {
            "colorbar": {
             "outlinewidth": 0,
             "tickcolor": "rgb(36,36,36)",
             "ticklen": 8,
             "ticks": "outside",
             "tickwidth": 2
            },
            "colorscale": [
             [
              0,
              "rgb(2,4,25)"
             ],
             [
              0.06274509803921569,
              "rgb(24,15,41)"
             ],
             [
              0.12549019607843137,
              "rgb(47,23,57)"
             ],
             [
              0.18823529411764706,
              "rgb(71,28,72)"
             ],
             [
              0.25098039215686274,
              "rgb(97,30,82)"
             ],
             [
              0.3137254901960784,
              "rgb(123,30,89)"
             ],
             [
              0.3764705882352941,
              "rgb(150,27,91)"
             ],
             [
              0.4392156862745098,
              "rgb(177,22,88)"
             ],
             [
              0.5019607843137255,
              "rgb(203,26,79)"
             ],
             [
              0.5647058823529412,
              "rgb(223,47,67)"
             ],
             [
              0.6274509803921569,
              "rgb(236,76,61)"
             ],
             [
              0.6901960784313725,
              "rgb(242,107,73)"
             ],
             [
              0.7529411764705882,
              "rgb(244,135,95)"
             ],
             [
              0.8156862745098039,
              "rgb(245,162,122)"
             ],
             [
              0.8784313725490196,
              "rgb(246,188,153)"
             ],
             [
              0.9411764705882353,
              "rgb(247,212,187)"
             ],
             [
              1,
              "rgb(250,234,220)"
             ]
            ],
            "type": "histogram2dcontour"
           }
          ],
          "mesh3d": [
           {
            "colorbar": {
             "outlinewidth": 0,
             "tickcolor": "rgb(36,36,36)",
             "ticklen": 8,
             "ticks": "outside",
             "tickwidth": 2
            },
            "type": "mesh3d"
           }
          ],
          "parcoords": [
           {
            "line": {
             "colorbar": {
              "outlinewidth": 0,
              "tickcolor": "rgb(36,36,36)",
              "ticklen": 8,
              "ticks": "outside",
              "tickwidth": 2
             }
            },
            "type": "parcoords"
           }
          ],
          "pie": [
           {
            "automargin": true,
            "type": "pie"
           }
          ],
          "scatter": [
           {
            "fillpattern": {
             "fillmode": "overlay",
             "size": 10,
             "solidity": 0.2
            },
            "type": "scatter"
           }
          ],
          "scatter3d": [
           {
            "line": {
             "colorbar": {
              "outlinewidth": 0,
              "tickcolor": "rgb(36,36,36)",
              "ticklen": 8,
              "ticks": "outside",
              "tickwidth": 2
             }
            },
            "marker": {
             "colorbar": {
              "outlinewidth": 0,
              "tickcolor": "rgb(36,36,36)",
              "ticklen": 8,
              "ticks": "outside",
              "tickwidth": 2
             }
            },
            "type": "scatter3d"
           }
          ],
          "scattercarpet": [
           {
            "marker": {
             "colorbar": {
              "outlinewidth": 0,
              "tickcolor": "rgb(36,36,36)",
              "ticklen": 8,
              "ticks": "outside",
              "tickwidth": 2
             }
            },
            "type": "scattercarpet"
           }
          ],
          "scattergeo": [
           {
            "marker": {
             "colorbar": {
              "outlinewidth": 0,
              "tickcolor": "rgb(36,36,36)",
              "ticklen": 8,
              "ticks": "outside",
              "tickwidth": 2
             }
            },
            "type": "scattergeo"
           }
          ],
          "scattergl": [
           {
            "marker": {
             "colorbar": {
              "outlinewidth": 0,
              "tickcolor": "rgb(36,36,36)",
              "ticklen": 8,
              "ticks": "outside",
              "tickwidth": 2
             }
            },
            "type": "scattergl"
           }
          ],
          "scattermapbox": [
           {
            "marker": {
             "colorbar": {
              "outlinewidth": 0,
              "tickcolor": "rgb(36,36,36)",
              "ticklen": 8,
              "ticks": "outside",
              "tickwidth": 2
             }
            },
            "type": "scattermapbox"
           }
          ],
          "scatterpolar": [
           {
            "marker": {
             "colorbar": {
              "outlinewidth": 0,
              "tickcolor": "rgb(36,36,36)",
              "ticklen": 8,
              "ticks": "outside",
              "tickwidth": 2
             }
            },
            "type": "scatterpolar"
           }
          ],
          "scatterpolargl": [
           {
            "marker": {
             "colorbar": {
              "outlinewidth": 0,
              "tickcolor": "rgb(36,36,36)",
              "ticklen": 8,
              "ticks": "outside",
              "tickwidth": 2
             }
            },
            "type": "scatterpolargl"
           }
          ],
          "scatterternary": [
           {
            "marker": {
             "colorbar": {
              "outlinewidth": 0,
              "tickcolor": "rgb(36,36,36)",
              "ticklen": 8,
              "ticks": "outside",
              "tickwidth": 2
             }
            },
            "type": "scatterternary"
           }
          ],
          "surface": [
           {
            "colorbar": {
             "outlinewidth": 0,
             "tickcolor": "rgb(36,36,36)",
             "ticklen": 8,
             "ticks": "outside",
             "tickwidth": 2
            },
            "colorscale": [
             [
              0,
              "rgb(2,4,25)"
             ],
             [
              0.06274509803921569,
              "rgb(24,15,41)"
             ],
             [
              0.12549019607843137,
              "rgb(47,23,57)"
             ],
             [
              0.18823529411764706,
              "rgb(71,28,72)"
             ],
             [
              0.25098039215686274,
              "rgb(97,30,82)"
             ],
             [
              0.3137254901960784,
              "rgb(123,30,89)"
             ],
             [
              0.3764705882352941,
              "rgb(150,27,91)"
             ],
             [
              0.4392156862745098,
              "rgb(177,22,88)"
             ],
             [
              0.5019607843137255,
              "rgb(203,26,79)"
             ],
             [
              0.5647058823529412,
              "rgb(223,47,67)"
             ],
             [
              0.6274509803921569,
              "rgb(236,76,61)"
             ],
             [
              0.6901960784313725,
              "rgb(242,107,73)"
             ],
             [
              0.7529411764705882,
              "rgb(244,135,95)"
             ],
             [
              0.8156862745098039,
              "rgb(245,162,122)"
             ],
             [
              0.8784313725490196,
              "rgb(246,188,153)"
             ],
             [
              0.9411764705882353,
              "rgb(247,212,187)"
             ],
             [
              1,
              "rgb(250,234,220)"
             ]
            ],
            "type": "surface"
           }
          ],
          "table": [
           {
            "cells": {
             "fill": {
              "color": "rgb(231,231,240)"
             },
             "line": {
              "color": "white"
             }
            },
            "header": {
             "fill": {
              "color": "rgb(183,183,191)"
             },
             "line": {
              "color": "white"
             }
            },
            "type": "table"
           }
          ]
         },
         "layout": {
          "annotationdefaults": {
           "arrowcolor": "rgb(67,103,167)"
          },
          "autotypenumbers": "strict",
          "coloraxis": {
           "colorbar": {
            "outlinewidth": 0,
            "tickcolor": "rgb(36,36,36)",
            "ticklen": 8,
            "ticks": "outside",
            "tickwidth": 2
           }
          },
          "colorscale": {
           "sequential": [
            [
             0,
             "rgb(2,4,25)"
            ],
            [
             0.06274509803921569,
             "rgb(24,15,41)"
            ],
            [
             0.12549019607843137,
             "rgb(47,23,57)"
            ],
            [
             0.18823529411764706,
             "rgb(71,28,72)"
            ],
            [
             0.25098039215686274,
             "rgb(97,30,82)"
            ],
            [
             0.3137254901960784,
             "rgb(123,30,89)"
            ],
            [
             0.3764705882352941,
             "rgb(150,27,91)"
            ],
            [
             0.4392156862745098,
             "rgb(177,22,88)"
            ],
            [
             0.5019607843137255,
             "rgb(203,26,79)"
            ],
            [
             0.5647058823529412,
             "rgb(223,47,67)"
            ],
            [
             0.6274509803921569,
             "rgb(236,76,61)"
            ],
            [
             0.6901960784313725,
             "rgb(242,107,73)"
            ],
            [
             0.7529411764705882,
             "rgb(244,135,95)"
            ],
            [
             0.8156862745098039,
             "rgb(245,162,122)"
            ],
            [
             0.8784313725490196,
             "rgb(246,188,153)"
            ],
            [
             0.9411764705882353,
             "rgb(247,212,187)"
            ],
            [
             1,
             "rgb(250,234,220)"
            ]
           ],
           "sequentialminus": [
            [
             0,
             "rgb(2,4,25)"
            ],
            [
             0.06274509803921569,
             "rgb(24,15,41)"
            ],
            [
             0.12549019607843137,
             "rgb(47,23,57)"
            ],
            [
             0.18823529411764706,
             "rgb(71,28,72)"
            ],
            [
             0.25098039215686274,
             "rgb(97,30,82)"
            ],
            [
             0.3137254901960784,
             "rgb(123,30,89)"
            ],
            [
             0.3764705882352941,
             "rgb(150,27,91)"
            ],
            [
             0.4392156862745098,
             "rgb(177,22,88)"
            ],
            [
             0.5019607843137255,
             "rgb(203,26,79)"
            ],
            [
             0.5647058823529412,
             "rgb(223,47,67)"
            ],
            [
             0.6274509803921569,
             "rgb(236,76,61)"
            ],
            [
             0.6901960784313725,
             "rgb(242,107,73)"
            ],
            [
             0.7529411764705882,
             "rgb(244,135,95)"
            ],
            [
             0.8156862745098039,
             "rgb(245,162,122)"
            ],
            [
             0.8784313725490196,
             "rgb(246,188,153)"
            ],
            [
             0.9411764705882353,
             "rgb(247,212,187)"
            ],
            [
             1,
             "rgb(250,234,220)"
            ]
           ]
          },
          "colorway": [
           "rgb(76,114,176)",
           "rgb(221,132,82)",
           "rgb(85,168,104)",
           "rgb(196,78,82)",
           "rgb(129,114,179)",
           "rgb(147,120,96)",
           "rgb(218,139,195)",
           "rgb(140,140,140)",
           "rgb(204,185,116)",
           "rgb(100,181,205)"
          ],
          "font": {
           "color": "rgb(36,36,36)"
          },
          "geo": {
           "bgcolor": "white",
           "lakecolor": "white",
           "landcolor": "rgb(234,234,242)",
           "showlakes": true,
           "showland": true,
           "subunitcolor": "white"
          },
          "hoverlabel": {
           "align": "left"
          },
          "hovermode": "closest",
          "paper_bgcolor": "white",
          "plot_bgcolor": "rgb(234,234,242)",
          "polar": {
           "angularaxis": {
            "gridcolor": "white",
            "linecolor": "white",
            "showgrid": true,
            "ticks": ""
           },
           "bgcolor": "rgb(234,234,242)",
           "radialaxis": {
            "gridcolor": "white",
            "linecolor": "white",
            "showgrid": true,
            "ticks": ""
           }
          },
          "scene": {
           "xaxis": {
            "backgroundcolor": "rgb(234,234,242)",
            "gridcolor": "white",
            "gridwidth": 2,
            "linecolor": "white",
            "showbackground": true,
            "showgrid": true,
            "ticks": "",
            "zerolinecolor": "white"
           },
           "yaxis": {
            "backgroundcolor": "rgb(234,234,242)",
            "gridcolor": "white",
            "gridwidth": 2,
            "linecolor": "white",
            "showbackground": true,
            "showgrid": true,
            "ticks": "",
            "zerolinecolor": "white"
           },
           "zaxis": {
            "backgroundcolor": "rgb(234,234,242)",
            "gridcolor": "white",
            "gridwidth": 2,
            "linecolor": "white",
            "showbackground": true,
            "showgrid": true,
            "ticks": "",
            "zerolinecolor": "white"
           }
          },
          "shapedefaults": {
           "fillcolor": "rgb(67,103,167)",
           "line": {
            "width": 0
           },
           "opacity": 0.5
          },
          "ternary": {
           "aaxis": {
            "gridcolor": "white",
            "linecolor": "white",
            "showgrid": true,
            "ticks": ""
           },
           "baxis": {
            "gridcolor": "white",
            "linecolor": "white",
            "showgrid": true,
            "ticks": ""
           },
           "bgcolor": "rgb(234,234,242)",
           "caxis": {
            "gridcolor": "white",
            "linecolor": "white",
            "showgrid": true,
            "ticks": ""
           }
          },
          "xaxis": {
           "automargin": true,
           "gridcolor": "white",
           "linecolor": "white",
           "showgrid": true,
           "ticks": "",
           "title": {
            "standoff": 15
           },
           "zerolinecolor": "white"
          },
          "yaxis": {
           "automargin": true,
           "gridcolor": "white",
           "linecolor": "white",
           "showgrid": true,
           "ticks": "",
           "title": {
            "standoff": 15
           },
           "zerolinecolor": "white"
          }
         }
        },
        "title": {
         "text": "Candlestick yearly chart (GOOG)"
        },
        "xaxis": {
         "rangeslider": {
          "visible": false
         },
         "title": {
          "text": "Year"
         }
        },
        "yaxis": {
         "title": {
          "text": "Price (USD)"
         }
        }
       }
      }
     },
     "metadata": {},
     "output_type": "display_data"
    }
   ],
   "source": [
    "fig = candlestick_yearly(tickers_data, ticker_selected)\n",
    "fig.update_layout(template=\"seaborn\").show()"
   ]
  },
  {
   "attachments": {},
   "cell_type": "markdown",
   "metadata": {},
   "source": [
    "We can see that for **GOOG**, there was a positive trend in price from 2019 to 2021, and then the price plummeted in 2022, with some slight recovery in 2023 so far."
   ]
  },
  {
   "attachments": {},
   "cell_type": "markdown",
   "metadata": {},
   "source": [
    "### 3.3. Visualizing price seasonality\n",
    "\n",
    "[Seasonality](https://www.investopedia.com/terms/s/seasonality.asp) is a characteristic of a time series in which the data experiences regular and predictable changes that recur every calendar year. Any predictable fluctuation or pattern that recurs or repeats over a one-year period is said to be seasonal.\n"
   ]
  },
  {
   "cell_type": "code",
   "execution_count": 14,
   "metadata": {},
   "outputs": [
    {
     "data": {
      "application/vnd.plotly.v1+json": {
       "config": {
        "plotlyServerURL": "https://plot.ly"
       },
       "data": [
        {
         "alignmentgroup": "True",
         "box": {
          "visible": true
         },
         "hovertemplate": "month=%{x}<br>GOOG=%{y}<extra></extra>",
         "legendgroup": "",
         "marker": {
          "color": "#000001"
         },
         "name": "",
         "offsetgroup": "",
         "orientation": "v",
         "points": "all",
         "scalegroup": "True",
         "showlegend": false,
         "type": "violin",
         "x": [
          2,
          2,
          2,
          2,
          2,
          2,
          2,
          2,
          2,
          2,
          2,
          2,
          2,
          3,
          3,
          3,
          3,
          3,
          3,
          3,
          3,
          3,
          3,
          3,
          3,
          3,
          3,
          3,
          3,
          3,
          3,
          3,
          3,
          3,
          3,
          3,
          3,
          3,
          3,
          3,
          3,
          3,
          3,
          3,
          4,
          4,
          4,
          4,
          4,
          4,
          4,
          4,
          4,
          4,
          4,
          4,
          4,
          4,
          4,
          4,
          4,
          4,
          4,
          4,
          4,
          4,
          4,
          4,
          4,
          4,
          4,
          4,
          4,
          4,
          5,
          5,
          5,
          5,
          5,
          5,
          5,
          5,
          5,
          5,
          5,
          5,
          5,
          5,
          5,
          5,
          5,
          5,
          5,
          5,
          5,
          5,
          5,
          5,
          5,
          5,
          5,
          5,
          5,
          5,
          5,
          6,
          6,
          6,
          6,
          6,
          6,
          6,
          6,
          6,
          6,
          6,
          6,
          6,
          6,
          6,
          6,
          6,
          6,
          6,
          6,
          6,
          6,
          6,
          6,
          6,
          6,
          6,
          6,
          6,
          6,
          7,
          7,
          7,
          7,
          7,
          7,
          7,
          7,
          7,
          7,
          7,
          7,
          7,
          7,
          7,
          7,
          7,
          7,
          7,
          7,
          7,
          7,
          7,
          7,
          7,
          7,
          7,
          7,
          7,
          7,
          7,
          8,
          8,
          8,
          8,
          8,
          8,
          8,
          8,
          8,
          8,
          8,
          8,
          8,
          8,
          8,
          8,
          8,
          8,
          8,
          8,
          8,
          8,
          8,
          8,
          8,
          8,
          8,
          8,
          8,
          8,
          8,
          9,
          9,
          9,
          9,
          9,
          9,
          9,
          9,
          9,
          9,
          9,
          9,
          9,
          9,
          9,
          9,
          9,
          9,
          9,
          9,
          9,
          9,
          9,
          9,
          9,
          9,
          9,
          9,
          9,
          9,
          10,
          10,
          10,
          10,
          10,
          10,
          10,
          10,
          10,
          10,
          10,
          10,
          10,
          10,
          10,
          10,
          10,
          10,
          10,
          10,
          10,
          10,
          10,
          10,
          10,
          10,
          10,
          10,
          10,
          10,
          10,
          11,
          11,
          11,
          11,
          11,
          11,
          11,
          11,
          11,
          11,
          11,
          11,
          11,
          11,
          11,
          11,
          11,
          11,
          11,
          11,
          11,
          11,
          11,
          11,
          11,
          11,
          11,
          11,
          11,
          11,
          12,
          12,
          12,
          12,
          12,
          12,
          12,
          12,
          12,
          12,
          12,
          12,
          12,
          12,
          12,
          12,
          12,
          12,
          12,
          12,
          12,
          12,
          12,
          12,
          12,
          12,
          12,
          12,
          12,
          12,
          12,
          1,
          1,
          1,
          1,
          1,
          1,
          1,
          1,
          1,
          1,
          1,
          1,
          1,
          1,
          1,
          1,
          1,
          1,
          1,
          1,
          1,
          1,
          1,
          1,
          1,
          1,
          1,
          1,
          1,
          1,
          1,
          2,
          2,
          2,
          2,
          2,
          2,
          2,
          2,
          2,
          2,
          2,
          2,
          2,
          2,
          2,
          2,
          2,
          2,
          2,
          2,
          2,
          2,
          2,
          2,
          2,
          2,
          2,
          2,
          3,
          3,
          3,
          3,
          3,
          3,
          3,
          3,
          3,
          3,
          3,
          3,
          3,
          3,
          3,
          3,
          3,
          3,
          3,
          3,
          3,
          3,
          3,
          3,
          3,
          3,
          3,
          3,
          3,
          3,
          3,
          4,
          4,
          4,
          4,
          4,
          4,
          4,
          4,
          4,
          4,
          4,
          4,
          4,
          4,
          4,
          4,
          4,
          4,
          4,
          4,
          4,
          4,
          4,
          4,
          4,
          4,
          4,
          4,
          4,
          4,
          5,
          5,
          5,
          5,
          5,
          5,
          5,
          5,
          5,
          5,
          5,
          5,
          5,
          5,
          5,
          5,
          5,
          5,
          5,
          5,
          5,
          5,
          5,
          5,
          5,
          5,
          5,
          5,
          5,
          5,
          5,
          6,
          6,
          6,
          6,
          6,
          6,
          6,
          6,
          6,
          6,
          6,
          6,
          6,
          6,
          6,
          6,
          6,
          6,
          6,
          6,
          6,
          6,
          6,
          6,
          6,
          6,
          6,
          6,
          6,
          6,
          7,
          7,
          7,
          7,
          7,
          7,
          7,
          7,
          7,
          7,
          7,
          7,
          7,
          7,
          7,
          7,
          7,
          7,
          7,
          7,
          7,
          7,
          7,
          7,
          7,
          7,
          7,
          7,
          7,
          7,
          7,
          8,
          8,
          8,
          8,
          8,
          8,
          8,
          8,
          8,
          8,
          8,
          8,
          8,
          8,
          8,
          8,
          8,
          8,
          8,
          8,
          8,
          8,
          8,
          8,
          8,
          8,
          8,
          8,
          8,
          8,
          8,
          9,
          9,
          9,
          9,
          9,
          9,
          9,
          9,
          9,
          9,
          9,
          9,
          9,
          9,
          9,
          9,
          9,
          9,
          9,
          9,
          9,
          9,
          9,
          9,
          9,
          9,
          9,
          9,
          9,
          9,
          10,
          10,
          10,
          10,
          10,
          10,
          10,
          10,
          10,
          10,
          10,
          10,
          10,
          10,
          10,
          10,
          10,
          10,
          10,
          10,
          10,
          10,
          10,
          10,
          10,
          10,
          10,
          10,
          10,
          10,
          10,
          11,
          11,
          11,
          11,
          11,
          11,
          11,
          11,
          11,
          11,
          11,
          11,
          11,
          11,
          11,
          11,
          11,
          11,
          11,
          11,
          11,
          11,
          11,
          11,
          11,
          11,
          11,
          11,
          11,
          11,
          12,
          12,
          12,
          12,
          12,
          12,
          12,
          12,
          12,
          12,
          12,
          12,
          12,
          12,
          12,
          12,
          12,
          12,
          12,
          12,
          12,
          12,
          12,
          12,
          12,
          12,
          12,
          12,
          12,
          12,
          12,
          1,
          1,
          1,
          1,
          1,
          1,
          1,
          1,
          1,
          1,
          1,
          1,
          1,
          1,
          1,
          1,
          1,
          1,
          1,
          1,
          1,
          1,
          1,
          1,
          1,
          1,
          1,
          1,
          1,
          1,
          1,
          2,
          2,
          2,
          2,
          2,
          2,
          2,
          2,
          2,
          2,
          2,
          2,
          2,
          2,
          2,
          2,
          2,
          2,
          2,
          2,
          2,
          2,
          2,
          2,
          2,
          2,
          2,
          2,
          2,
          3,
          3,
          3,
          3,
          3,
          3,
          3,
          3,
          3,
          3,
          3,
          3,
          3,
          3,
          3,
          3,
          3,
          3,
          3,
          3,
          3,
          3,
          3,
          3,
          3,
          3,
          3,
          3,
          3,
          3,
          3,
          4,
          4,
          4,
          4,
          4,
          4,
          4,
          4,
          4,
          4,
          4,
          4,
          4,
          4,
          4,
          4,
          4,
          4,
          4,
          4,
          4,
          4,
          4,
          4,
          4,
          4,
          4,
          4,
          4,
          4,
          5,
          5,
          5,
          5,
          5,
          5,
          5,
          5,
          5,
          5,
          5,
          5,
          5,
          5,
          5,
          5,
          5,
          5,
          5,
          5,
          5,
          5,
          5,
          5,
          5,
          5,
          5,
          5,
          5,
          5,
          5,
          6,
          6,
          6,
          6,
          6,
          6,
          6,
          6,
          6,
          6,
          6,
          6,
          6,
          6,
          6,
          6,
          6,
          6,
          6,
          6,
          6,
          6,
          6,
          6,
          6,
          6,
          6,
          6,
          6,
          6,
          7,
          7,
          7,
          7,
          7,
          7,
          7,
          7,
          7,
          7,
          7,
          7,
          7,
          7,
          7,
          7,
          7,
          7,
          7,
          7,
          7,
          7,
          7,
          7,
          7,
          7,
          7,
          7,
          7,
          7,
          7,
          8,
          8,
          8,
          8,
          8,
          8,
          8,
          8,
          8,
          8,
          8,
          8,
          8,
          8,
          8,
          8,
          8,
          8,
          8,
          8,
          8,
          8,
          8,
          8,
          8,
          8,
          8,
          8,
          8,
          8,
          8,
          9,
          9,
          9,
          9,
          9,
          9,
          9,
          9,
          9,
          9,
          9,
          9,
          9,
          9,
          9,
          9,
          9,
          9,
          9,
          9,
          9,
          9,
          9,
          9,
          9,
          9,
          9,
          9,
          9,
          9,
          10,
          10,
          10,
          10,
          10,
          10,
          10,
          10,
          10,
          10,
          10,
          10,
          10,
          10,
          10,
          10,
          10,
          10,
          10,
          10,
          10,
          10,
          10,
          10,
          10,
          10,
          10,
          10,
          10,
          10,
          10,
          11,
          11,
          11,
          11,
          11,
          11,
          11,
          11,
          11,
          11,
          11,
          11,
          11,
          11,
          11,
          11,
          11,
          11,
          11,
          11,
          11,
          11,
          11,
          11,
          11,
          11,
          11,
          11,
          11,
          11,
          12,
          12,
          12,
          12,
          12,
          12,
          12,
          12,
          12,
          12,
          12,
          12,
          12,
          12,
          12,
          12,
          12,
          12,
          12,
          12,
          12,
          12,
          12,
          12,
          12,
          12,
          12,
          12,
          12,
          12,
          12,
          1,
          1,
          1,
          1,
          1,
          1,
          1,
          1,
          1,
          1,
          1,
          1,
          1,
          1,
          1,
          1,
          1,
          1,
          1,
          1,
          1,
          1,
          1,
          1,
          1,
          1,
          1,
          1,
          1,
          1,
          1,
          2,
          2,
          2,
          2,
          2,
          2,
          2,
          2,
          2,
          2,
          2,
          2,
          2,
          2,
          2,
          2,
          2,
          2,
          2,
          2,
          2,
          2,
          2,
          2,
          2,
          2,
          2,
          2,
          3,
          3,
          3,
          3,
          3,
          3,
          3,
          3,
          3,
          3,
          3,
          3,
          3,
          3,
          3,
          3,
          3,
          3,
          3,
          3,
          3,
          3,
          3,
          3,
          3,
          3,
          3,
          3,
          3,
          3,
          3,
          4,
          4,
          4,
          4,
          4,
          4,
          4,
          4,
          4,
          4,
          4,
          4,
          4,
          4,
          4,
          4,
          4,
          4,
          4,
          4,
          4,
          4,
          4,
          4,
          4,
          4,
          4,
          4,
          4,
          4,
          5,
          5,
          5,
          5,
          5,
          5,
          5,
          5,
          5,
          5,
          5,
          5,
          5,
          5,
          5,
          5,
          5,
          5,
          5,
          5,
          5,
          5,
          5,
          5,
          5,
          5,
          5,
          5,
          5,
          5,
          5,
          6,
          6,
          6,
          6,
          6,
          6,
          6,
          6,
          6,
          6,
          6,
          6,
          6,
          6,
          6,
          6,
          6,
          6,
          6,
          6,
          6,
          6,
          6,
          6,
          6,
          6,
          6,
          6,
          6,
          6,
          7,
          7,
          7,
          7,
          7,
          7,
          7,
          7,
          7,
          7,
          7,
          7,
          7,
          7,
          7,
          7,
          7,
          7,
          7,
          7,
          7,
          7,
          7,
          7,
          7,
          7,
          7,
          7,
          7,
          7,
          7,
          8,
          8,
          8,
          8,
          8,
          8,
          8,
          8,
          8,
          8,
          8,
          8,
          8,
          8,
          8,
          8,
          8,
          8,
          8,
          8,
          8,
          8,
          8,
          8,
          8,
          8,
          8,
          8,
          8,
          8,
          8,
          9,
          9,
          9,
          9,
          9,
          9,
          9,
          9,
          9,
          9,
          9,
          9,
          9,
          9,
          9,
          9,
          9,
          9,
          9,
          9,
          9,
          9,
          9,
          9,
          9,
          9,
          9,
          9,
          9,
          9,
          10,
          10,
          10,
          10,
          10,
          10,
          10,
          10,
          10,
          10,
          10,
          10,
          10,
          10,
          10,
          10,
          10,
          10,
          10,
          10,
          10,
          10,
          10,
          10,
          10,
          10,
          10,
          10,
          10,
          10,
          10,
          11,
          11,
          11,
          11,
          11,
          11,
          11,
          11,
          11,
          11,
          11,
          11,
          11,
          11,
          11,
          11,
          11,
          11,
          11,
          11,
          11,
          11,
          11,
          11,
          11,
          11,
          11,
          11,
          11,
          11,
          12,
          12,
          12,
          12,
          12,
          12,
          12,
          12,
          12,
          12,
          12,
          12,
          12,
          12,
          12,
          12,
          12,
          12,
          12,
          12,
          12,
          12,
          12,
          12,
          12,
          12,
          12,
          12,
          12,
          12,
          12,
          1,
          1,
          1,
          1,
          1,
          1,
          1,
          1,
          1,
          1,
          1,
          1,
          1,
          1,
          1,
          1,
          1,
          1,
          1,
          1,
          1,
          1,
          1,
          1,
          1,
          1,
          1,
          1,
          1,
          1,
          1,
          2,
          2,
          2,
          2,
          2,
          2,
          2,
          2,
          2,
          2,
          2,
          2,
          2,
          2,
          2,
          2,
          2,
          2,
          2,
          2,
          2,
          2,
          2,
          2,
          2,
          2,
          2,
          2,
          3,
          3,
          3,
          3,
          3,
          3,
          3,
          3,
          3,
          3,
          3,
          3,
          3,
          3,
          3,
          3,
          3,
          3,
          3,
          3,
          3,
          3,
          3,
          3,
          3,
          3,
          3,
          3,
          3,
          3,
          3,
          4,
          4,
          4,
          4,
          4,
          4,
          4,
          4,
          4,
          4,
          4,
          4,
          4,
          4,
          4,
          4,
          4,
          4,
          4,
          4,
          4,
          4,
          4,
          4,
          4,
          4,
          4,
          4,
          4,
          4,
          5,
          5,
          5,
          5,
          5,
          5,
          5,
          5,
          5,
          5,
          5,
          5,
          5,
          5,
          5,
          5,
          5,
          5,
          5,
          5,
          5,
          5,
          5,
          5,
          5,
          5,
          5,
          5,
          5,
          5,
          5,
          6,
          6,
          6,
          6,
          6,
          6,
          6,
          6,
          6,
          6,
          6,
          6,
          6,
          6,
          6,
          6,
          6,
          6,
          6,
          6,
          6,
          6,
          6,
          6,
          6,
          6,
          6,
          6,
          6,
          6,
          7,
          7,
          7,
          7,
          7,
          7,
          7,
          7,
          7,
          7,
          7,
          7,
          7,
          7,
          7,
          7,
          7,
          7,
          7,
          7,
          7,
          7,
          7,
          7,
          7,
          7,
          7,
          7,
          7,
          7,
          7,
          8,
          8,
          8,
          8,
          8,
          8,
          8,
          8,
          8,
          8,
          8,
          8,
          8,
          8,
          8,
          8,
          8,
          8,
          8,
          8,
          8,
          8,
          8,
          8,
          8,
          8,
          8,
          8,
          8,
          8,
          8,
          9,
          9,
          9,
          9,
          9,
          9,
          9,
          9,
          9,
          9,
          9,
          9,
          9,
          9,
          9,
          9,
          9,
          9,
          9,
          9,
          9,
          9,
          9,
          9,
          9,
          9,
          9,
          9,
          9,
          9,
          10,
          10,
          10,
          10,
          10,
          10,
          10,
          10,
          10,
          10,
          10,
          10,
          10,
          10,
          10,
          10,
          10,
          10,
          10,
          10,
          10,
          10,
          10,
          10,
          10,
          10,
          10,
          10,
          10,
          10,
          10,
          11,
          11,
          11,
          11,
          11,
          11,
          11,
          11,
          11,
          11,
          11,
          11,
          11,
          11,
          11,
          11,
          11,
          11,
          11,
          11,
          11,
          11,
          11,
          11,
          11,
          11,
          11,
          11,
          11,
          11,
          12,
          12,
          12,
          12,
          12,
          12,
          12,
          12,
          12,
          12,
          12,
          12,
          12,
          12,
          12,
          12,
          12,
          12,
          12,
          12,
          12,
          12,
          12,
          12,
          12,
          12,
          12,
          12,
          12,
          12,
          12,
          1,
          1,
          1,
          1,
          1,
          1,
          1,
          1,
          1,
          1,
          1,
          1,
          1,
          1,
          1,
          1,
          1,
          1,
          1,
          1,
          1,
          1,
          1,
          1,
          1,
          1,
          1,
          1,
          1,
          1,
          1,
          2,
          2,
          2,
          2,
          2,
          2,
          2,
          2,
          2,
          2,
          2,
          2,
          2,
          2,
          2
         ],
         "x0": " ",
         "xaxis": "x",
         "y": [
          54.7400016784668,
          null,
          null,
          null,
          55.12300109863281,
          55.56700134277344,
          55.33150100708008,
          56.339500427246094,
          null,
          null,
          57.1875,
          55.91450119018555,
          55.23649978637695,
          53.47600173950195,
          53.94599914550781,
          null,
          null,
          54.54650115966797,
          54.75299835205078,
          55.481998443603516,
          56.29999923706055,
          58.00199890136719,
          null,
          null,
          58.224998474121094,
          56.90850067138672,
          57.4744987487793,
          57.479000091552734,
          56.7864990234375,
          null,
          null,
          54.99100112915039,
          54.885501861572266,
          54.54399871826172,
          52.45399856567383,
          51.07849884033203,
          null,
          null,
          52.660499572753906,
          50.255001068115234,
          50.22800064086914,
          51.589500427246094,
          null,
          null,
          null,
          50.32350158691406,
          50.670501708984375,
          51.25699996948242,
          51.390499114990234,
          50.35200119018555,
          null,
          null,
          50.772499084472656,
          51.582000732421875,
          50.99850082397461,
          51.6254997253418,
          51.4635009765625,
          null,
          null,
          51.89899826049805,
          53.70800018310547,
          53.604000091552734,
          54.3849983215332,
          53.64799880981445,
          null,
          null,
          53.372501373291016,
          50.999000549316406,
          51.058998107910156,
          52.00199890136719,
          51.502498626708984,
          null,
          null,
          50.86650085449219,
          51.865501403808594,
          51.21900177001953,
          51.18600082397461,
          52.410499572753906,
          null,
          null,
          52.739498138427734,
          52.695499420166016,
          54.13800048828125,
          54.878501892089844,
          54.91299819946289,
          null,
          null,
          55.0099983215332,
          53.96149826049805,
          54.0885009765625,
          53.929500579833984,
          53.31800079345703,
          null,
          null,
          53.979000091552734,
          53.48649978637695,
          53.984500885009766,
          53.96200180053711,
          53.78300094604492,
          null,
          null,
          null,
          53.01599884033203,
          53.38999938964844,
          54.2495002746582,
          55.974998474121094,
          null,
          null,
          56.964500427246094,
          56.983001708984375,
          56.84400177001953,
          56.19300079345703,
          56.04349899291992,
          null,
          null,
          56.4995002746582,
          56.965999603271484,
          56.739498138427734,
          57.60599899291992,
          57.612998962402344,
          null,
          null,
          58.67300033569336,
          58.40299987792969,
          58.492000579833984,
          57.882999420166016,
          57.77399826049805,
          null,
          null,
          56.240501403808594,
          55.92300033569336,
          55.19900131225586,
          55.71099853515625,
          55.782501220703125,
          null,
          null,
          56.37300109863281,
          55.144500732421875,
          null,
          56.2135009765625,
          57.00849914550781,
          null,
          null,
          57.70249938964844,
          57.641998291015625,
          57.69499969482422,
          59.17399978637695,
          59.441001892089844,
          null,
          null,
          59.19300079345703,
          59.939998626708984,
          59.79399871826172,
          59.347999572753906,
          59.24549865722656,
          null,
          null,
          60.275001525878906,
          62.40399932861328,
          63.185001373291016,
          63.416500091552734,
          61.92499923706055,
          null,
          null,
          60.98699951171875,
          60.862998962402344,
          61.0004997253418,
          61.307498931884766,
          61.18550109863281,
          null,
          null,
          61.23849868774414,
          62.111000061035156,
          62.28049850463867,
          62.45500183105469,
          61.88050079345703,
          null,
          null,
          61.7504997253418,
          62.10499954223633,
          60.71900177001953,
          60.324501037597656,
          60.04800033569336,
          null,
          null,
          60.38850021362305,
          60.08100128173828,
          60.36650085449219,
          60.26900100708008,
          61.032501220703125,
          null,
          null,
          62.090999603271484,
          61.557498931884766,
          62.46500015258789,
          61.95600128173828,
          60.90950012207031,
          null,
          null,
          null,
          59.849998474121094,
          59.32400131225586,
          58.571998596191406,
          58.24150085449219,
          null,
          null,
          58.231998443603516,
          58.86800003051758,
          58.14099884033203,
          58.76649856567383,
          58.62649917602539,
          null,
          null,
          57.8025016784668,
          58.06100082397461,
          58.554500579833984,
          59.34349822998047,
          58.304500579833984,
          null,
          null,
          58.66849899291992,
          59.23249816894531,
          59.02450180053711,
          59.731998443603516,
          59.673500061035156,
          null,
          null,
          59.765499114990234,
          60.00550079345703,
          60.147499084472656,
          58.40950012207031,
          57.86750030517578,
          null,
          null,
          57.44850158691406,
          56.941001892089844,
          54.06100082397461,
          53.965999603271484,
          55.50400161743164,
          null,
          null,
          54.61249923706055,
          56.06399917602539,
          55.78450012207031,
          54.39849853515625,
          54.823001861572266,
          null,
          null,
          55.05799865722656,
          55.18450164794922,
          52.535499572753906,
          54.778499603271484,
          53.57350158691406,
          null,
          null,
          51.00400161743164,
          51.81050109863281,
          53.8385009765625,
          53.5,
          52.88949966430664,
          null,
          null,
          52.00450134277344,
          52.79050064086914,
          54.669498443603516,
          54.119998931884766,
          53.307498931884766,
          null,
          null,
          51.93149948120117,
          51.8025016784668,
          52.18299865722656,
          53.23550033569336,
          53.074501037597656,
          null,
          null,
          51,
          51.28799819946289,
          51.88050079345703,
          null,
          51.194000244140625,
          null,
          null,
          52.430999755859375,
          52.22050094604492,
          54.311500549316406,
          54.415000915527344,
          54.721500396728516,
          null,
          null,
          55.32149887084961,
          52.54100036621094,
          null,
          53.436500549316406,
          51.82899856567383,
          null,
          null,
          51.977500915527344,
          52.587501525878906,
          53.183998107910156,
          53.095001220703125,
          52.10499954223633,
          null,
          null,
          50.826499938964844,
          51.43550109863281,
          51.1505012512207,
          50.47050094604492,
          48.97700119018555,
          null,
          null,
          48.81100082397461,
          null,
          51.972999572753906,
          52.194000244140625,
          51.854000091552734,
          null,
          null,
          51.78049850463867,
          null,
          52.29249954223633,
          50.803001403808594,
          53.535499572753906,
          null,
          null,
          53.419498443603516,
          53.81399917602539,
          53.733001708984375,
          53.51649856567383,
          52.859500885009766,
          null,
          null,
          52.234500885009766,
          53.85749816894531,
          54.048500061035156,
          54.494998931884766,
          54.91299819946289,
          null,
          null,
          null,
          53.5260009765625,
          53.778499603271484,
          53.69499969482422,
          54.54949951171875,
          null,
          null,
          53.50400161743164,
          53.03099822998047,
          54.452999114990234,
          55.81850051879883,
          55.537498474121094,
          null,
          null,
          56.63999938964844,
          57.29949951171875,
          55.76150131225586,
          54.93550109863281,
          54.75299835205078,
          null,
          null,
          54.7504997253418,
          56.06850051879883,
          56.007999420166016,
          56.083499908447266,
          55.682498931884766,
          null,
          null,
          null,
          55.928001403808594,
          55.689998626708984,
          54.8484992980957,
          55.51850128173828,
          null,
          null,
          55.470001220703125,
          55.756500244140625,
          55.8025016784668,
          55.99599838256836,
          57.04949951171875,
          null,
          null,
          57.38999938964844,
          58.10150146484375,
          57.893001556396484,
          57.165000915527344,
          57.11600112915039,
          null,
          null,
          58.78799819946289,
          59.65999984741211,
          59.66600036621094,
          59.27750015258789,
          59.222999572753906,
          null,
          null,
          59.2130012512207,
          59.942501068115234,
          61.19850158691406,
          61.57699966430664,
          60.275001525878906,
          null,
          null,
          59.650001525878906,
          59.23099899291992,
          58.6510009765625,
          58.42449951171875,
          58.66550064086914,
          null,
          null,
          59.721500396728516,
          60.02450180053711,
          60.29600143432617,
          60.75,
          60.35749816894531,
          null,
          null,
          60.19200134277344,
          59.86249923706055,
          60.108001708984375,
          60.23099899291992,
          60.89350128173828,
          null,
          null,
          61.05500030517578,
          61.35649871826172,
          61.81700134277344,
          61.81850051879883,
          null,
          null,
          null,
          62.44200134277344,
          63.227500915527344,
          62.79999923706055,
          63.17250061035156,
          63.60900115966797,
          null,
          null,
          64.37899780273438,
          59.42399978637695,
          58.40399932861328,
          58.13050079345703,
          59.27000045776367,
          null,
          null,
          59.46950149536133,
          58.70500183105469,
          58.313499450683594,
          58.11899948120117,
          58.2135009765625,
          null,
          null,
          56.60150146484375,
          56.02199935913086,
          58.21049880981445,
          58.94900131225586,
          58.1150016784668,
          null,
          null,
          56.942501068115234,
          57.48149871826172,
          57.57099914550781,
          57.03850173950195,
          56.673500061035156,
          null,
          null,
          null,
          56.70750045776367,
          55.823001861572266,
          55.897499084472656,
          55.18149948120117,
          null,
          null,
          51.811500549316406,
          52.65250015258789,
          52.111000061035156,
          52.21699905395508,
          53.301998138427734,
          null,
          null,
          54.01900100708008,
          53.93600082397461,
          53.85150146484375,
          54.438499450683594,
          54.26750183105469,
          null,
          null,
          54.625,
          55.18000030517578,
          55.11650085449219,
          55.57099914550781,
          56.09400177001953,
          null,
          null,
          55.7760009765625,
          54.317501068115234,
          53.9900016784668,
          53.800498962402344,
          54.045501708984375,
          null,
          null,
          54.897499084472656,
          55.5625,
          56.07899856567383,
          null,
          56.579498291015625,
          null,
          null,
          55.817501068115234,
          56.24150085449219,
          57.02399826049805,
          57.21049880981445,
          57.244998931884766,
          null,
          null,
          57.516998291015625,
          57.67900085449219,
          57.317501068115234,
          57.31650161743164,
          56.505001068115234,
          null,
          null,
          56.903499603271484,
          57.31050109863281,
          56.890499114990234,
          56.60599899291992,
          62.52050018310547,
          null,
          null,
          61.97050094604492,
          61.25699996948242,
          60.83399963378906,
          60.45050048828125,
          59.699501037597656,
          null,
          null,
          57.61600112915039,
          58.497501373291016,
          58.699501037597656,
          60.2400016784668,
          59.4005012512207,
          null,
          null,
          58.73550033569336,
          59.86349868774414,
          58.214500427246094,
          58.362998962402344,
          58.880001068115234,
          null,
          null,
          59.92250061035156,
          59.134498596191406,
          59.5625,
          59.47650146484375,
          57.56449890136719,
          null,
          null,
          58.44449996948242,
          58.391998291015625,
          58.55099868774414,
          59.64250183105469,
          59.404998779296875,
          null,
          null,
          null,
          58.419498443603516,
          59.070499420166016,
          60.569000244140625,
          60.246498107910156,
          null,
          null,
          60.22050094604492,
          60.29999923706055,
          61.00849914550781,
          61.712501525878906,
          61.97800064086914,
          null,
          null,
          61.564998626708984,
          61.45750045776367,
          61.62049865722656,
          61.93550109863281,
          61.496498107910156,
          null,
          null,
          61.701499938964844,
          60.9379997253418,
          62.32600021362305,
          62.06949996948242,
          61.25450134277344,
          null,
          null,
          60.95000076293945,
          60.255001068115234,
          58.83150100708008,
          59.39149856567383,
          60.45000076293945,
          null,
          null,
          60.38399887084961,
          59.45650100708008,
          60.115501403808594,
          60.43349838256836,
          60.772499084472656,
          null,
          null,
          60.856998443603516,
          62.1505012512207,
          62.18199920654297,
          62.653499603271484,
          62.27450180053711,
          null,
          null,
          62.307498931884766,
          62.13999938964844,
          62.95650100708008,
          63.04949951171875,
          63.256500244140625,
          null,
          null,
          64.5,
          63.13100051879883,
          63.06449890136719,
          63.00550079345703,
          63.6870002746582,
          null,
          null,
          64.56849670410156,
          64.60150146484375,
          64.58999633789062,
          65.44300079345703,
          65.56849670410156,
          null,
          null,
          64.95950317382812,
          64.94000244140625,
          64.9000015258789,
          65.572998046875,
          66.74349975585938,
          null,
          null,
          66.03500366210938,
          65.77300262451172,
          65.15249633789062,
          65.06749725341797,
          64.76699829101562,
          null,
          null,
          65.33450317382812,
          65.67749786376953,
          65.64949798583984,
          null,
          65.24800109863281,
          null,
          null,
          64.49600219726562,
          64.76399993896484,
          66.0270004272461,
          66.40650177001953,
          67.03099822998047,
          null,
          null,
          67.1780014038086,
          67.23300170898438,
          67.2509994506836,
          67.51349639892578,
          67.3915023803711,
          null,
          null,
          68.05850219726562,
          67.75599670410156,
          67.63099670410156,
          67.802001953125,
          67.47949981689453,
          null,
          null,
          67.44200134277344,
          67.1780014038086,
          null,
          68.0199966430664,
          67.59449768066406,
          null,
          null,
          66.80699920654297,
          66.85099792480469,
          null,
          68.36849975585938,
          68.03299713134766,
          null,
          null,
          69.71050262451172,
          69.66699981689453,
          70.21600341796875,
          70.99150085449219,
          71.48650360107422,
          null,
          null,
          71.96150207519531,
          71.54399871826172,
          71.95999908447266,
          72.58499908447266,
          74.01950073242188,
          null,
          null,
          null,
          74.22000122070312,
          74.29750061035156,
          74.3324966430664,
          73.33550262451172,
          null,
          null,
          71.69499969482422,
          72.62799835205078,
          72.93150329589844,
          72.79199981689453,
          71.71150207519531,
          null,
          null,
          74.2969970703125,
          72.35350036621094,
          72.4114990234375,
          73.8115005493164,
          73.96150207519531,
          null,
          null,
          75.43399810791016,
          75.43949890136719,
          75.91349792480469,
          75.73300170898438,
          76.03700256347656,
          null,
          null,
          null,
          75.9834976196289,
          76.33450317382812,
          75.90750122070312,
          74.25550079345703,
          null,
          null,
          71.07949829101562,
          69.42250061035156,
          69.65899658203125,
          65.90450286865234,
          66.96649932861328,
          null,
          null,
          69.45549774169922,
          67.06950378417969,
          69.32599639892578,
          65.9520034790039,
          64.92050170898438,
          null,
          null,
          60.77799987792969,
          64.01950073242188,
          60.77050018310547,
          55.74549865722656,
          60.98649978637695,
          null,
          null,
          54.21649932861328,
          55.9900016784668,
          54.84000015258789,
          55.76449966430664,
          53.61600112915039,
          null,
          null,
          52.83100128173828,
          56.722999572753906,
          55.1245002746582,
          58.087501525878906,
          55.535499572753906,
          null,
          null,
          57.340999603271484,
          58.140499114990234,
          55.28099822998047,
          56.04199981689453,
          54.89400100708008,
          null,
          null,
          59.34600067138672,
          59.32550048828125,
          60.513999938964844,
          60.5724983215332,
          null,
          null,
          null,
          60.87799835205078,
          63.46149826049805,
          63.12350082397461,
          63.173500061035156,
          64.1624984741211,
          null,
          null,
          63.330501556396484,
          60.81700134277344,
          63.160499572753906,
          63.81549835205078,
          63.96549987792969,
          null,
          null,
          63.79399871826172,
          61.68349838256836,
          67.0739974975586,
          67.43299865722656,
          66.03050231933594,
          null,
          null,
          66.33999633789062,
          67.55549621582031,
          67.36499786376953,
          68.62799835205078,
          69.41850280761719,
          null,
          null,
          70.16300201416016,
          68.78700256347656,
          67.46649932861328,
          67.80650329589844,
          68.65950012207031,
          null,
          null,
          69.1969985961914,
          68.67424774169922,
          70.33599853515625,
          70.13999938964844,
          70.52100372314453,
          null,
          null,
          null,
          70.85099792480469,
          70.89199829101562,
          70.83650207519531,
          71.44599914550781,
          null,
          null,
          71.59100341796875,
          71.96099853515625,
          71.81900024414062,
          70.60900115966797,
          71.91950225830078,
          null,
          null,
          72.33049774169922,
          72.80799865722656,
          73.2925033569336,
          70.19200134277344,
          70.65899658203125,
          null,
          null,
          70.99250030517578,
          72.13600158691406,
          72.55599975585938,
          71.7979965209961,
          71.58599853515625,
          null,
          null,
          72.59300231933594,
          73.22049713134766,
          71.59850311279297,
          72.06649780273438,
          67.99500274658203,
          null,
          null,
          69.74849700927734,
          70.68049621582031,
          71.9020004272461,
          73.23500061035156,
          null,
          null,
          null,
          74.78500366210938,
          74.25900268554688,
          74.80000305175781,
          75.54949951171875,
          77.08699798583984,
          null,
          null,
          75.56700134277344,
          76.02899932861328,
          75.68199920654297,
          75.9000015258789,
          75.77749633789062,
          null,
          null,
          78.28600311279297,
          77.9209976196289,
          78.42449951171875,
          75.78399658203125,
          75.59349822998047,
          null,
          null,
          76.51000213623047,
          75.01699829101562,
          76.10099792480469,
          76.57250213623047,
          74.14800262451172,
          null,
          null,
          73.72250366210938,
          73.24849700927734,
          73.68049621582031,
          75.00499725341797,
          74.72450256347656,
          null,
          null,
          74.80500030517578,
          74.01599884033203,
          75.33100128173828,
          75.92250061035156,
          75.3864974975586,
          null,
          null,
          75.89900207519531,
          77.93000030517578,
          77.37650299072266,
          79.0875015258789,
          79.02100372314453,
          null,
          null,
          79.41000366210938,
          80.41100311279297,
          82.61900329589844,
          81.71649932861328,
          82.22049713134766,
          null,
          null,
          81.70899963378906,
          83.0354995727539,
          86.41400146484375,
          82.09200286865234,
          79.552001953125,
          null,
          null,
          null,
          76.61949920654297,
          77.8479995727539,
          76.60099792480469,
          76.03600311279297,
          null,
          null,
          75.96399688720703,
          77.0719985961914,
          76.04499816894531,
          74.77649688720703,
          72.99949645996094,
          null,
          null,
          71.55799865722656,
          73.27300262451172,
          70.760498046875,
          71.41449737548828,
          72.24800109863281,
          null,
          null,
          73.22599792480469,
          73.46649932861328,
          73.4800033569336,
          74.50450134277344,
          72.9209976196289,
          null,
          null,
          74.3010025024414,
          72.6719970703125,
          73.0145034790039,
          74.29650115966797,
          75.76100158691406,
          null,
          null,
          78.4574966430664,
          78.58399963378906,
          78.40399932861328,
          77.95649719238281,
          78.65049743652344,
          null,
          null,
          76.73049926757812,
          77.79650115966797,
          79.66549682617188,
          80.7665023803711,
          82.05000305175781,
          null,
          null,
          79.52249908447266,
          80.21299743652344,
          75.83100128173828,
          78.36199951171875,
          81.05049896240234,
          null,
          null,
          81.30149841308594,
          82.510498046875,
          87.45649719238281,
          88.16850280761719,
          88.0875015258789,
          null,
          null,
          88.1500015258789,
          87.01950073242188,
          87.635498046875,
          87.49199676513672,
          88.85099792480469,
          null,
          null,
          89.06900024414062,
          88.50749969482422,
          87.33899688720703,
          88.19599914550781,
          87.1094970703125,
          null,
          null,
          86.74299621582031,
          88.44400024414062,
          88.57150268554688,
          null,
          89.65950012207031,
          null,
          null,
          88.03700256347656,
          89.90499877929688,
          91.39749908447266,
          91.3385009765625,
          91.39949798583984,
          null,
          null,
          90.9739990234375,
          90.92749786376953,
          89.20649719238281,
          88.7665023803711,
          89.0885009765625,
          null,
          null,
          88.00299835205078,
          88.38849639892578,
          88.1500015258789,
          87.3949966430664,
          86.55049896240234,
          null,
          null,
          86.96849822998047,
          86.17500305175781,
          86.61900329589844,
          86.94249725341797,
          null,
          null,
          null,
          88.80449676513672,
          87.93599700927734,
          86.97599792480469,
          87.59400177001953,
          null,
          null,
          null,
          86.41200256347656,
          87.0459976196289,
          86.7645034790039,
          89.36250305175781,
          90.3604965209961,
          null,
          null,
          88.33599853515625,
          87.32749938964844,
          87.72000122070312,
          87.00900268554688,
          86.80950164794922,
          null,
          null,
          null,
          89.54299926757812,
          94.34500122070312,
          94.5625,
          95.05249786376953,
          null,
          null,
          94.97000122070312,
          95.86199951171875,
          91.53949737548828,
          93.15550231933594,
          91.78700256347656,
          null,
          null,
          95.06749725341797,
          96.37550354003906,
          103.50350189208984,
          103.11849975585938,
          104.9000015258789,
          null,
          null,
          104.64550018310547,
          104.17549896240234,
          104.76899719238281,
          104.79450225830078,
          105.20549774169922,
          null,
          null,
          null,
          106.09500122070312,
          106.41549682617188,
          105.86000061035156,
          105.05699920654297,
          null,
          null,
          103.24400329589844,
          103.54299926757812,
          104.75849914550781,
          101.56800079345703,
          101.84300231933594,
          null,
          null,
          104.07550048828125,
          103.79199981689453,
          101.33550262451172,
          102.45449829101562,
          105.427001953125,
          null,
          null,
          101.20850372314453,
          102.63500213623047,
          102.75150299072266,
          105.7385025024414,
          103.09600067138672,
          null,
          null,
          103.32450103759766,
          104.6259994506836,
          104.55400085449219,
          101.81099700927734,
          102.16000366210938,
          null,
          null,
          101.92949676513672,
          102.64800262451172,
          102.25299835205078,
          102.21800231933594,
          101.77749633789062,
          null,
          null,
          102.79750061035156,
          102.7770004272461,
          103.43150329589844,
          106.88749694824219,
          null,
          null,
          null,
          111.27749633789062,
          111.23750305175781,
          112.48400115966797,
          113.27200317382812,
          114.29399871826172,
          null,
          null,
          112.739501953125,
          113.3635025024414,
          112.74199676513672,
          114.83300018310547,
          114.88800048828125,
          null,
          null,
          115.12000274658203,
          114.68150329589844,
          114.66449737548828,
          113.39600372314453,
          115.76499938964844,
          null,
          null,
          116.33699798583984,
          115.35600280761719,
          118.99549865722656,
          121.49449920654297,
          120.50599670410156,
          null,
          null,
          119.75849914550781,
          117.7125015258789,
          117.83699798583984,
          119.06749725341797,
          119.93450164794922,
          null,
          null,
          117.08300018310547,
          115.43800354003906,
          111.9540023803711,
          113.09850311279297,
          115.80799865722656,
          null,
          null,
          116.07050323486328,
          115.17150115966797,
          115.43550109863281,
          117.80449676513672,
          117.25499725341797,
          null,
          null,
          120.33350372314453,
          120.45349884033203,
          121.67649841308594,
          120.12550354003906,
          120.5780029296875,
          null,
          null,
          null,
          121.4905014038086,
          121.06400299072266,
          120.23049926757812,
          122.58799743652344,
          null,
          null,
          123.30449676513672,
          124.14250183105469,
          124.56999969482422,
          126.08000183105469,
          125.69650268554688,
          null,
          null,
          126.35199737548828,
          126.03299713134766,
          125.69650268554688,
          126.37100219726562,
          125.56749725341797,
          null,
          null,
          126.45500183105469,
          126.99949645996094,
          126.46150207519531,
          127.28199768066406,
          126.99500274658203,
          null,
          null,
          126.81950378417969,
          126.01850128173828,
          125.31600189208984,
          126.36849975585938,
          128.718994140625,
          null,
          null,
          null,
          129.77099609375,
          130.07749938964844,
          129.177001953125,
          129.57449340820312,
          null,
          null,
          130.56399536132812,
          130.9945068359375,
          132.08250427246094,
          131.26649475097656,
          131.8455047607422,
          null,
          null,
          129.25399780273438,
          131.10150146484375,
          132.60049438476562,
          133.32850646972656,
          137.8159942626953,
          null,
          null,
          139.64450073242188,
          136.79649353027344,
          136.38150024414062,
          136.54049682617188,
          135.2209930419922,
          null,
          null,
          135.989501953125,
          136.27999877929688,
          136.02850341796875,
          136.94000244140625,
          137.03599548339844,
          null,
          null,
          138.0019989013672,
          138.09649658203125,
          137.6894989013672,
          138.38949584960938,
          138.406005859375,
          null,
          null,
          138.91600036621094,
          137.30050659179688,
          136.57000732421875,
          136.9134979248047,
          138.43699645996094,
          null,
          null,
          141.09950256347656,
          142.39849853515625,
          142.9499969482422,
          142.1230010986328,
          144.55050659179688,
          null,
          null,
          145.46949768066406,
          145.46200561523438,
          145.8419952392578,
          144.218994140625,
          144.77499389648438,
          null,
          null,
          null,
          145.5189971923828,
          144.8834991455078,
          144.9134979248047,
          141.92100524902344,
          null,
          null,
          143.46499633789062,
          143.406005859375,
          145.20599365234375,
          144.37350463867188,
          141.4635009765625,
          null,
          null,
          139.01699829101562,
          139.64649963378906,
          140.93850708007812,
          141.82650756835938,
          142.63299560546875,
          null,
          null,
          141.50100708007812,
          136.1840057373047,
          134.52099609375,
          133.2655029296875,
          136.46249389648438,
          null,
          null,
          133.76499938964844,
          136.177001953125,
          137.35400390625,
          139.1855010986328,
          140.05599975585938,
          null,
          null,
          138.84750366210938,
          136.71299743652344,
          137.89999389648438,
          141.41200256347656,
          141.6750030517578,
          null,
          null,
          142.9604949951172,
          143.82200622558594,
          142.4149932861328,
          142.78050231933594,
          138.625,
          null,
          null,
          138.7729949951172,
          139.6719970703125,
          146.42750549316406,
          146.12899780273438,
          148.27049255371094,
          null,
          null,
          143.7740020751953,
          145.86300659179688,
          146.7899932861328,
          148.68299865722656,
          149.24099731445312,
          null,
          null,
          149.35150146484375,
          149.24850463867188,
          146.62600708007812,
          146.7480010986328,
          149.64549255371094,
          null,
          null,
          149.38800048828125,
          149.0760040283203,
          149.06199645996094,
          150.70899963378906,
          149.95249938964844,
          null,
          null,
          147.07850646972656,
          146.7570037841797,
          146.71749877929688,
          null,
          142.80599975585938,
          null,
          null,
          146.11399841308594,
          142.45199584960938,
          141.6179962158203,
          143.77650451660156,
          142.52049255371094,
          null,
          null,
          143.79649353027344,
          148.0364990234375,
          148.7205047607422,
          148.1060028076172,
          148.6750030517578,
          null,
          null,
          146.70449829101562,
          144.9705047607422,
          147.36849975585938,
          144.8385009765625,
          142.80299377441406,
          null,
          null,
          142.40150451660156,
          144.2205047607422,
          146.94900512695312,
          147.1425018310547,
          null,
          null,
          null,
          148.06399536132812,
          146.447998046875,
          146.50450134277344,
          146.00250244140625,
          144.67950439453125,
          null,
          null,
          145.07449340820312,
          144.41650390625,
          137.65350341796875,
          137.55099487304688,
          137.00450134277344,
          null,
          null,
          138.57400512695312,
          140.0175018310547,
          141.6479949951172,
          139.13099670410156,
          139.7864990234375,
          null,
          null,
          null,
          136.29049682617188,
          135.65199279785156,
          133.50650024414062,
          130.0919952392578,
          null,
          null,
          130.3719940185547,
          126.7354965209961,
          129.24000549316406,
          129.12100219726562,
          133.2895050048828,
          null,
          null,
          135.69850158691406,
          137.8784942626953,
          148.0364990234375,
          142.65049743652344,
          143.01600646972656,
          null,
          null,
          138.93800354003906,
          139.21299743652344,
          141.4530029296875,
          138.6024932861328,
          134.1300048828125,
          null,
          null,
          135.3000030517578,
          136.42550659179688,
          137.4875030517578,
          132.30850219726562,
          130.46749877929688,
          null,
          null,
          null,
          129.40249633789062,
          127.58499908447266,
          132.67349243164062,
          134.51950073242188,
          null,
          null,
          134.89100646972656,
          134.16799926757812,
          134.75149536132812,
          134.30799865722656,
          132.1219940185547,
          null,
          null,
          126.4645004272461,
          127.27850341796875,
          133.86599731445312,
          132.6820068359375,
          130.47549438476562,
          null,
          null,
          126.74099731445312,
          129.66050720214844,
          133.6905059814453,
          134.60049438476562,
          136.80149841308594,
          null,
          null,
          136.47850036621094,
          140.27749633789062,
          138.5034942626953,
          141.31199645996094,
          141.52149963378906,
          null,
          null,
          141.9499969482422,
          143.25,
          142.64450073242188,
          139.64950561523438,
          140.6999969482422,
          null,
          null,
          143.6425018310547,
          141.06300354003906,
          137.17599487304688,
          136.46499633789062,
          134.010498046875,
          null,
          null,
          129.79649353027344,
          128.37449645996094,
          130.28599548339844,
          127.25299835205078,
          null,
          null,
          null,
          127.96099853515625,
          130.531005859375,
          128.24549865722656,
          124.9375,
          119.61399841308594,
          null,
          null,
          123.25,
          119.50599670410156,
          115.02050018310547,
          119.4114990234375,
          114.96649932861328,
          null,
          null,
          117.15699768066406,
          118.12950134277344,
          122.57499694824219,
          116.74649810791016,
          115.66000366210938,
          null,
          null,
          113.08399963378906,
          114.58450317382812,
          113.96099853515625,
          113.16100311279297,
          116.5155029296875,
          null,
          null,
          114.7925033569336,
          116.70149993896484,
          112.4010009765625,
          110.74549865722656,
          109.31300354003906,
          null,
          null,
          111.66649627685547,
          105.9260025024414,
          105.8395004272461,
          108.2959976196289,
          112.79900360107422,
          null,
          null,
          null,
          114.03900146484375,
          114.13700103759766,
          117.74600219726562,
          114.56400299072266,
          null,
          null,
          117.010498046875,
          117.22949981689453,
          117.23799896240234,
          114.91799926757812,
          111.42749786376953,
          null,
          null,
          106.87650299072266,
          107.19400024414062,
          110.3905029296875,
          106.63600158691406,
          107.8655014038086,
          null,
          null,
          null,
          112.01499938964844,
          112.03399658203125,
          112.68450164794922,
          118.53800201416016,
          null,
          null,
          116.62249755859375,
          112.57150268554688,
          112.25650024414062,
          109.37249755859375,
          109.08100128173828,
          null,
          null,
          null,
          113.88700103759766,
          115.2135009765625,
          119.30599975585938,
          120.16850280761719,
          null,
          null,
          116.52249908447266,
          114.84950256347656,
          112.18699645996094,
          111.44000244140625,
          112.76699829101562,
          null,
          null,
          109.91000366210938,
          114.62000274658203,
          114.69999694824219,
          115.04000091552734,
          108.36000061035156,
          null,
          null,
          108.20999908447266,
          105.44000244140625,
          113.5999984741211,
          114.58999633789062,
          116.63999938964844,
          null,
          null,
          115.4800033569336,
          115.9000015258789,
          118.77999877929688,
          118.87000274658203,
          118.22000122070312,
          null,
          null,
          118.13999938964844,
          117.5,
          120.6500015258789,
          119.81999969482422,
          122.6500015258789,
          null,
          null,
          122.87999725341797,
          122.51000213623047,
          120.31999969482422,
          120.86000061035156,
          118.12000274658203,
          null,
          null,
          115.06999969482422,
          114.7699966430664,
          114.69999694824219,
          117.69999694824219,
          111.30000305175781,
          null,
          null,
          110.33999633789062,
          109.91000366210938,
          109.1500015258789,
          110.55000305175781,
          108.68000030517578,
          null,
          null,
          null,
          107.4800033569336,
          110.4800033569336,
          109.41999816894531,
          111.77999877929688,
          null,
          null,
          111.87000274658203,
          105.30999755859375,
          105.87000274658203,
          103.9000015258789,
          103.62999725341797,
          null,
          null,
          103.8499984741211,
          101.83000183105469,
          100.01000213623047,
          100.56999969482422,
          99.16999816894531,
          null,
          null,
          98.80999755859375,
          98.08999633789062,
          100.73999786376953,
          98.08999633789062,
          96.1500015258789,
          null,
          null,
          99.30000305175781,
          102.41000366210938,
          102.22000122070312,
          102.23999786376953,
          99.56999969482422,
          null,
          null,
          98.70999908447266,
          98.05000305175781,
          98.30000305175781,
          99.70999908447266,
          97.18000030517578,
          null,
          null,
          100.77999877929688,
          101.38999938964844,
          100.29000091552734,
          100.52999877929688,
          101.4800033569336,
          null,
          null,
          102.97000122070312,
          104.93000030517578,
          94.81999969482422,
          92.5999984741211,
          96.58000183105469,
          null,
          null,
          94.66000366210938,
          90.5,
          87.06999969482422,
          83.48999786376953,
          86.69999694824219,
          null,
          null,
          88.6500015258789,
          88.91000366210938,
          87.4000015258789,
          94.16999816894531,
          96.7300033569336,
          null,
          null,
          96.02999877929688,
          98.72000122070312,
          98.98999786376953,
          98.5,
          97.80000305175781,
          null,
          null,
          95.83000183105469,
          97.33000183105469,
          98.81999969482422,
          null,
          97.5999984741211,
          null,
          null,
          96.25,
          95.44000244140625,
          101.44999694824219,
          101.27999877929688,
          100.83000183105469,
          null,
          null,
          99.87000274658203,
          97.30999755859375,
          95.1500015258789,
          93.94999694824219,
          93.06999969482422,
          null,
          null,
          93.55999755859375,
          95.8499984741211,
          95.30999755859375,
          91.19999694824219,
          90.86000061035156,
          null,
          null,
          89.1500015258789,
          89.62999725341797,
          90.25,
          88.26000213623047,
          89.80999755859375,
          null,
          null,
          null,
          87.93000030517578,
          86.45999908447266,
          88.94999694824219,
          88.7300033569336,
          null,
          null,
          null,
          89.69999694824219,
          88.70999908447266,
          86.7699966430664,
          88.16000366210938,
          null,
          null,
          88.80000305175781,
          89.23999786376953,
          92.26000213623047,
          91.91000366210938,
          92.80000305175781,
          null,
          null,
          null,
          92.16000366210938,
          91.77999877929688,
          93.91000366210938,
          99.27999877929688,
          null,
          null,
          101.20999908447266,
          99.20999908447266,
          96.7300033569336,
          99.16000366210938,
          100.70999908447266,
          null,
          null,
          97.94999694824219,
          99.87000274658203,
          101.43000030517578,
          108.80000305175781,
          105.22000122070312,
          null,
          null,
          103.47000122070312,
          108.04000091552734,
          100,
          95.45999908447266,
          94.86000061035156,
          null,
          null,
          95,
          94.94999694824219,
          96.9749984741211
         ],
         "y0": " ",
         "yaxis": "y"
        }
       ],
       "layout": {
        "legend": {
         "tracegroupgap": 0
        },
        "margin": {
         "t": 60
        },
        "template": {
         "data": {
          "bar": [
           {
            "error_x": {
             "color": "rgb(36,36,36)"
            },
            "error_y": {
             "color": "rgb(36,36,36)"
            },
            "marker": {
             "line": {
              "color": "rgb(234,234,242)",
              "width": 0.5
             },
             "pattern": {
              "fillmode": "overlay",
              "size": 10,
              "solidity": 0.2
             }
            },
            "type": "bar"
           }
          ],
          "barpolar": [
           {
            "marker": {
             "line": {
              "color": "rgb(234,234,242)",
              "width": 0.5
             },
             "pattern": {
              "fillmode": "overlay",
              "size": 10,
              "solidity": 0.2
             }
            },
            "type": "barpolar"
           }
          ],
          "carpet": [
           {
            "aaxis": {
             "endlinecolor": "rgb(36,36,36)",
             "gridcolor": "white",
             "linecolor": "white",
             "minorgridcolor": "white",
             "startlinecolor": "rgb(36,36,36)"
            },
            "baxis": {
             "endlinecolor": "rgb(36,36,36)",
             "gridcolor": "white",
             "linecolor": "white",
             "minorgridcolor": "white",
             "startlinecolor": "rgb(36,36,36)"
            },
            "type": "carpet"
           }
          ],
          "choropleth": [
           {
            "colorbar": {
             "outlinewidth": 0,
             "tickcolor": "rgb(36,36,36)",
             "ticklen": 8,
             "ticks": "outside",
             "tickwidth": 2
            },
            "type": "choropleth"
           }
          ],
          "contour": [
           {
            "colorbar": {
             "outlinewidth": 0,
             "tickcolor": "rgb(36,36,36)",
             "ticklen": 8,
             "ticks": "outside",
             "tickwidth": 2
            },
            "colorscale": [
             [
              0,
              "rgb(2,4,25)"
             ],
             [
              0.06274509803921569,
              "rgb(24,15,41)"
             ],
             [
              0.12549019607843137,
              "rgb(47,23,57)"
             ],
             [
              0.18823529411764706,
              "rgb(71,28,72)"
             ],
             [
              0.25098039215686274,
              "rgb(97,30,82)"
             ],
             [
              0.3137254901960784,
              "rgb(123,30,89)"
             ],
             [
              0.3764705882352941,
              "rgb(150,27,91)"
             ],
             [
              0.4392156862745098,
              "rgb(177,22,88)"
             ],
             [
              0.5019607843137255,
              "rgb(203,26,79)"
             ],
             [
              0.5647058823529412,
              "rgb(223,47,67)"
             ],
             [
              0.6274509803921569,
              "rgb(236,76,61)"
             ],
             [
              0.6901960784313725,
              "rgb(242,107,73)"
             ],
             [
              0.7529411764705882,
              "rgb(244,135,95)"
             ],
             [
              0.8156862745098039,
              "rgb(245,162,122)"
             ],
             [
              0.8784313725490196,
              "rgb(246,188,153)"
             ],
             [
              0.9411764705882353,
              "rgb(247,212,187)"
             ],
             [
              1,
              "rgb(250,234,220)"
             ]
            ],
            "type": "contour"
           }
          ],
          "contourcarpet": [
           {
            "colorbar": {
             "outlinewidth": 0,
             "tickcolor": "rgb(36,36,36)",
             "ticklen": 8,
             "ticks": "outside",
             "tickwidth": 2
            },
            "type": "contourcarpet"
           }
          ],
          "heatmap": [
           {
            "colorbar": {
             "outlinewidth": 0,
             "tickcolor": "rgb(36,36,36)",
             "ticklen": 8,
             "ticks": "outside",
             "tickwidth": 2
            },
            "colorscale": [
             [
              0,
              "rgb(2,4,25)"
             ],
             [
              0.06274509803921569,
              "rgb(24,15,41)"
             ],
             [
              0.12549019607843137,
              "rgb(47,23,57)"
             ],
             [
              0.18823529411764706,
              "rgb(71,28,72)"
             ],
             [
              0.25098039215686274,
              "rgb(97,30,82)"
             ],
             [
              0.3137254901960784,
              "rgb(123,30,89)"
             ],
             [
              0.3764705882352941,
              "rgb(150,27,91)"
             ],
             [
              0.4392156862745098,
              "rgb(177,22,88)"
             ],
             [
              0.5019607843137255,
              "rgb(203,26,79)"
             ],
             [
              0.5647058823529412,
              "rgb(223,47,67)"
             ],
             [
              0.6274509803921569,
              "rgb(236,76,61)"
             ],
             [
              0.6901960784313725,
              "rgb(242,107,73)"
             ],
             [
              0.7529411764705882,
              "rgb(244,135,95)"
             ],
             [
              0.8156862745098039,
              "rgb(245,162,122)"
             ],
             [
              0.8784313725490196,
              "rgb(246,188,153)"
             ],
             [
              0.9411764705882353,
              "rgb(247,212,187)"
             ],
             [
              1,
              "rgb(250,234,220)"
             ]
            ],
            "type": "heatmap"
           }
          ],
          "heatmapgl": [
           {
            "colorbar": {
             "outlinewidth": 0,
             "tickcolor": "rgb(36,36,36)",
             "ticklen": 8,
             "ticks": "outside",
             "tickwidth": 2
            },
            "colorscale": [
             [
              0,
              "rgb(2,4,25)"
             ],
             [
              0.06274509803921569,
              "rgb(24,15,41)"
             ],
             [
              0.12549019607843137,
              "rgb(47,23,57)"
             ],
             [
              0.18823529411764706,
              "rgb(71,28,72)"
             ],
             [
              0.25098039215686274,
              "rgb(97,30,82)"
             ],
             [
              0.3137254901960784,
              "rgb(123,30,89)"
             ],
             [
              0.3764705882352941,
              "rgb(150,27,91)"
             ],
             [
              0.4392156862745098,
              "rgb(177,22,88)"
             ],
             [
              0.5019607843137255,
              "rgb(203,26,79)"
             ],
             [
              0.5647058823529412,
              "rgb(223,47,67)"
             ],
             [
              0.6274509803921569,
              "rgb(236,76,61)"
             ],
             [
              0.6901960784313725,
              "rgb(242,107,73)"
             ],
             [
              0.7529411764705882,
              "rgb(244,135,95)"
             ],
             [
              0.8156862745098039,
              "rgb(245,162,122)"
             ],
             [
              0.8784313725490196,
              "rgb(246,188,153)"
             ],
             [
              0.9411764705882353,
              "rgb(247,212,187)"
             ],
             [
              1,
              "rgb(250,234,220)"
             ]
            ],
            "type": "heatmapgl"
           }
          ],
          "histogram": [
           {
            "marker": {
             "pattern": {
              "fillmode": "overlay",
              "size": 10,
              "solidity": 0.2
             }
            },
            "type": "histogram"
           }
          ],
          "histogram2d": [
           {
            "colorbar": {
             "outlinewidth": 0,
             "tickcolor": "rgb(36,36,36)",
             "ticklen": 8,
             "ticks": "outside",
             "tickwidth": 2
            },
            "colorscale": [
             [
              0,
              "rgb(2,4,25)"
             ],
             [
              0.06274509803921569,
              "rgb(24,15,41)"
             ],
             [
              0.12549019607843137,
              "rgb(47,23,57)"
             ],
             [
              0.18823529411764706,
              "rgb(71,28,72)"
             ],
             [
              0.25098039215686274,
              "rgb(97,30,82)"
             ],
             [
              0.3137254901960784,
              "rgb(123,30,89)"
             ],
             [
              0.3764705882352941,
              "rgb(150,27,91)"
             ],
             [
              0.4392156862745098,
              "rgb(177,22,88)"
             ],
             [
              0.5019607843137255,
              "rgb(203,26,79)"
             ],
             [
              0.5647058823529412,
              "rgb(223,47,67)"
             ],
             [
              0.6274509803921569,
              "rgb(236,76,61)"
             ],
             [
              0.6901960784313725,
              "rgb(242,107,73)"
             ],
             [
              0.7529411764705882,
              "rgb(244,135,95)"
             ],
             [
              0.8156862745098039,
              "rgb(245,162,122)"
             ],
             [
              0.8784313725490196,
              "rgb(246,188,153)"
             ],
             [
              0.9411764705882353,
              "rgb(247,212,187)"
             ],
             [
              1,
              "rgb(250,234,220)"
             ]
            ],
            "type": "histogram2d"
           }
          ],
          "histogram2dcontour": [
           {
            "colorbar": {
             "outlinewidth": 0,
             "tickcolor": "rgb(36,36,36)",
             "ticklen": 8,
             "ticks": "outside",
             "tickwidth": 2
            },
            "colorscale": [
             [
              0,
              "rgb(2,4,25)"
             ],
             [
              0.06274509803921569,
              "rgb(24,15,41)"
             ],
             [
              0.12549019607843137,
              "rgb(47,23,57)"
             ],
             [
              0.18823529411764706,
              "rgb(71,28,72)"
             ],
             [
              0.25098039215686274,
              "rgb(97,30,82)"
             ],
             [
              0.3137254901960784,
              "rgb(123,30,89)"
             ],
             [
              0.3764705882352941,
              "rgb(150,27,91)"
             ],
             [
              0.4392156862745098,
              "rgb(177,22,88)"
             ],
             [
              0.5019607843137255,
              "rgb(203,26,79)"
             ],
             [
              0.5647058823529412,
              "rgb(223,47,67)"
             ],
             [
              0.6274509803921569,
              "rgb(236,76,61)"
             ],
             [
              0.6901960784313725,
              "rgb(242,107,73)"
             ],
             [
              0.7529411764705882,
              "rgb(244,135,95)"
             ],
             [
              0.8156862745098039,
              "rgb(245,162,122)"
             ],
             [
              0.8784313725490196,
              "rgb(246,188,153)"
             ],
             [
              0.9411764705882353,
              "rgb(247,212,187)"
             ],
             [
              1,
              "rgb(250,234,220)"
             ]
            ],
            "type": "histogram2dcontour"
           }
          ],
          "mesh3d": [
           {
            "colorbar": {
             "outlinewidth": 0,
             "tickcolor": "rgb(36,36,36)",
             "ticklen": 8,
             "ticks": "outside",
             "tickwidth": 2
            },
            "type": "mesh3d"
           }
          ],
          "parcoords": [
           {
            "line": {
             "colorbar": {
              "outlinewidth": 0,
              "tickcolor": "rgb(36,36,36)",
              "ticklen": 8,
              "ticks": "outside",
              "tickwidth": 2
             }
            },
            "type": "parcoords"
           }
          ],
          "pie": [
           {
            "automargin": true,
            "type": "pie"
           }
          ],
          "scatter": [
           {
            "fillpattern": {
             "fillmode": "overlay",
             "size": 10,
             "solidity": 0.2
            },
            "type": "scatter"
           }
          ],
          "scatter3d": [
           {
            "line": {
             "colorbar": {
              "outlinewidth": 0,
              "tickcolor": "rgb(36,36,36)",
              "ticklen": 8,
              "ticks": "outside",
              "tickwidth": 2
             }
            },
            "marker": {
             "colorbar": {
              "outlinewidth": 0,
              "tickcolor": "rgb(36,36,36)",
              "ticklen": 8,
              "ticks": "outside",
              "tickwidth": 2
             }
            },
            "type": "scatter3d"
           }
          ],
          "scattercarpet": [
           {
            "marker": {
             "colorbar": {
              "outlinewidth": 0,
              "tickcolor": "rgb(36,36,36)",
              "ticklen": 8,
              "ticks": "outside",
              "tickwidth": 2
             }
            },
            "type": "scattercarpet"
           }
          ],
          "scattergeo": [
           {
            "marker": {
             "colorbar": {
              "outlinewidth": 0,
              "tickcolor": "rgb(36,36,36)",
              "ticklen": 8,
              "ticks": "outside",
              "tickwidth": 2
             }
            },
            "type": "scattergeo"
           }
          ],
          "scattergl": [
           {
            "marker": {
             "colorbar": {
              "outlinewidth": 0,
              "tickcolor": "rgb(36,36,36)",
              "ticklen": 8,
              "ticks": "outside",
              "tickwidth": 2
             }
            },
            "type": "scattergl"
           }
          ],
          "scattermapbox": [
           {
            "marker": {
             "colorbar": {
              "outlinewidth": 0,
              "tickcolor": "rgb(36,36,36)",
              "ticklen": 8,
              "ticks": "outside",
              "tickwidth": 2
             }
            },
            "type": "scattermapbox"
           }
          ],
          "scatterpolar": [
           {
            "marker": {
             "colorbar": {
              "outlinewidth": 0,
              "tickcolor": "rgb(36,36,36)",
              "ticklen": 8,
              "ticks": "outside",
              "tickwidth": 2
             }
            },
            "type": "scatterpolar"
           }
          ],
          "scatterpolargl": [
           {
            "marker": {
             "colorbar": {
              "outlinewidth": 0,
              "tickcolor": "rgb(36,36,36)",
              "ticklen": 8,
              "ticks": "outside",
              "tickwidth": 2
             }
            },
            "type": "scatterpolargl"
           }
          ],
          "scatterternary": [
           {
            "marker": {
             "colorbar": {
              "outlinewidth": 0,
              "tickcolor": "rgb(36,36,36)",
              "ticklen": 8,
              "ticks": "outside",
              "tickwidth": 2
             }
            },
            "type": "scatterternary"
           }
          ],
          "surface": [
           {
            "colorbar": {
             "outlinewidth": 0,
             "tickcolor": "rgb(36,36,36)",
             "ticklen": 8,
             "ticks": "outside",
             "tickwidth": 2
            },
            "colorscale": [
             [
              0,
              "rgb(2,4,25)"
             ],
             [
              0.06274509803921569,
              "rgb(24,15,41)"
             ],
             [
              0.12549019607843137,
              "rgb(47,23,57)"
             ],
             [
              0.18823529411764706,
              "rgb(71,28,72)"
             ],
             [
              0.25098039215686274,
              "rgb(97,30,82)"
             ],
             [
              0.3137254901960784,
              "rgb(123,30,89)"
             ],
             [
              0.3764705882352941,
              "rgb(150,27,91)"
             ],
             [
              0.4392156862745098,
              "rgb(177,22,88)"
             ],
             [
              0.5019607843137255,
              "rgb(203,26,79)"
             ],
             [
              0.5647058823529412,
              "rgb(223,47,67)"
             ],
             [
              0.6274509803921569,
              "rgb(236,76,61)"
             ],
             [
              0.6901960784313725,
              "rgb(242,107,73)"
             ],
             [
              0.7529411764705882,
              "rgb(244,135,95)"
             ],
             [
              0.8156862745098039,
              "rgb(245,162,122)"
             ],
             [
              0.8784313725490196,
              "rgb(246,188,153)"
             ],
             [
              0.9411764705882353,
              "rgb(247,212,187)"
             ],
             [
              1,
              "rgb(250,234,220)"
             ]
            ],
            "type": "surface"
           }
          ],
          "table": [
           {
            "cells": {
             "fill": {
              "color": "rgb(231,231,240)"
             },
             "line": {
              "color": "white"
             }
            },
            "header": {
             "fill": {
              "color": "rgb(183,183,191)"
             },
             "line": {
              "color": "white"
             }
            },
            "type": "table"
           }
          ]
         },
         "layout": {
          "annotationdefaults": {
           "arrowcolor": "rgb(67,103,167)"
          },
          "autotypenumbers": "strict",
          "coloraxis": {
           "colorbar": {
            "outlinewidth": 0,
            "tickcolor": "rgb(36,36,36)",
            "ticklen": 8,
            "ticks": "outside",
            "tickwidth": 2
           }
          },
          "colorscale": {
           "sequential": [
            [
             0,
             "rgb(2,4,25)"
            ],
            [
             0.06274509803921569,
             "rgb(24,15,41)"
            ],
            [
             0.12549019607843137,
             "rgb(47,23,57)"
            ],
            [
             0.18823529411764706,
             "rgb(71,28,72)"
            ],
            [
             0.25098039215686274,
             "rgb(97,30,82)"
            ],
            [
             0.3137254901960784,
             "rgb(123,30,89)"
            ],
            [
             0.3764705882352941,
             "rgb(150,27,91)"
            ],
            [
             0.4392156862745098,
             "rgb(177,22,88)"
            ],
            [
             0.5019607843137255,
             "rgb(203,26,79)"
            ],
            [
             0.5647058823529412,
             "rgb(223,47,67)"
            ],
            [
             0.6274509803921569,
             "rgb(236,76,61)"
            ],
            [
             0.6901960784313725,
             "rgb(242,107,73)"
            ],
            [
             0.7529411764705882,
             "rgb(244,135,95)"
            ],
            [
             0.8156862745098039,
             "rgb(245,162,122)"
            ],
            [
             0.8784313725490196,
             "rgb(246,188,153)"
            ],
            [
             0.9411764705882353,
             "rgb(247,212,187)"
            ],
            [
             1,
             "rgb(250,234,220)"
            ]
           ],
           "sequentialminus": [
            [
             0,
             "rgb(2,4,25)"
            ],
            [
             0.06274509803921569,
             "rgb(24,15,41)"
            ],
            [
             0.12549019607843137,
             "rgb(47,23,57)"
            ],
            [
             0.18823529411764706,
             "rgb(71,28,72)"
            ],
            [
             0.25098039215686274,
             "rgb(97,30,82)"
            ],
            [
             0.3137254901960784,
             "rgb(123,30,89)"
            ],
            [
             0.3764705882352941,
             "rgb(150,27,91)"
            ],
            [
             0.4392156862745098,
             "rgb(177,22,88)"
            ],
            [
             0.5019607843137255,
             "rgb(203,26,79)"
            ],
            [
             0.5647058823529412,
             "rgb(223,47,67)"
            ],
            [
             0.6274509803921569,
             "rgb(236,76,61)"
            ],
            [
             0.6901960784313725,
             "rgb(242,107,73)"
            ],
            [
             0.7529411764705882,
             "rgb(244,135,95)"
            ],
            [
             0.8156862745098039,
             "rgb(245,162,122)"
            ],
            [
             0.8784313725490196,
             "rgb(246,188,153)"
            ],
            [
             0.9411764705882353,
             "rgb(247,212,187)"
            ],
            [
             1,
             "rgb(250,234,220)"
            ]
           ]
          },
          "colorway": [
           "rgb(76,114,176)",
           "rgb(221,132,82)",
           "rgb(85,168,104)",
           "rgb(196,78,82)",
           "rgb(129,114,179)",
           "rgb(147,120,96)",
           "rgb(218,139,195)",
           "rgb(140,140,140)",
           "rgb(204,185,116)",
           "rgb(100,181,205)"
          ],
          "font": {
           "color": "rgb(36,36,36)"
          },
          "geo": {
           "bgcolor": "white",
           "lakecolor": "white",
           "landcolor": "rgb(234,234,242)",
           "showlakes": true,
           "showland": true,
           "subunitcolor": "white"
          },
          "hoverlabel": {
           "align": "left"
          },
          "hovermode": "closest",
          "paper_bgcolor": "white",
          "plot_bgcolor": "rgb(234,234,242)",
          "polar": {
           "angularaxis": {
            "gridcolor": "white",
            "linecolor": "white",
            "showgrid": true,
            "ticks": ""
           },
           "bgcolor": "rgb(234,234,242)",
           "radialaxis": {
            "gridcolor": "white",
            "linecolor": "white",
            "showgrid": true,
            "ticks": ""
           }
          },
          "scene": {
           "xaxis": {
            "backgroundcolor": "rgb(234,234,242)",
            "gridcolor": "white",
            "gridwidth": 2,
            "linecolor": "white",
            "showbackground": true,
            "showgrid": true,
            "ticks": "",
            "zerolinecolor": "white"
           },
           "yaxis": {
            "backgroundcolor": "rgb(234,234,242)",
            "gridcolor": "white",
            "gridwidth": 2,
            "linecolor": "white",
            "showbackground": true,
            "showgrid": true,
            "ticks": "",
            "zerolinecolor": "white"
           },
           "zaxis": {
            "backgroundcolor": "rgb(234,234,242)",
            "gridcolor": "white",
            "gridwidth": 2,
            "linecolor": "white",
            "showbackground": true,
            "showgrid": true,
            "ticks": "",
            "zerolinecolor": "white"
           }
          },
          "shapedefaults": {
           "fillcolor": "rgb(67,103,167)",
           "line": {
            "width": 0
           },
           "opacity": 0.5
          },
          "ternary": {
           "aaxis": {
            "gridcolor": "white",
            "linecolor": "white",
            "showgrid": true,
            "ticks": ""
           },
           "baxis": {
            "gridcolor": "white",
            "linecolor": "white",
            "showgrid": true,
            "ticks": ""
           },
           "bgcolor": "rgb(234,234,242)",
           "caxis": {
            "gridcolor": "white",
            "linecolor": "white",
            "showgrid": true,
            "ticks": ""
           }
          },
          "xaxis": {
           "automargin": true,
           "gridcolor": "white",
           "linecolor": "white",
           "showgrid": true,
           "ticks": "",
           "title": {
            "standoff": 15
           },
           "zerolinecolor": "white"
          },
          "yaxis": {
           "automargin": true,
           "gridcolor": "white",
           "linecolor": "white",
           "showgrid": true,
           "ticks": "",
           "title": {
            "standoff": 15
           },
           "zerolinecolor": "white"
          }
         }
        },
        "title": {
         "text": "Monthly seasonality (GOOG)"
        },
        "violinmode": "group",
        "xaxis": {
         "anchor": "y",
         "domain": [
          0,
          1
         ],
         "title": {
          "text": "Month"
         }
        },
        "yaxis": {
         "anchor": "x",
         "domain": [
          0,
          1
         ],
         "title": {
          "text": "Closing price (USD)"
         }
        }
       }
      }
     },
     "metadata": {},
     "output_type": "display_data"
    }
   ],
   "source": [
    "fig = violin_monthly(tickers_data, ticker_selected)\n",
    "fig.update_layout(template=\"seaborn\").show()"
   ]
  },
  {
   "attachments": {},
   "cell_type": "markdown",
   "metadata": {},
   "source": [
    "It seems that **GOOG** price tends to be lower during the summer months compared to the rest of the year."
   ]
  },
  {
   "cell_type": "code",
   "execution_count": 15,
   "metadata": {},
   "outputs": [
    {
     "data": {
      "application/vnd.plotly.v1+json": {
       "config": {
        "plotlyServerURL": "https://plot.ly"
       },
       "data": [
        {
         "alignmentgroup": "True",
         "box": {
          "visible": true
         },
         "hovertemplate": "weekday=%{x}<br>GOOG=%{y}<extra></extra>",
         "legendgroup": "",
         "marker": {
          "color": "#000001"
         },
         "name": "",
         "offsetgroup": "",
         "orientation": "v",
         "points": "all",
         "scalegroup": "True",
         "showlegend": false,
         "type": "violin",
         "x": [
          4,
          5,
          6,
          0,
          1,
          2,
          3,
          4,
          5,
          6,
          0,
          1,
          2,
          3,
          4,
          5,
          6,
          0,
          1,
          2,
          3,
          4,
          5,
          6,
          0,
          1,
          2,
          3,
          4,
          5,
          6,
          0,
          1,
          2,
          3,
          4,
          5,
          6,
          0,
          1,
          2,
          3,
          4,
          5,
          6,
          0,
          1,
          2,
          3,
          4,
          5,
          6,
          0,
          1,
          2,
          3,
          4,
          5,
          6,
          0,
          1,
          2,
          3,
          4,
          5,
          6,
          0,
          1,
          2,
          3,
          4,
          5,
          6,
          0,
          1,
          2,
          3,
          4,
          5,
          6,
          0,
          1,
          2,
          3,
          4,
          5,
          6,
          0,
          1,
          2,
          3,
          4,
          5,
          6,
          0,
          1,
          2,
          3,
          4,
          5,
          6,
          0,
          1,
          2,
          3,
          4,
          5,
          6,
          0,
          1,
          2,
          3,
          4,
          5,
          6,
          0,
          1,
          2,
          3,
          4,
          5,
          6,
          0,
          1,
          2,
          3,
          4,
          5,
          6,
          0,
          1,
          2,
          3,
          4,
          5,
          6,
          0,
          1,
          2,
          3,
          4,
          5,
          6,
          0,
          1,
          2,
          3,
          4,
          5,
          6,
          0,
          1,
          2,
          3,
          4,
          5,
          6,
          0,
          1,
          2,
          3,
          4,
          5,
          6,
          0,
          1,
          2,
          3,
          4,
          5,
          6,
          0,
          1,
          2,
          3,
          4,
          5,
          6,
          0,
          1,
          2,
          3,
          4,
          5,
          6,
          0,
          1,
          2,
          3,
          4,
          5,
          6,
          0,
          1,
          2,
          3,
          4,
          5,
          6,
          0,
          1,
          2,
          3,
          4,
          5,
          6,
          0,
          1,
          2,
          3,
          4,
          5,
          6,
          0,
          1,
          2,
          3,
          4,
          5,
          6,
          0,
          1,
          2,
          3,
          4,
          5,
          6,
          0,
          1,
          2,
          3,
          4,
          5,
          6,
          0,
          1,
          2,
          3,
          4,
          5,
          6,
          0,
          1,
          2,
          3,
          4,
          5,
          6,
          0,
          1,
          2,
          3,
          4,
          5,
          6,
          0,
          1,
          2,
          3,
          4,
          5,
          6,
          0,
          1,
          2,
          3,
          4,
          5,
          6,
          0,
          1,
          2,
          3,
          4,
          5,
          6,
          0,
          1,
          2,
          3,
          4,
          5,
          6,
          0,
          1,
          2,
          3,
          4,
          5,
          6,
          0,
          1,
          2,
          3,
          4,
          5,
          6,
          0,
          1,
          2,
          3,
          4,
          5,
          6,
          0,
          1,
          2,
          3,
          4,
          5,
          6,
          0,
          1,
          2,
          3,
          4,
          5,
          6,
          0,
          1,
          2,
          3,
          4,
          5,
          6,
          0,
          1,
          2,
          3,
          4,
          5,
          6,
          0,
          1,
          2,
          3,
          4,
          5,
          6,
          0,
          1,
          2,
          3,
          4,
          5,
          6,
          0,
          1,
          2,
          3,
          4,
          5,
          6,
          0,
          1,
          2,
          3,
          4,
          5,
          6,
          0,
          1,
          2,
          3,
          4,
          5,
          6,
          0,
          1,
          2,
          3,
          4,
          5,
          6,
          0,
          1,
          2,
          3,
          4,
          5,
          6,
          0,
          1,
          2,
          3,
          4,
          5,
          6,
          0,
          1,
          2,
          3,
          4,
          5,
          6,
          0,
          1,
          2,
          3,
          4,
          5,
          6,
          0,
          1,
          2,
          3,
          4,
          5,
          6,
          0,
          1,
          2,
          3,
          4,
          5,
          6,
          0,
          1,
          2,
          3,
          4,
          5,
          6,
          0,
          1,
          2,
          3,
          4,
          5,
          6,
          0,
          1,
          2,
          3,
          4,
          5,
          6,
          0,
          1,
          2,
          3,
          4,
          5,
          6,
          0,
          1,
          2,
          3,
          4,
          5,
          6,
          0,
          1,
          2,
          3,
          4,
          5,
          6,
          0,
          1,
          2,
          3,
          4,
          5,
          6,
          0,
          1,
          2,
          3,
          4,
          5,
          6,
          0,
          1,
          2,
          3,
          4,
          5,
          6,
          0,
          1,
          2,
          3,
          4,
          5,
          6,
          0,
          1,
          2,
          3,
          4,
          5,
          6,
          0,
          1,
          2,
          3,
          4,
          5,
          6,
          0,
          1,
          2,
          3,
          4,
          5,
          6,
          0,
          1,
          2,
          3,
          4,
          5,
          6,
          0,
          1,
          2,
          3,
          4,
          5,
          6,
          0,
          1,
          2,
          3,
          4,
          5,
          6,
          0,
          1,
          2,
          3,
          4,
          5,
          6,
          0,
          1,
          2,
          3,
          4,
          5,
          6,
          0,
          1,
          2,
          3,
          4,
          5,
          6,
          0,
          1,
          2,
          3,
          4,
          5,
          6,
          0,
          1,
          2,
          3,
          4,
          5,
          6,
          0,
          1,
          2,
          3,
          4,
          5,
          6,
          0,
          1,
          2,
          3,
          4,
          5,
          6,
          0,
          1,
          2,
          3,
          4,
          5,
          6,
          0,
          1,
          2,
          3,
          4,
          5,
          6,
          0,
          1,
          2,
          3,
          4,
          5,
          6,
          0,
          1,
          2,
          3,
          4,
          5,
          6,
          0,
          1,
          2,
          3,
          4,
          5,
          6,
          0,
          1,
          2,
          3,
          4,
          5,
          6,
          0,
          1,
          2,
          3,
          4,
          5,
          6,
          0,
          1,
          2,
          3,
          4,
          5,
          6,
          0,
          1,
          2,
          3,
          4,
          5,
          6,
          0,
          1,
          2,
          3,
          4,
          5,
          6,
          0,
          1,
          2,
          3,
          4,
          5,
          6,
          0,
          1,
          2,
          3,
          4,
          5,
          6,
          0,
          1,
          2,
          3,
          4,
          5,
          6,
          0,
          1,
          2,
          3,
          4,
          5,
          6,
          0,
          1,
          2,
          3,
          4,
          5,
          6,
          0,
          1,
          2,
          3,
          4,
          5,
          6,
          0,
          1,
          2,
          3,
          4,
          5,
          6,
          0,
          1,
          2,
          3,
          4,
          5,
          6,
          0,
          1,
          2,
          3,
          4,
          5,
          6,
          0,
          1,
          2,
          3,
          4,
          5,
          6,
          0,
          1,
          2,
          3,
          4,
          5,
          6,
          0,
          1,
          2,
          3,
          4,
          5,
          6,
          0,
          1,
          2,
          3,
          4,
          5,
          6,
          0,
          1,
          2,
          3,
          4,
          5,
          6,
          0,
          1,
          2,
          3,
          4,
          5,
          6,
          0,
          1,
          2,
          3,
          4,
          5,
          6,
          0,
          1,
          2,
          3,
          4,
          5,
          6,
          0,
          1,
          2,
          3,
          4,
          5,
          6,
          0,
          1,
          2,
          3,
          4,
          5,
          6,
          0,
          1,
          2,
          3,
          4,
          5,
          6,
          0,
          1,
          2,
          3,
          4,
          5,
          6,
          0,
          1,
          2,
          3,
          4,
          5,
          6,
          0,
          1,
          2,
          3,
          4,
          5,
          6,
          0,
          1,
          2,
          3,
          4,
          5,
          6,
          0,
          1,
          2,
          3,
          4,
          5,
          6,
          0,
          1,
          2,
          3,
          4,
          5,
          6,
          0,
          1,
          2,
          3,
          4,
          5,
          6,
          0,
          1,
          2,
          3,
          4,
          5,
          6,
          0,
          1,
          2,
          3,
          4,
          5,
          6,
          0,
          1,
          2,
          3,
          4,
          5,
          6,
          0,
          1,
          2,
          3,
          4,
          5,
          6,
          0,
          1,
          2,
          3,
          4,
          5,
          6,
          0,
          1,
          2,
          3,
          4,
          5,
          6,
          0,
          1,
          2,
          3,
          4,
          5,
          6,
          0,
          1,
          2,
          3,
          4,
          5,
          6,
          0,
          1,
          2,
          3,
          4,
          5,
          6,
          0,
          1,
          2,
          3,
          4,
          5,
          6,
          0,
          1,
          2,
          3,
          4,
          5,
          6,
          0,
          1,
          2,
          3,
          4,
          5,
          6,
          0,
          1,
          2,
          3,
          4,
          5,
          6,
          0,
          1,
          2,
          3,
          4,
          5,
          6,
          0,
          1,
          2,
          3,
          4,
          5,
          6,
          0,
          1,
          2,
          3,
          4,
          5,
          6,
          0,
          1,
          2,
          3,
          4,
          5,
          6,
          0,
          1,
          2,
          3,
          4,
          5,
          6,
          0,
          1,
          2,
          3,
          4,
          5,
          6,
          0,
          1,
          2,
          3,
          4,
          5,
          6,
          0,
          1,
          2,
          3,
          4,
          5,
          6,
          0,
          1,
          2,
          3,
          4,
          5,
          6,
          0,
          1,
          2,
          3,
          4,
          5,
          6,
          0,
          1,
          2,
          3,
          4,
          5,
          6,
          0,
          1,
          2,
          3,
          4,
          5,
          6,
          0,
          1,
          2,
          3,
          4,
          5,
          6,
          0,
          1,
          2,
          3,
          4,
          5,
          6,
          0,
          1,
          2,
          3,
          4,
          5,
          6,
          0,
          1,
          2,
          3,
          4,
          5,
          6,
          0,
          1,
          2,
          3,
          4,
          5,
          6,
          0,
          1,
          2,
          3,
          4,
          5,
          6,
          0,
          1,
          2,
          3,
          4,
          5,
          6,
          0,
          1,
          2,
          3,
          4,
          5,
          6,
          0,
          1,
          2,
          3,
          4,
          5,
          6,
          0,
          1,
          2,
          3,
          4,
          5,
          6,
          0,
          1,
          2,
          3,
          4,
          5,
          6,
          0,
          1,
          2,
          3,
          4,
          5,
          6,
          0,
          1,
          2,
          3,
          4,
          5,
          6,
          0,
          1,
          2,
          3,
          4,
          5,
          6,
          0,
          1,
          2,
          3,
          4,
          5,
          6,
          0,
          1,
          2,
          3,
          4,
          5,
          6,
          0,
          1,
          2,
          3,
          4,
          5,
          6,
          0,
          1,
          2,
          3,
          4,
          5,
          6,
          0,
          1,
          2,
          3,
          4,
          5,
          6,
          0,
          1,
          2,
          3,
          4,
          5,
          6,
          0,
          1,
          2,
          3,
          4,
          5,
          6,
          0,
          1,
          2,
          3,
          4,
          5,
          6,
          0,
          1,
          2,
          3,
          4,
          5,
          6,
          0,
          1,
          2,
          3,
          4,
          5,
          6,
          0,
          1,
          2,
          3,
          4,
          5,
          6,
          0,
          1,
          2,
          3,
          4,
          5,
          6,
          0,
          1,
          2,
          3,
          4,
          5,
          6,
          0,
          1,
          2,
          3,
          4,
          5,
          6,
          0,
          1,
          2,
          3,
          4,
          5,
          6,
          0,
          1,
          2,
          3,
          4,
          5,
          6,
          0,
          1,
          2,
          3,
          4,
          5,
          6,
          0,
          1,
          2,
          3,
          4,
          5,
          6,
          0,
          1,
          2,
          3,
          4,
          5,
          6,
          0,
          1,
          2,
          3,
          4,
          5,
          6,
          0,
          1,
          2,
          3,
          4,
          5,
          6,
          0,
          1,
          2,
          3,
          4,
          5,
          6,
          0,
          1,
          2,
          3,
          4,
          5,
          6,
          0,
          1,
          2,
          3,
          4,
          5,
          6,
          0,
          1,
          2,
          3,
          4,
          5,
          6,
          0,
          1,
          2,
          3,
          4,
          5,
          6,
          0,
          1,
          2,
          3,
          4,
          5,
          6,
          0,
          1,
          2,
          3,
          4,
          5,
          6,
          0,
          1,
          2,
          3,
          4,
          5,
          6,
          0,
          1,
          2,
          3,
          4,
          5,
          6,
          0,
          1,
          2,
          3,
          4,
          5,
          6,
          0,
          1,
          2,
          3,
          4,
          5,
          6,
          0,
          1,
          2,
          3,
          4,
          5,
          6,
          0,
          1,
          2,
          3,
          4,
          5,
          6,
          0,
          1,
          2,
          3,
          4,
          5,
          6,
          0,
          1,
          2,
          3,
          4,
          5,
          6,
          0,
          1,
          2,
          3,
          4,
          5,
          6,
          0,
          1,
          2,
          3,
          4,
          5,
          6,
          0,
          1,
          2,
          3,
          4,
          5,
          6,
          0,
          1,
          2,
          3,
          4,
          5,
          6,
          0,
          1,
          2,
          3,
          4,
          5,
          6,
          0,
          1,
          2,
          3,
          4,
          5,
          6,
          0,
          1,
          2,
          3,
          4,
          5,
          6,
          0,
          1,
          2,
          3,
          4,
          5,
          6,
          0,
          1,
          2,
          3,
          4,
          5,
          6,
          0,
          1,
          2,
          3,
          4,
          5,
          6,
          0,
          1,
          2,
          3,
          4,
          5,
          6,
          0,
          1,
          2,
          3,
          4,
          5,
          6,
          0,
          1,
          2,
          3,
          4,
          5,
          6,
          0,
          1,
          2,
          3,
          4,
          5,
          6,
          0,
          1,
          2,
          3,
          4,
          5,
          6,
          0,
          1,
          2,
          3,
          4,
          5,
          6,
          0,
          1,
          2,
          3,
          4,
          5,
          6,
          0,
          1,
          2,
          3,
          4,
          5,
          6,
          0,
          1,
          2,
          3,
          4,
          5,
          6,
          0,
          1,
          2,
          3,
          4,
          5,
          6,
          0,
          1,
          2,
          3,
          4,
          5,
          6,
          0,
          1,
          2,
          3,
          4,
          5,
          6,
          0,
          1,
          2,
          3,
          4,
          5,
          6,
          0,
          1,
          2,
          3,
          4,
          5,
          6,
          0,
          1,
          2,
          3,
          4,
          5,
          6,
          0,
          1,
          2,
          3,
          4,
          5,
          6,
          0,
          1,
          2,
          3,
          4,
          5,
          6,
          0,
          1,
          2,
          3,
          4,
          5,
          6,
          0,
          1,
          2,
          3,
          4,
          5,
          6,
          0,
          1,
          2,
          3,
          4,
          5,
          6,
          0,
          1,
          2,
          3,
          4,
          5,
          6,
          0,
          1,
          2,
          3,
          4,
          5,
          6,
          0,
          1,
          2,
          3,
          4,
          5,
          6,
          0,
          1,
          2,
          3,
          4,
          5,
          6,
          0,
          1,
          2,
          3,
          4,
          5,
          6,
          0,
          1,
          2,
          3,
          4,
          5,
          6,
          0,
          1,
          2,
          3,
          4,
          5,
          6,
          0,
          1,
          2,
          3,
          4,
          5,
          6,
          0,
          1,
          2,
          3,
          4,
          5,
          6,
          0,
          1,
          2,
          3,
          4,
          5,
          6,
          0,
          1,
          2,
          3,
          4,
          5,
          6,
          0,
          1,
          2,
          3,
          4,
          5,
          6,
          0,
          1,
          2,
          3,
          4,
          5,
          6,
          0,
          1,
          2,
          3,
          4,
          5,
          6,
          0,
          1,
          2,
          3,
          4,
          5,
          6,
          0,
          1,
          2,
          3,
          4,
          5,
          6,
          0,
          1,
          2,
          3,
          4,
          5,
          6,
          0,
          1,
          2,
          3,
          4,
          5,
          6,
          0,
          1,
          2,
          3,
          4,
          5,
          6,
          0,
          1,
          2,
          3,
          4,
          5,
          6,
          0,
          1,
          2,
          3,
          4,
          5,
          6,
          0,
          1,
          2,
          3,
          4,
          5,
          6,
          0,
          1,
          2,
          3,
          4,
          5,
          6,
          0,
          1,
          2,
          3,
          4,
          5,
          6,
          0,
          1,
          2,
          3,
          4,
          5,
          6,
          0,
          1,
          2,
          3,
          4,
          5,
          6,
          0,
          1,
          2,
          3,
          4,
          5,
          6,
          0,
          1,
          2,
          3,
          4,
          5,
          6,
          0,
          1,
          2,
          3,
          4,
          5,
          6,
          0,
          1,
          2,
          3,
          4,
          5,
          6,
          0,
          1,
          2,
          3,
          4,
          5,
          6,
          0,
          1,
          2,
          3,
          4,
          5,
          6,
          0,
          1,
          2,
          3,
          4,
          5,
          6,
          0,
          1,
          2,
          3,
          4,
          5,
          6,
          0,
          1,
          2,
          3,
          4,
          5,
          6,
          0,
          1,
          2,
          3,
          4,
          5,
          6,
          0,
          1,
          2
         ],
         "x0": " ",
         "xaxis": "x",
         "y": [
          54.7400016784668,
          null,
          null,
          null,
          55.12300109863281,
          55.56700134277344,
          55.33150100708008,
          56.339500427246094,
          null,
          null,
          57.1875,
          55.91450119018555,
          55.23649978637695,
          53.47600173950195,
          53.94599914550781,
          null,
          null,
          54.54650115966797,
          54.75299835205078,
          55.481998443603516,
          56.29999923706055,
          58.00199890136719,
          null,
          null,
          58.224998474121094,
          56.90850067138672,
          57.4744987487793,
          57.479000091552734,
          56.7864990234375,
          null,
          null,
          54.99100112915039,
          54.885501861572266,
          54.54399871826172,
          52.45399856567383,
          51.07849884033203,
          null,
          null,
          52.660499572753906,
          50.255001068115234,
          50.22800064086914,
          51.589500427246094,
          null,
          null,
          null,
          50.32350158691406,
          50.670501708984375,
          51.25699996948242,
          51.390499114990234,
          50.35200119018555,
          null,
          null,
          50.772499084472656,
          51.582000732421875,
          50.99850082397461,
          51.6254997253418,
          51.4635009765625,
          null,
          null,
          51.89899826049805,
          53.70800018310547,
          53.604000091552734,
          54.3849983215332,
          53.64799880981445,
          null,
          null,
          53.372501373291016,
          50.999000549316406,
          51.058998107910156,
          52.00199890136719,
          51.502498626708984,
          null,
          null,
          50.86650085449219,
          51.865501403808594,
          51.21900177001953,
          51.18600082397461,
          52.410499572753906,
          null,
          null,
          52.739498138427734,
          52.695499420166016,
          54.13800048828125,
          54.878501892089844,
          54.91299819946289,
          null,
          null,
          55.0099983215332,
          53.96149826049805,
          54.0885009765625,
          53.929500579833984,
          53.31800079345703,
          null,
          null,
          53.979000091552734,
          53.48649978637695,
          53.984500885009766,
          53.96200180053711,
          53.78300094604492,
          null,
          null,
          null,
          53.01599884033203,
          53.38999938964844,
          54.2495002746582,
          55.974998474121094,
          null,
          null,
          56.964500427246094,
          56.983001708984375,
          56.84400177001953,
          56.19300079345703,
          56.04349899291992,
          null,
          null,
          56.4995002746582,
          56.965999603271484,
          56.739498138427734,
          57.60599899291992,
          57.612998962402344,
          null,
          null,
          58.67300033569336,
          58.40299987792969,
          58.492000579833984,
          57.882999420166016,
          57.77399826049805,
          null,
          null,
          56.240501403808594,
          55.92300033569336,
          55.19900131225586,
          55.71099853515625,
          55.782501220703125,
          null,
          null,
          56.37300109863281,
          55.144500732421875,
          null,
          56.2135009765625,
          57.00849914550781,
          null,
          null,
          57.70249938964844,
          57.641998291015625,
          57.69499969482422,
          59.17399978637695,
          59.441001892089844,
          null,
          null,
          59.19300079345703,
          59.939998626708984,
          59.79399871826172,
          59.347999572753906,
          59.24549865722656,
          null,
          null,
          60.275001525878906,
          62.40399932861328,
          63.185001373291016,
          63.416500091552734,
          61.92499923706055,
          null,
          null,
          60.98699951171875,
          60.862998962402344,
          61.0004997253418,
          61.307498931884766,
          61.18550109863281,
          null,
          null,
          61.23849868774414,
          62.111000061035156,
          62.28049850463867,
          62.45500183105469,
          61.88050079345703,
          null,
          null,
          61.7504997253418,
          62.10499954223633,
          60.71900177001953,
          60.324501037597656,
          60.04800033569336,
          null,
          null,
          60.38850021362305,
          60.08100128173828,
          60.36650085449219,
          60.26900100708008,
          61.032501220703125,
          null,
          null,
          62.090999603271484,
          61.557498931884766,
          62.46500015258789,
          61.95600128173828,
          60.90950012207031,
          null,
          null,
          null,
          59.849998474121094,
          59.32400131225586,
          58.571998596191406,
          58.24150085449219,
          null,
          null,
          58.231998443603516,
          58.86800003051758,
          58.14099884033203,
          58.76649856567383,
          58.62649917602539,
          null,
          null,
          57.8025016784668,
          58.06100082397461,
          58.554500579833984,
          59.34349822998047,
          58.304500579833984,
          null,
          null,
          58.66849899291992,
          59.23249816894531,
          59.02450180053711,
          59.731998443603516,
          59.673500061035156,
          null,
          null,
          59.765499114990234,
          60.00550079345703,
          60.147499084472656,
          58.40950012207031,
          57.86750030517578,
          null,
          null,
          57.44850158691406,
          56.941001892089844,
          54.06100082397461,
          53.965999603271484,
          55.50400161743164,
          null,
          null,
          54.61249923706055,
          56.06399917602539,
          55.78450012207031,
          54.39849853515625,
          54.823001861572266,
          null,
          null,
          55.05799865722656,
          55.18450164794922,
          52.535499572753906,
          54.778499603271484,
          53.57350158691406,
          null,
          null,
          51.00400161743164,
          51.81050109863281,
          53.8385009765625,
          53.5,
          52.88949966430664,
          null,
          null,
          52.00450134277344,
          52.79050064086914,
          54.669498443603516,
          54.119998931884766,
          53.307498931884766,
          null,
          null,
          51.93149948120117,
          51.8025016784668,
          52.18299865722656,
          53.23550033569336,
          53.074501037597656,
          null,
          null,
          51,
          51.28799819946289,
          51.88050079345703,
          null,
          51.194000244140625,
          null,
          null,
          52.430999755859375,
          52.22050094604492,
          54.311500549316406,
          54.415000915527344,
          54.721500396728516,
          null,
          null,
          55.32149887084961,
          52.54100036621094,
          null,
          53.436500549316406,
          51.82899856567383,
          null,
          null,
          51.977500915527344,
          52.587501525878906,
          53.183998107910156,
          53.095001220703125,
          52.10499954223633,
          null,
          null,
          50.826499938964844,
          51.43550109863281,
          51.1505012512207,
          50.47050094604492,
          48.97700119018555,
          null,
          null,
          48.81100082397461,
          null,
          51.972999572753906,
          52.194000244140625,
          51.854000091552734,
          null,
          null,
          51.78049850463867,
          null,
          52.29249954223633,
          50.803001403808594,
          53.535499572753906,
          null,
          null,
          53.419498443603516,
          53.81399917602539,
          53.733001708984375,
          53.51649856567383,
          52.859500885009766,
          null,
          null,
          52.234500885009766,
          53.85749816894531,
          54.048500061035156,
          54.494998931884766,
          54.91299819946289,
          null,
          null,
          null,
          53.5260009765625,
          53.778499603271484,
          53.69499969482422,
          54.54949951171875,
          null,
          null,
          53.50400161743164,
          53.03099822998047,
          54.452999114990234,
          55.81850051879883,
          55.537498474121094,
          null,
          null,
          56.63999938964844,
          57.29949951171875,
          55.76150131225586,
          54.93550109863281,
          54.75299835205078,
          null,
          null,
          54.7504997253418,
          56.06850051879883,
          56.007999420166016,
          56.083499908447266,
          55.682498931884766,
          null,
          null,
          null,
          55.928001403808594,
          55.689998626708984,
          54.8484992980957,
          55.51850128173828,
          null,
          null,
          55.470001220703125,
          55.756500244140625,
          55.8025016784668,
          55.99599838256836,
          57.04949951171875,
          null,
          null,
          57.38999938964844,
          58.10150146484375,
          57.893001556396484,
          57.165000915527344,
          57.11600112915039,
          null,
          null,
          58.78799819946289,
          59.65999984741211,
          59.66600036621094,
          59.27750015258789,
          59.222999572753906,
          null,
          null,
          59.2130012512207,
          59.942501068115234,
          61.19850158691406,
          61.57699966430664,
          60.275001525878906,
          null,
          null,
          59.650001525878906,
          59.23099899291992,
          58.6510009765625,
          58.42449951171875,
          58.66550064086914,
          null,
          null,
          59.721500396728516,
          60.02450180053711,
          60.29600143432617,
          60.75,
          60.35749816894531,
          null,
          null,
          60.19200134277344,
          59.86249923706055,
          60.108001708984375,
          60.23099899291992,
          60.89350128173828,
          null,
          null,
          61.05500030517578,
          61.35649871826172,
          61.81700134277344,
          61.81850051879883,
          null,
          null,
          null,
          62.44200134277344,
          63.227500915527344,
          62.79999923706055,
          63.17250061035156,
          63.60900115966797,
          null,
          null,
          64.37899780273438,
          59.42399978637695,
          58.40399932861328,
          58.13050079345703,
          59.27000045776367,
          null,
          null,
          59.46950149536133,
          58.70500183105469,
          58.313499450683594,
          58.11899948120117,
          58.2135009765625,
          null,
          null,
          56.60150146484375,
          56.02199935913086,
          58.21049880981445,
          58.94900131225586,
          58.1150016784668,
          null,
          null,
          56.942501068115234,
          57.48149871826172,
          57.57099914550781,
          57.03850173950195,
          56.673500061035156,
          null,
          null,
          null,
          56.70750045776367,
          55.823001861572266,
          55.897499084472656,
          55.18149948120117,
          null,
          null,
          51.811500549316406,
          52.65250015258789,
          52.111000061035156,
          52.21699905395508,
          53.301998138427734,
          null,
          null,
          54.01900100708008,
          53.93600082397461,
          53.85150146484375,
          54.438499450683594,
          54.26750183105469,
          null,
          null,
          54.625,
          55.18000030517578,
          55.11650085449219,
          55.57099914550781,
          56.09400177001953,
          null,
          null,
          55.7760009765625,
          54.317501068115234,
          53.9900016784668,
          53.800498962402344,
          54.045501708984375,
          null,
          null,
          54.897499084472656,
          55.5625,
          56.07899856567383,
          null,
          56.579498291015625,
          null,
          null,
          55.817501068115234,
          56.24150085449219,
          57.02399826049805,
          57.21049880981445,
          57.244998931884766,
          null,
          null,
          57.516998291015625,
          57.67900085449219,
          57.317501068115234,
          57.31650161743164,
          56.505001068115234,
          null,
          null,
          56.903499603271484,
          57.31050109863281,
          56.890499114990234,
          56.60599899291992,
          62.52050018310547,
          null,
          null,
          61.97050094604492,
          61.25699996948242,
          60.83399963378906,
          60.45050048828125,
          59.699501037597656,
          null,
          null,
          57.61600112915039,
          58.497501373291016,
          58.699501037597656,
          60.2400016784668,
          59.4005012512207,
          null,
          null,
          58.73550033569336,
          59.86349868774414,
          58.214500427246094,
          58.362998962402344,
          58.880001068115234,
          null,
          null,
          59.92250061035156,
          59.134498596191406,
          59.5625,
          59.47650146484375,
          57.56449890136719,
          null,
          null,
          58.44449996948242,
          58.391998291015625,
          58.55099868774414,
          59.64250183105469,
          59.404998779296875,
          null,
          null,
          null,
          58.419498443603516,
          59.070499420166016,
          60.569000244140625,
          60.246498107910156,
          null,
          null,
          60.22050094604492,
          60.29999923706055,
          61.00849914550781,
          61.712501525878906,
          61.97800064086914,
          null,
          null,
          61.564998626708984,
          61.45750045776367,
          61.62049865722656,
          61.93550109863281,
          61.496498107910156,
          null,
          null,
          61.701499938964844,
          60.9379997253418,
          62.32600021362305,
          62.06949996948242,
          61.25450134277344,
          null,
          null,
          60.95000076293945,
          60.255001068115234,
          58.83150100708008,
          59.39149856567383,
          60.45000076293945,
          null,
          null,
          60.38399887084961,
          59.45650100708008,
          60.115501403808594,
          60.43349838256836,
          60.772499084472656,
          null,
          null,
          60.856998443603516,
          62.1505012512207,
          62.18199920654297,
          62.653499603271484,
          62.27450180053711,
          null,
          null,
          62.307498931884766,
          62.13999938964844,
          62.95650100708008,
          63.04949951171875,
          63.256500244140625,
          null,
          null,
          64.5,
          63.13100051879883,
          63.06449890136719,
          63.00550079345703,
          63.6870002746582,
          null,
          null,
          64.56849670410156,
          64.60150146484375,
          64.58999633789062,
          65.44300079345703,
          65.56849670410156,
          null,
          null,
          64.95950317382812,
          64.94000244140625,
          64.9000015258789,
          65.572998046875,
          66.74349975585938,
          null,
          null,
          66.03500366210938,
          65.77300262451172,
          65.15249633789062,
          65.06749725341797,
          64.76699829101562,
          null,
          null,
          65.33450317382812,
          65.67749786376953,
          65.64949798583984,
          null,
          65.24800109863281,
          null,
          null,
          64.49600219726562,
          64.76399993896484,
          66.0270004272461,
          66.40650177001953,
          67.03099822998047,
          null,
          null,
          67.1780014038086,
          67.23300170898438,
          67.2509994506836,
          67.51349639892578,
          67.3915023803711,
          null,
          null,
          68.05850219726562,
          67.75599670410156,
          67.63099670410156,
          67.802001953125,
          67.47949981689453,
          null,
          null,
          67.44200134277344,
          67.1780014038086,
          null,
          68.0199966430664,
          67.59449768066406,
          null,
          null,
          66.80699920654297,
          66.85099792480469,
          null,
          68.36849975585938,
          68.03299713134766,
          null,
          null,
          69.71050262451172,
          69.66699981689453,
          70.21600341796875,
          70.99150085449219,
          71.48650360107422,
          null,
          null,
          71.96150207519531,
          71.54399871826172,
          71.95999908447266,
          72.58499908447266,
          74.01950073242188,
          null,
          null,
          null,
          74.22000122070312,
          74.29750061035156,
          74.3324966430664,
          73.33550262451172,
          null,
          null,
          71.69499969482422,
          72.62799835205078,
          72.93150329589844,
          72.79199981689453,
          71.71150207519531,
          null,
          null,
          74.2969970703125,
          72.35350036621094,
          72.4114990234375,
          73.8115005493164,
          73.96150207519531,
          null,
          null,
          75.43399810791016,
          75.43949890136719,
          75.91349792480469,
          75.73300170898438,
          76.03700256347656,
          null,
          null,
          null,
          75.9834976196289,
          76.33450317382812,
          75.90750122070312,
          74.25550079345703,
          null,
          null,
          71.07949829101562,
          69.42250061035156,
          69.65899658203125,
          65.90450286865234,
          66.96649932861328,
          null,
          null,
          69.45549774169922,
          67.06950378417969,
          69.32599639892578,
          65.9520034790039,
          64.92050170898438,
          null,
          null,
          60.77799987792969,
          64.01950073242188,
          60.77050018310547,
          55.74549865722656,
          60.98649978637695,
          null,
          null,
          54.21649932861328,
          55.9900016784668,
          54.84000015258789,
          55.76449966430664,
          53.61600112915039,
          null,
          null,
          52.83100128173828,
          56.722999572753906,
          55.1245002746582,
          58.087501525878906,
          55.535499572753906,
          null,
          null,
          57.340999603271484,
          58.140499114990234,
          55.28099822998047,
          56.04199981689453,
          54.89400100708008,
          null,
          null,
          59.34600067138672,
          59.32550048828125,
          60.513999938964844,
          60.5724983215332,
          null,
          null,
          null,
          60.87799835205078,
          63.46149826049805,
          63.12350082397461,
          63.173500061035156,
          64.1624984741211,
          null,
          null,
          63.330501556396484,
          60.81700134277344,
          63.160499572753906,
          63.81549835205078,
          63.96549987792969,
          null,
          null,
          63.79399871826172,
          61.68349838256836,
          67.0739974975586,
          67.43299865722656,
          66.03050231933594,
          null,
          null,
          66.33999633789062,
          67.55549621582031,
          67.36499786376953,
          68.62799835205078,
          69.41850280761719,
          null,
          null,
          70.16300201416016,
          68.78700256347656,
          67.46649932861328,
          67.80650329589844,
          68.65950012207031,
          null,
          null,
          69.1969985961914,
          68.67424774169922,
          70.33599853515625,
          70.13999938964844,
          70.52100372314453,
          null,
          null,
          null,
          70.85099792480469,
          70.89199829101562,
          70.83650207519531,
          71.44599914550781,
          null,
          null,
          71.59100341796875,
          71.96099853515625,
          71.81900024414062,
          70.60900115966797,
          71.91950225830078,
          null,
          null,
          72.33049774169922,
          72.80799865722656,
          73.2925033569336,
          70.19200134277344,
          70.65899658203125,
          null,
          null,
          70.99250030517578,
          72.13600158691406,
          72.55599975585938,
          71.7979965209961,
          71.58599853515625,
          null,
          null,
          72.59300231933594,
          73.22049713134766,
          71.59850311279297,
          72.06649780273438,
          67.99500274658203,
          null,
          null,
          69.74849700927734,
          70.68049621582031,
          71.9020004272461,
          73.23500061035156,
          null,
          null,
          null,
          74.78500366210938,
          74.25900268554688,
          74.80000305175781,
          75.54949951171875,
          77.08699798583984,
          null,
          null,
          75.56700134277344,
          76.02899932861328,
          75.68199920654297,
          75.9000015258789,
          75.77749633789062,
          null,
          null,
          78.28600311279297,
          77.9209976196289,
          78.42449951171875,
          75.78399658203125,
          75.59349822998047,
          null,
          null,
          76.51000213623047,
          75.01699829101562,
          76.10099792480469,
          76.57250213623047,
          74.14800262451172,
          null,
          null,
          73.72250366210938,
          73.24849700927734,
          73.68049621582031,
          75.00499725341797,
          74.72450256347656,
          null,
          null,
          74.80500030517578,
          74.01599884033203,
          75.33100128173828,
          75.92250061035156,
          75.3864974975586,
          null,
          null,
          75.89900207519531,
          77.93000030517578,
          77.37650299072266,
          79.0875015258789,
          79.02100372314453,
          null,
          null,
          79.41000366210938,
          80.41100311279297,
          82.61900329589844,
          81.71649932861328,
          82.22049713134766,
          null,
          null,
          81.70899963378906,
          83.0354995727539,
          86.41400146484375,
          82.09200286865234,
          79.552001953125,
          null,
          null,
          null,
          76.61949920654297,
          77.8479995727539,
          76.60099792480469,
          76.03600311279297,
          null,
          null,
          75.96399688720703,
          77.0719985961914,
          76.04499816894531,
          74.77649688720703,
          72.99949645996094,
          null,
          null,
          71.55799865722656,
          73.27300262451172,
          70.760498046875,
          71.41449737548828,
          72.24800109863281,
          null,
          null,
          73.22599792480469,
          73.46649932861328,
          73.4800033569336,
          74.50450134277344,
          72.9209976196289,
          null,
          null,
          74.3010025024414,
          72.6719970703125,
          73.0145034790039,
          74.29650115966797,
          75.76100158691406,
          null,
          null,
          78.4574966430664,
          78.58399963378906,
          78.40399932861328,
          77.95649719238281,
          78.65049743652344,
          null,
          null,
          76.73049926757812,
          77.79650115966797,
          79.66549682617188,
          80.7665023803711,
          82.05000305175781,
          null,
          null,
          79.52249908447266,
          80.21299743652344,
          75.83100128173828,
          78.36199951171875,
          81.05049896240234,
          null,
          null,
          81.30149841308594,
          82.510498046875,
          87.45649719238281,
          88.16850280761719,
          88.0875015258789,
          null,
          null,
          88.1500015258789,
          87.01950073242188,
          87.635498046875,
          87.49199676513672,
          88.85099792480469,
          null,
          null,
          89.06900024414062,
          88.50749969482422,
          87.33899688720703,
          88.19599914550781,
          87.1094970703125,
          null,
          null,
          86.74299621582031,
          88.44400024414062,
          88.57150268554688,
          null,
          89.65950012207031,
          null,
          null,
          88.03700256347656,
          89.90499877929688,
          91.39749908447266,
          91.3385009765625,
          91.39949798583984,
          null,
          null,
          90.9739990234375,
          90.92749786376953,
          89.20649719238281,
          88.7665023803711,
          89.0885009765625,
          null,
          null,
          88.00299835205078,
          88.38849639892578,
          88.1500015258789,
          87.3949966430664,
          86.55049896240234,
          null,
          null,
          86.96849822998047,
          86.17500305175781,
          86.61900329589844,
          86.94249725341797,
          null,
          null,
          null,
          88.80449676513672,
          87.93599700927734,
          86.97599792480469,
          87.59400177001953,
          null,
          null,
          null,
          86.41200256347656,
          87.0459976196289,
          86.7645034790039,
          89.36250305175781,
          90.3604965209961,
          null,
          null,
          88.33599853515625,
          87.32749938964844,
          87.72000122070312,
          87.00900268554688,
          86.80950164794922,
          null,
          null,
          null,
          89.54299926757812,
          94.34500122070312,
          94.5625,
          95.05249786376953,
          null,
          null,
          94.97000122070312,
          95.86199951171875,
          91.53949737548828,
          93.15550231933594,
          91.78700256347656,
          null,
          null,
          95.06749725341797,
          96.37550354003906,
          103.50350189208984,
          103.11849975585938,
          104.9000015258789,
          null,
          null,
          104.64550018310547,
          104.17549896240234,
          104.76899719238281,
          104.79450225830078,
          105.20549774169922,
          null,
          null,
          null,
          106.09500122070312,
          106.41549682617188,
          105.86000061035156,
          105.05699920654297,
          null,
          null,
          103.24400329589844,
          103.54299926757812,
          104.75849914550781,
          101.56800079345703,
          101.84300231933594,
          null,
          null,
          104.07550048828125,
          103.79199981689453,
          101.33550262451172,
          102.45449829101562,
          105.427001953125,
          null,
          null,
          101.20850372314453,
          102.63500213623047,
          102.75150299072266,
          105.7385025024414,
          103.09600067138672,
          null,
          null,
          103.32450103759766,
          104.6259994506836,
          104.55400085449219,
          101.81099700927734,
          102.16000366210938,
          null,
          null,
          101.92949676513672,
          102.64800262451172,
          102.25299835205078,
          102.21800231933594,
          101.77749633789062,
          null,
          null,
          102.79750061035156,
          102.7770004272461,
          103.43150329589844,
          106.88749694824219,
          null,
          null,
          null,
          111.27749633789062,
          111.23750305175781,
          112.48400115966797,
          113.27200317382812,
          114.29399871826172,
          null,
          null,
          112.739501953125,
          113.3635025024414,
          112.74199676513672,
          114.83300018310547,
          114.88800048828125,
          null,
          null,
          115.12000274658203,
          114.68150329589844,
          114.66449737548828,
          113.39600372314453,
          115.76499938964844,
          null,
          null,
          116.33699798583984,
          115.35600280761719,
          118.99549865722656,
          121.49449920654297,
          120.50599670410156,
          null,
          null,
          119.75849914550781,
          117.7125015258789,
          117.83699798583984,
          119.06749725341797,
          119.93450164794922,
          null,
          null,
          117.08300018310547,
          115.43800354003906,
          111.9540023803711,
          113.09850311279297,
          115.80799865722656,
          null,
          null,
          116.07050323486328,
          115.17150115966797,
          115.43550109863281,
          117.80449676513672,
          117.25499725341797,
          null,
          null,
          120.33350372314453,
          120.45349884033203,
          121.67649841308594,
          120.12550354003906,
          120.5780029296875,
          null,
          null,
          null,
          121.4905014038086,
          121.06400299072266,
          120.23049926757812,
          122.58799743652344,
          null,
          null,
          123.30449676513672,
          124.14250183105469,
          124.56999969482422,
          126.08000183105469,
          125.69650268554688,
          null,
          null,
          126.35199737548828,
          126.03299713134766,
          125.69650268554688,
          126.37100219726562,
          125.56749725341797,
          null,
          null,
          126.45500183105469,
          126.99949645996094,
          126.46150207519531,
          127.28199768066406,
          126.99500274658203,
          null,
          null,
          126.81950378417969,
          126.01850128173828,
          125.31600189208984,
          126.36849975585938,
          128.718994140625,
          null,
          null,
          null,
          129.77099609375,
          130.07749938964844,
          129.177001953125,
          129.57449340820312,
          null,
          null,
          130.56399536132812,
          130.9945068359375,
          132.08250427246094,
          131.26649475097656,
          131.8455047607422,
          null,
          null,
          129.25399780273438,
          131.10150146484375,
          132.60049438476562,
          133.32850646972656,
          137.8159942626953,
          null,
          null,
          139.64450073242188,
          136.79649353027344,
          136.38150024414062,
          136.54049682617188,
          135.2209930419922,
          null,
          null,
          135.989501953125,
          136.27999877929688,
          136.02850341796875,
          136.94000244140625,
          137.03599548339844,
          null,
          null,
          138.0019989013672,
          138.09649658203125,
          137.6894989013672,
          138.38949584960938,
          138.406005859375,
          null,
          null,
          138.91600036621094,
          137.30050659179688,
          136.57000732421875,
          136.9134979248047,
          138.43699645996094,
          null,
          null,
          141.09950256347656,
          142.39849853515625,
          142.9499969482422,
          142.1230010986328,
          144.55050659179688,
          null,
          null,
          145.46949768066406,
          145.46200561523438,
          145.8419952392578,
          144.218994140625,
          144.77499389648438,
          null,
          null,
          null,
          145.5189971923828,
          144.8834991455078,
          144.9134979248047,
          141.92100524902344,
          null,
          null,
          143.46499633789062,
          143.406005859375,
          145.20599365234375,
          144.37350463867188,
          141.4635009765625,
          null,
          null,
          139.01699829101562,
          139.64649963378906,
          140.93850708007812,
          141.82650756835938,
          142.63299560546875,
          null,
          null,
          141.50100708007812,
          136.1840057373047,
          134.52099609375,
          133.2655029296875,
          136.46249389648438,
          null,
          null,
          133.76499938964844,
          136.177001953125,
          137.35400390625,
          139.1855010986328,
          140.05599975585938,
          null,
          null,
          138.84750366210938,
          136.71299743652344,
          137.89999389648438,
          141.41200256347656,
          141.6750030517578,
          null,
          null,
          142.9604949951172,
          143.82200622558594,
          142.4149932861328,
          142.78050231933594,
          138.625,
          null,
          null,
          138.7729949951172,
          139.6719970703125,
          146.42750549316406,
          146.12899780273438,
          148.27049255371094,
          null,
          null,
          143.7740020751953,
          145.86300659179688,
          146.7899932861328,
          148.68299865722656,
          149.24099731445312,
          null,
          null,
          149.35150146484375,
          149.24850463867188,
          146.62600708007812,
          146.7480010986328,
          149.64549255371094,
          null,
          null,
          149.38800048828125,
          149.0760040283203,
          149.06199645996094,
          150.70899963378906,
          149.95249938964844,
          null,
          null,
          147.07850646972656,
          146.7570037841797,
          146.71749877929688,
          null,
          142.80599975585938,
          null,
          null,
          146.11399841308594,
          142.45199584960938,
          141.6179962158203,
          143.77650451660156,
          142.52049255371094,
          null,
          null,
          143.79649353027344,
          148.0364990234375,
          148.7205047607422,
          148.1060028076172,
          148.6750030517578,
          null,
          null,
          146.70449829101562,
          144.9705047607422,
          147.36849975585938,
          144.8385009765625,
          142.80299377441406,
          null,
          null,
          142.40150451660156,
          144.2205047607422,
          146.94900512695312,
          147.1425018310547,
          null,
          null,
          null,
          148.06399536132812,
          146.447998046875,
          146.50450134277344,
          146.00250244140625,
          144.67950439453125,
          null,
          null,
          145.07449340820312,
          144.41650390625,
          137.65350341796875,
          137.55099487304688,
          137.00450134277344,
          null,
          null,
          138.57400512695312,
          140.0175018310547,
          141.6479949951172,
          139.13099670410156,
          139.7864990234375,
          null,
          null,
          null,
          136.29049682617188,
          135.65199279785156,
          133.50650024414062,
          130.0919952392578,
          null,
          null,
          130.3719940185547,
          126.7354965209961,
          129.24000549316406,
          129.12100219726562,
          133.2895050048828,
          null,
          null,
          135.69850158691406,
          137.8784942626953,
          148.0364990234375,
          142.65049743652344,
          143.01600646972656,
          null,
          null,
          138.93800354003906,
          139.21299743652344,
          141.4530029296875,
          138.6024932861328,
          134.1300048828125,
          null,
          null,
          135.3000030517578,
          136.42550659179688,
          137.4875030517578,
          132.30850219726562,
          130.46749877929688,
          null,
          null,
          null,
          129.40249633789062,
          127.58499908447266,
          132.67349243164062,
          134.51950073242188,
          null,
          null,
          134.89100646972656,
          134.16799926757812,
          134.75149536132812,
          134.30799865722656,
          132.1219940185547,
          null,
          null,
          126.4645004272461,
          127.27850341796875,
          133.86599731445312,
          132.6820068359375,
          130.47549438476562,
          null,
          null,
          126.74099731445312,
          129.66050720214844,
          133.6905059814453,
          134.60049438476562,
          136.80149841308594,
          null,
          null,
          136.47850036621094,
          140.27749633789062,
          138.5034942626953,
          141.31199645996094,
          141.52149963378906,
          null,
          null,
          141.9499969482422,
          143.25,
          142.64450073242188,
          139.64950561523438,
          140.6999969482422,
          null,
          null,
          143.6425018310547,
          141.06300354003906,
          137.17599487304688,
          136.46499633789062,
          134.010498046875,
          null,
          null,
          129.79649353027344,
          128.37449645996094,
          130.28599548339844,
          127.25299835205078,
          null,
          null,
          null,
          127.96099853515625,
          130.531005859375,
          128.24549865722656,
          124.9375,
          119.61399841308594,
          null,
          null,
          123.25,
          119.50599670410156,
          115.02050018310547,
          119.4114990234375,
          114.96649932861328,
          null,
          null,
          117.15699768066406,
          118.12950134277344,
          122.57499694824219,
          116.74649810791016,
          115.66000366210938,
          null,
          null,
          113.08399963378906,
          114.58450317382812,
          113.96099853515625,
          113.16100311279297,
          116.5155029296875,
          null,
          null,
          114.7925033569336,
          116.70149993896484,
          112.4010009765625,
          110.74549865722656,
          109.31300354003906,
          null,
          null,
          111.66649627685547,
          105.9260025024414,
          105.8395004272461,
          108.2959976196289,
          112.79900360107422,
          null,
          null,
          null,
          114.03900146484375,
          114.13700103759766,
          117.74600219726562,
          114.56400299072266,
          null,
          null,
          117.010498046875,
          117.22949981689453,
          117.23799896240234,
          114.91799926757812,
          111.42749786376953,
          null,
          null,
          106.87650299072266,
          107.19400024414062,
          110.3905029296875,
          106.63600158691406,
          107.8655014038086,
          null,
          null,
          null,
          112.01499938964844,
          112.03399658203125,
          112.68450164794922,
          118.53800201416016,
          null,
          null,
          116.62249755859375,
          112.57150268554688,
          112.25650024414062,
          109.37249755859375,
          109.08100128173828,
          null,
          null,
          null,
          113.88700103759766,
          115.2135009765625,
          119.30599975585938,
          120.16850280761719,
          null,
          null,
          116.52249908447266,
          114.84950256347656,
          112.18699645996094,
          111.44000244140625,
          112.76699829101562,
          null,
          null,
          109.91000366210938,
          114.62000274658203,
          114.69999694824219,
          115.04000091552734,
          108.36000061035156,
          null,
          null,
          108.20999908447266,
          105.44000244140625,
          113.5999984741211,
          114.58999633789062,
          116.63999938964844,
          null,
          null,
          115.4800033569336,
          115.9000015258789,
          118.77999877929688,
          118.87000274658203,
          118.22000122070312,
          null,
          null,
          118.13999938964844,
          117.5,
          120.6500015258789,
          119.81999969482422,
          122.6500015258789,
          null,
          null,
          122.87999725341797,
          122.51000213623047,
          120.31999969482422,
          120.86000061035156,
          118.12000274658203,
          null,
          null,
          115.06999969482422,
          114.7699966430664,
          114.69999694824219,
          117.69999694824219,
          111.30000305175781,
          null,
          null,
          110.33999633789062,
          109.91000366210938,
          109.1500015258789,
          110.55000305175781,
          108.68000030517578,
          null,
          null,
          null,
          107.4800033569336,
          110.4800033569336,
          109.41999816894531,
          111.77999877929688,
          null,
          null,
          111.87000274658203,
          105.30999755859375,
          105.87000274658203,
          103.9000015258789,
          103.62999725341797,
          null,
          null,
          103.8499984741211,
          101.83000183105469,
          100.01000213623047,
          100.56999969482422,
          99.16999816894531,
          null,
          null,
          98.80999755859375,
          98.08999633789062,
          100.73999786376953,
          98.08999633789062,
          96.1500015258789,
          null,
          null,
          99.30000305175781,
          102.41000366210938,
          102.22000122070312,
          102.23999786376953,
          99.56999969482422,
          null,
          null,
          98.70999908447266,
          98.05000305175781,
          98.30000305175781,
          99.70999908447266,
          97.18000030517578,
          null,
          null,
          100.77999877929688,
          101.38999938964844,
          100.29000091552734,
          100.52999877929688,
          101.4800033569336,
          null,
          null,
          102.97000122070312,
          104.93000030517578,
          94.81999969482422,
          92.5999984741211,
          96.58000183105469,
          null,
          null,
          94.66000366210938,
          90.5,
          87.06999969482422,
          83.48999786376953,
          86.69999694824219,
          null,
          null,
          88.6500015258789,
          88.91000366210938,
          87.4000015258789,
          94.16999816894531,
          96.7300033569336,
          null,
          null,
          96.02999877929688,
          98.72000122070312,
          98.98999786376953,
          98.5,
          97.80000305175781,
          null,
          null,
          95.83000183105469,
          97.33000183105469,
          98.81999969482422,
          null,
          97.5999984741211,
          null,
          null,
          96.25,
          95.44000244140625,
          101.44999694824219,
          101.27999877929688,
          100.83000183105469,
          null,
          null,
          99.87000274658203,
          97.30999755859375,
          95.1500015258789,
          93.94999694824219,
          93.06999969482422,
          null,
          null,
          93.55999755859375,
          95.8499984741211,
          95.30999755859375,
          91.19999694824219,
          90.86000061035156,
          null,
          null,
          89.1500015258789,
          89.62999725341797,
          90.25,
          88.26000213623047,
          89.80999755859375,
          null,
          null,
          null,
          87.93000030517578,
          86.45999908447266,
          88.94999694824219,
          88.7300033569336,
          null,
          null,
          null,
          89.69999694824219,
          88.70999908447266,
          86.7699966430664,
          88.16000366210938,
          null,
          null,
          88.80000305175781,
          89.23999786376953,
          92.26000213623047,
          91.91000366210938,
          92.80000305175781,
          null,
          null,
          null,
          92.16000366210938,
          91.77999877929688,
          93.91000366210938,
          99.27999877929688,
          null,
          null,
          101.20999908447266,
          99.20999908447266,
          96.7300033569336,
          99.16000366210938,
          100.70999908447266,
          null,
          null,
          97.94999694824219,
          99.87000274658203,
          101.43000030517578,
          108.80000305175781,
          105.22000122070312,
          null,
          null,
          103.47000122070312,
          108.04000091552734,
          100,
          95.45999908447266,
          94.86000061035156,
          null,
          null,
          95,
          94.94999694824219,
          96.9749984741211
         ],
         "y0": " ",
         "yaxis": "y"
        }
       ],
       "layout": {
        "legend": {
         "tracegroupgap": 0
        },
        "margin": {
         "t": 60
        },
        "template": {
         "data": {
          "bar": [
           {
            "error_x": {
             "color": "rgb(36,36,36)"
            },
            "error_y": {
             "color": "rgb(36,36,36)"
            },
            "marker": {
             "line": {
              "color": "rgb(234,234,242)",
              "width": 0.5
             },
             "pattern": {
              "fillmode": "overlay",
              "size": 10,
              "solidity": 0.2
             }
            },
            "type": "bar"
           }
          ],
          "barpolar": [
           {
            "marker": {
             "line": {
              "color": "rgb(234,234,242)",
              "width": 0.5
             },
             "pattern": {
              "fillmode": "overlay",
              "size": 10,
              "solidity": 0.2
             }
            },
            "type": "barpolar"
           }
          ],
          "carpet": [
           {
            "aaxis": {
             "endlinecolor": "rgb(36,36,36)",
             "gridcolor": "white",
             "linecolor": "white",
             "minorgridcolor": "white",
             "startlinecolor": "rgb(36,36,36)"
            },
            "baxis": {
             "endlinecolor": "rgb(36,36,36)",
             "gridcolor": "white",
             "linecolor": "white",
             "minorgridcolor": "white",
             "startlinecolor": "rgb(36,36,36)"
            },
            "type": "carpet"
           }
          ],
          "choropleth": [
           {
            "colorbar": {
             "outlinewidth": 0,
             "tickcolor": "rgb(36,36,36)",
             "ticklen": 8,
             "ticks": "outside",
             "tickwidth": 2
            },
            "type": "choropleth"
           }
          ],
          "contour": [
           {
            "colorbar": {
             "outlinewidth": 0,
             "tickcolor": "rgb(36,36,36)",
             "ticklen": 8,
             "ticks": "outside",
             "tickwidth": 2
            },
            "colorscale": [
             [
              0,
              "rgb(2,4,25)"
             ],
             [
              0.06274509803921569,
              "rgb(24,15,41)"
             ],
             [
              0.12549019607843137,
              "rgb(47,23,57)"
             ],
             [
              0.18823529411764706,
              "rgb(71,28,72)"
             ],
             [
              0.25098039215686274,
              "rgb(97,30,82)"
             ],
             [
              0.3137254901960784,
              "rgb(123,30,89)"
             ],
             [
              0.3764705882352941,
              "rgb(150,27,91)"
             ],
             [
              0.4392156862745098,
              "rgb(177,22,88)"
             ],
             [
              0.5019607843137255,
              "rgb(203,26,79)"
             ],
             [
              0.5647058823529412,
              "rgb(223,47,67)"
             ],
             [
              0.6274509803921569,
              "rgb(236,76,61)"
             ],
             [
              0.6901960784313725,
              "rgb(242,107,73)"
             ],
             [
              0.7529411764705882,
              "rgb(244,135,95)"
             ],
             [
              0.8156862745098039,
              "rgb(245,162,122)"
             ],
             [
              0.8784313725490196,
              "rgb(246,188,153)"
             ],
             [
              0.9411764705882353,
              "rgb(247,212,187)"
             ],
             [
              1,
              "rgb(250,234,220)"
             ]
            ],
            "type": "contour"
           }
          ],
          "contourcarpet": [
           {
            "colorbar": {
             "outlinewidth": 0,
             "tickcolor": "rgb(36,36,36)",
             "ticklen": 8,
             "ticks": "outside",
             "tickwidth": 2
            },
            "type": "contourcarpet"
           }
          ],
          "heatmap": [
           {
            "colorbar": {
             "outlinewidth": 0,
             "tickcolor": "rgb(36,36,36)",
             "ticklen": 8,
             "ticks": "outside",
             "tickwidth": 2
            },
            "colorscale": [
             [
              0,
              "rgb(2,4,25)"
             ],
             [
              0.06274509803921569,
              "rgb(24,15,41)"
             ],
             [
              0.12549019607843137,
              "rgb(47,23,57)"
             ],
             [
              0.18823529411764706,
              "rgb(71,28,72)"
             ],
             [
              0.25098039215686274,
              "rgb(97,30,82)"
             ],
             [
              0.3137254901960784,
              "rgb(123,30,89)"
             ],
             [
              0.3764705882352941,
              "rgb(150,27,91)"
             ],
             [
              0.4392156862745098,
              "rgb(177,22,88)"
             ],
             [
              0.5019607843137255,
              "rgb(203,26,79)"
             ],
             [
              0.5647058823529412,
              "rgb(223,47,67)"
             ],
             [
              0.6274509803921569,
              "rgb(236,76,61)"
             ],
             [
              0.6901960784313725,
              "rgb(242,107,73)"
             ],
             [
              0.7529411764705882,
              "rgb(244,135,95)"
             ],
             [
              0.8156862745098039,
              "rgb(245,162,122)"
             ],
             [
              0.8784313725490196,
              "rgb(246,188,153)"
             ],
             [
              0.9411764705882353,
              "rgb(247,212,187)"
             ],
             [
              1,
              "rgb(250,234,220)"
             ]
            ],
            "type": "heatmap"
           }
          ],
          "heatmapgl": [
           {
            "colorbar": {
             "outlinewidth": 0,
             "tickcolor": "rgb(36,36,36)",
             "ticklen": 8,
             "ticks": "outside",
             "tickwidth": 2
            },
            "colorscale": [
             [
              0,
              "rgb(2,4,25)"
             ],
             [
              0.06274509803921569,
              "rgb(24,15,41)"
             ],
             [
              0.12549019607843137,
              "rgb(47,23,57)"
             ],
             [
              0.18823529411764706,
              "rgb(71,28,72)"
             ],
             [
              0.25098039215686274,
              "rgb(97,30,82)"
             ],
             [
              0.3137254901960784,
              "rgb(123,30,89)"
             ],
             [
              0.3764705882352941,
              "rgb(150,27,91)"
             ],
             [
              0.4392156862745098,
              "rgb(177,22,88)"
             ],
             [
              0.5019607843137255,
              "rgb(203,26,79)"
             ],
             [
              0.5647058823529412,
              "rgb(223,47,67)"
             ],
             [
              0.6274509803921569,
              "rgb(236,76,61)"
             ],
             [
              0.6901960784313725,
              "rgb(242,107,73)"
             ],
             [
              0.7529411764705882,
              "rgb(244,135,95)"
             ],
             [
              0.8156862745098039,
              "rgb(245,162,122)"
             ],
             [
              0.8784313725490196,
              "rgb(246,188,153)"
             ],
             [
              0.9411764705882353,
              "rgb(247,212,187)"
             ],
             [
              1,
              "rgb(250,234,220)"
             ]
            ],
            "type": "heatmapgl"
           }
          ],
          "histogram": [
           {
            "marker": {
             "pattern": {
              "fillmode": "overlay",
              "size": 10,
              "solidity": 0.2
             }
            },
            "type": "histogram"
           }
          ],
          "histogram2d": [
           {
            "colorbar": {
             "outlinewidth": 0,
             "tickcolor": "rgb(36,36,36)",
             "ticklen": 8,
             "ticks": "outside",
             "tickwidth": 2
            },
            "colorscale": [
             [
              0,
              "rgb(2,4,25)"
             ],
             [
              0.06274509803921569,
              "rgb(24,15,41)"
             ],
             [
              0.12549019607843137,
              "rgb(47,23,57)"
             ],
             [
              0.18823529411764706,
              "rgb(71,28,72)"
             ],
             [
              0.25098039215686274,
              "rgb(97,30,82)"
             ],
             [
              0.3137254901960784,
              "rgb(123,30,89)"
             ],
             [
              0.3764705882352941,
              "rgb(150,27,91)"
             ],
             [
              0.4392156862745098,
              "rgb(177,22,88)"
             ],
             [
              0.5019607843137255,
              "rgb(203,26,79)"
             ],
             [
              0.5647058823529412,
              "rgb(223,47,67)"
             ],
             [
              0.6274509803921569,
              "rgb(236,76,61)"
             ],
             [
              0.6901960784313725,
              "rgb(242,107,73)"
             ],
             [
              0.7529411764705882,
              "rgb(244,135,95)"
             ],
             [
              0.8156862745098039,
              "rgb(245,162,122)"
             ],
             [
              0.8784313725490196,
              "rgb(246,188,153)"
             ],
             [
              0.9411764705882353,
              "rgb(247,212,187)"
             ],
             [
              1,
              "rgb(250,234,220)"
             ]
            ],
            "type": "histogram2d"
           }
          ],
          "histogram2dcontour": [
           {
            "colorbar": {
             "outlinewidth": 0,
             "tickcolor": "rgb(36,36,36)",
             "ticklen": 8,
             "ticks": "outside",
             "tickwidth": 2
            },
            "colorscale": [
             [
              0,
              "rgb(2,4,25)"
             ],
             [
              0.06274509803921569,
              "rgb(24,15,41)"
             ],
             [
              0.12549019607843137,
              "rgb(47,23,57)"
             ],
             [
              0.18823529411764706,
              "rgb(71,28,72)"
             ],
             [
              0.25098039215686274,
              "rgb(97,30,82)"
             ],
             [
              0.3137254901960784,
              "rgb(123,30,89)"
             ],
             [
              0.3764705882352941,
              "rgb(150,27,91)"
             ],
             [
              0.4392156862745098,
              "rgb(177,22,88)"
             ],
             [
              0.5019607843137255,
              "rgb(203,26,79)"
             ],
             [
              0.5647058823529412,
              "rgb(223,47,67)"
             ],
             [
              0.6274509803921569,
              "rgb(236,76,61)"
             ],
             [
              0.6901960784313725,
              "rgb(242,107,73)"
             ],
             [
              0.7529411764705882,
              "rgb(244,135,95)"
             ],
             [
              0.8156862745098039,
              "rgb(245,162,122)"
             ],
             [
              0.8784313725490196,
              "rgb(246,188,153)"
             ],
             [
              0.9411764705882353,
              "rgb(247,212,187)"
             ],
             [
              1,
              "rgb(250,234,220)"
             ]
            ],
            "type": "histogram2dcontour"
           }
          ],
          "mesh3d": [
           {
            "colorbar": {
             "outlinewidth": 0,
             "tickcolor": "rgb(36,36,36)",
             "ticklen": 8,
             "ticks": "outside",
             "tickwidth": 2
            },
            "type": "mesh3d"
           }
          ],
          "parcoords": [
           {
            "line": {
             "colorbar": {
              "outlinewidth": 0,
              "tickcolor": "rgb(36,36,36)",
              "ticklen": 8,
              "ticks": "outside",
              "tickwidth": 2
             }
            },
            "type": "parcoords"
           }
          ],
          "pie": [
           {
            "automargin": true,
            "type": "pie"
           }
          ],
          "scatter": [
           {
            "fillpattern": {
             "fillmode": "overlay",
             "size": 10,
             "solidity": 0.2
            },
            "type": "scatter"
           }
          ],
          "scatter3d": [
           {
            "line": {
             "colorbar": {
              "outlinewidth": 0,
              "tickcolor": "rgb(36,36,36)",
              "ticklen": 8,
              "ticks": "outside",
              "tickwidth": 2
             }
            },
            "marker": {
             "colorbar": {
              "outlinewidth": 0,
              "tickcolor": "rgb(36,36,36)",
              "ticklen": 8,
              "ticks": "outside",
              "tickwidth": 2
             }
            },
            "type": "scatter3d"
           }
          ],
          "scattercarpet": [
           {
            "marker": {
             "colorbar": {
              "outlinewidth": 0,
              "tickcolor": "rgb(36,36,36)",
              "ticklen": 8,
              "ticks": "outside",
              "tickwidth": 2
             }
            },
            "type": "scattercarpet"
           }
          ],
          "scattergeo": [
           {
            "marker": {
             "colorbar": {
              "outlinewidth": 0,
              "tickcolor": "rgb(36,36,36)",
              "ticklen": 8,
              "ticks": "outside",
              "tickwidth": 2
             }
            },
            "type": "scattergeo"
           }
          ],
          "scattergl": [
           {
            "marker": {
             "colorbar": {
              "outlinewidth": 0,
              "tickcolor": "rgb(36,36,36)",
              "ticklen": 8,
              "ticks": "outside",
              "tickwidth": 2
             }
            },
            "type": "scattergl"
           }
          ],
          "scattermapbox": [
           {
            "marker": {
             "colorbar": {
              "outlinewidth": 0,
              "tickcolor": "rgb(36,36,36)",
              "ticklen": 8,
              "ticks": "outside",
              "tickwidth": 2
             }
            },
            "type": "scattermapbox"
           }
          ],
          "scatterpolar": [
           {
            "marker": {
             "colorbar": {
              "outlinewidth": 0,
              "tickcolor": "rgb(36,36,36)",
              "ticklen": 8,
              "ticks": "outside",
              "tickwidth": 2
             }
            },
            "type": "scatterpolar"
           }
          ],
          "scatterpolargl": [
           {
            "marker": {
             "colorbar": {
              "outlinewidth": 0,
              "tickcolor": "rgb(36,36,36)",
              "ticklen": 8,
              "ticks": "outside",
              "tickwidth": 2
             }
            },
            "type": "scatterpolargl"
           }
          ],
          "scatterternary": [
           {
            "marker": {
             "colorbar": {
              "outlinewidth": 0,
              "tickcolor": "rgb(36,36,36)",
              "ticklen": 8,
              "ticks": "outside",
              "tickwidth": 2
             }
            },
            "type": "scatterternary"
           }
          ],
          "surface": [
           {
            "colorbar": {
             "outlinewidth": 0,
             "tickcolor": "rgb(36,36,36)",
             "ticklen": 8,
             "ticks": "outside",
             "tickwidth": 2
            },
            "colorscale": [
             [
              0,
              "rgb(2,4,25)"
             ],
             [
              0.06274509803921569,
              "rgb(24,15,41)"
             ],
             [
              0.12549019607843137,
              "rgb(47,23,57)"
             ],
             [
              0.18823529411764706,
              "rgb(71,28,72)"
             ],
             [
              0.25098039215686274,
              "rgb(97,30,82)"
             ],
             [
              0.3137254901960784,
              "rgb(123,30,89)"
             ],
             [
              0.3764705882352941,
              "rgb(150,27,91)"
             ],
             [
              0.4392156862745098,
              "rgb(177,22,88)"
             ],
             [
              0.5019607843137255,
              "rgb(203,26,79)"
             ],
             [
              0.5647058823529412,
              "rgb(223,47,67)"
             ],
             [
              0.6274509803921569,
              "rgb(236,76,61)"
             ],
             [
              0.6901960784313725,
              "rgb(242,107,73)"
             ],
             [
              0.7529411764705882,
              "rgb(244,135,95)"
             ],
             [
              0.8156862745098039,
              "rgb(245,162,122)"
             ],
             [
              0.8784313725490196,
              "rgb(246,188,153)"
             ],
             [
              0.9411764705882353,
              "rgb(247,212,187)"
             ],
             [
              1,
              "rgb(250,234,220)"
             ]
            ],
            "type": "surface"
           }
          ],
          "table": [
           {
            "cells": {
             "fill": {
              "color": "rgb(231,231,240)"
             },
             "line": {
              "color": "white"
             }
            },
            "header": {
             "fill": {
              "color": "rgb(183,183,191)"
             },
             "line": {
              "color": "white"
             }
            },
            "type": "table"
           }
          ]
         },
         "layout": {
          "annotationdefaults": {
           "arrowcolor": "rgb(67,103,167)"
          },
          "autotypenumbers": "strict",
          "coloraxis": {
           "colorbar": {
            "outlinewidth": 0,
            "tickcolor": "rgb(36,36,36)",
            "ticklen": 8,
            "ticks": "outside",
            "tickwidth": 2
           }
          },
          "colorscale": {
           "sequential": [
            [
             0,
             "rgb(2,4,25)"
            ],
            [
             0.06274509803921569,
             "rgb(24,15,41)"
            ],
            [
             0.12549019607843137,
             "rgb(47,23,57)"
            ],
            [
             0.18823529411764706,
             "rgb(71,28,72)"
            ],
            [
             0.25098039215686274,
             "rgb(97,30,82)"
            ],
            [
             0.3137254901960784,
             "rgb(123,30,89)"
            ],
            [
             0.3764705882352941,
             "rgb(150,27,91)"
            ],
            [
             0.4392156862745098,
             "rgb(177,22,88)"
            ],
            [
             0.5019607843137255,
             "rgb(203,26,79)"
            ],
            [
             0.5647058823529412,
             "rgb(223,47,67)"
            ],
            [
             0.6274509803921569,
             "rgb(236,76,61)"
            ],
            [
             0.6901960784313725,
             "rgb(242,107,73)"
            ],
            [
             0.7529411764705882,
             "rgb(244,135,95)"
            ],
            [
             0.8156862745098039,
             "rgb(245,162,122)"
            ],
            [
             0.8784313725490196,
             "rgb(246,188,153)"
            ],
            [
             0.9411764705882353,
             "rgb(247,212,187)"
            ],
            [
             1,
             "rgb(250,234,220)"
            ]
           ],
           "sequentialminus": [
            [
             0,
             "rgb(2,4,25)"
            ],
            [
             0.06274509803921569,
             "rgb(24,15,41)"
            ],
            [
             0.12549019607843137,
             "rgb(47,23,57)"
            ],
            [
             0.18823529411764706,
             "rgb(71,28,72)"
            ],
            [
             0.25098039215686274,
             "rgb(97,30,82)"
            ],
            [
             0.3137254901960784,
             "rgb(123,30,89)"
            ],
            [
             0.3764705882352941,
             "rgb(150,27,91)"
            ],
            [
             0.4392156862745098,
             "rgb(177,22,88)"
            ],
            [
             0.5019607843137255,
             "rgb(203,26,79)"
            ],
            [
             0.5647058823529412,
             "rgb(223,47,67)"
            ],
            [
             0.6274509803921569,
             "rgb(236,76,61)"
            ],
            [
             0.6901960784313725,
             "rgb(242,107,73)"
            ],
            [
             0.7529411764705882,
             "rgb(244,135,95)"
            ],
            [
             0.8156862745098039,
             "rgb(245,162,122)"
            ],
            [
             0.8784313725490196,
             "rgb(246,188,153)"
            ],
            [
             0.9411764705882353,
             "rgb(247,212,187)"
            ],
            [
             1,
             "rgb(250,234,220)"
            ]
           ]
          },
          "colorway": [
           "rgb(76,114,176)",
           "rgb(221,132,82)",
           "rgb(85,168,104)",
           "rgb(196,78,82)",
           "rgb(129,114,179)",
           "rgb(147,120,96)",
           "rgb(218,139,195)",
           "rgb(140,140,140)",
           "rgb(204,185,116)",
           "rgb(100,181,205)"
          ],
          "font": {
           "color": "rgb(36,36,36)"
          },
          "geo": {
           "bgcolor": "white",
           "lakecolor": "white",
           "landcolor": "rgb(234,234,242)",
           "showlakes": true,
           "showland": true,
           "subunitcolor": "white"
          },
          "hoverlabel": {
           "align": "left"
          },
          "hovermode": "closest",
          "paper_bgcolor": "white",
          "plot_bgcolor": "rgb(234,234,242)",
          "polar": {
           "angularaxis": {
            "gridcolor": "white",
            "linecolor": "white",
            "showgrid": true,
            "ticks": ""
           },
           "bgcolor": "rgb(234,234,242)",
           "radialaxis": {
            "gridcolor": "white",
            "linecolor": "white",
            "showgrid": true,
            "ticks": ""
           }
          },
          "scene": {
           "xaxis": {
            "backgroundcolor": "rgb(234,234,242)",
            "gridcolor": "white",
            "gridwidth": 2,
            "linecolor": "white",
            "showbackground": true,
            "showgrid": true,
            "ticks": "",
            "zerolinecolor": "white"
           },
           "yaxis": {
            "backgroundcolor": "rgb(234,234,242)",
            "gridcolor": "white",
            "gridwidth": 2,
            "linecolor": "white",
            "showbackground": true,
            "showgrid": true,
            "ticks": "",
            "zerolinecolor": "white"
           },
           "zaxis": {
            "backgroundcolor": "rgb(234,234,242)",
            "gridcolor": "white",
            "gridwidth": 2,
            "linecolor": "white",
            "showbackground": true,
            "showgrid": true,
            "ticks": "",
            "zerolinecolor": "white"
           }
          },
          "shapedefaults": {
           "fillcolor": "rgb(67,103,167)",
           "line": {
            "width": 0
           },
           "opacity": 0.5
          },
          "ternary": {
           "aaxis": {
            "gridcolor": "white",
            "linecolor": "white",
            "showgrid": true,
            "ticks": ""
           },
           "baxis": {
            "gridcolor": "white",
            "linecolor": "white",
            "showgrid": true,
            "ticks": ""
           },
           "bgcolor": "rgb(234,234,242)",
           "caxis": {
            "gridcolor": "white",
            "linecolor": "white",
            "showgrid": true,
            "ticks": ""
           }
          },
          "xaxis": {
           "automargin": true,
           "gridcolor": "white",
           "linecolor": "white",
           "showgrid": true,
           "ticks": "",
           "title": {
            "standoff": 15
           },
           "zerolinecolor": "white"
          },
          "yaxis": {
           "automargin": true,
           "gridcolor": "white",
           "linecolor": "white",
           "showgrid": true,
           "ticks": "",
           "title": {
            "standoff": 15
           },
           "zerolinecolor": "white"
          }
         }
        },
        "title": {
         "text": "Day of the week seasonality (GOOG)"
        },
        "violinmode": "group",
        "xaxis": {
         "anchor": "y",
         "domain": [
          0,
          1
         ],
         "title": {
          "text": "Weekday"
         }
        },
        "yaxis": {
         "anchor": "x",
         "domain": [
          0,
          1
         ],
         "title": {
          "text": "Closing price (USD)"
         }
        }
       }
      }
     },
     "metadata": {},
     "output_type": "display_data"
    }
   ],
   "source": [
    "fig = violin_weekday(tickers_data, ticker_selected)\n",
    "fig.update_layout(template=\"seaborn\").show()"
   ]
  },
  {
   "attachments": {},
   "cell_type": "markdown",
   "metadata": {},
   "source": [
    "There is no noticeable difference in the price of **GOOG** depending on the day of the week."
   ]
  },
  {
   "attachments": {},
   "cell_type": "markdown",
   "metadata": {},
   "source": [
    "## 4. Data Modelling\n",
    "\n",
    "In this section, we will model our time-series data for price forecasting.\n"
   ]
  },
  {
   "attachments": {},
   "cell_type": "markdown",
   "metadata": {},
   "source": [
    "### 4.1. Split data into training and testing sets\n",
    "\n",
    "Data is split into training and testing sets for model fitting and evaluation, respectively."
   ]
  },
  {
   "cell_type": "code",
   "execution_count": 16,
   "metadata": {},
   "outputs": [],
   "source": [
    "train_data, test_data = split_time_data(\n",
    "    preprocess_data(\n",
    "        tickers_data.reorder_levels(order=[1, 0], axis=1)[ticker_selected],\n",
    "    ),\n",
    "    start_train_date=tickers_data.index.max() - relativedelta(years=1),\n",
    ")"
   ]
  },
  {
   "cell_type": "code",
   "execution_count": 17,
   "metadata": {},
   "outputs": [
    {
     "data": {
      "application/vnd.plotly.v1+json": {
       "config": {
        "plotlyServerURL": "https://plot.ly"
       },
       "data": [
        {
         "mode": "lines",
         "name": "Training",
         "type": "scatter",
         "x": [
          "2022-02-15T00:00:00",
          "2022-02-16T00:00:00",
          "2022-02-17T00:00:00",
          "2022-02-18T00:00:00",
          "2022-02-19T00:00:00",
          "2022-02-20T00:00:00",
          "2022-02-21T00:00:00",
          "2022-02-22T00:00:00",
          "2022-02-23T00:00:00",
          "2022-02-24T00:00:00",
          "2022-02-25T00:00:00",
          "2022-02-26T00:00:00",
          "2022-02-27T00:00:00",
          "2022-02-28T00:00:00",
          "2022-03-01T00:00:00",
          "2022-03-02T00:00:00",
          "2022-03-03T00:00:00",
          "2022-03-04T00:00:00",
          "2022-03-05T00:00:00",
          "2022-03-06T00:00:00",
          "2022-03-07T00:00:00",
          "2022-03-08T00:00:00",
          "2022-03-09T00:00:00",
          "2022-03-10T00:00:00",
          "2022-03-11T00:00:00",
          "2022-03-12T00:00:00",
          "2022-03-13T00:00:00",
          "2022-03-14T00:00:00",
          "2022-03-15T00:00:00",
          "2022-03-16T00:00:00",
          "2022-03-17T00:00:00",
          "2022-03-18T00:00:00",
          "2022-03-19T00:00:00",
          "2022-03-20T00:00:00",
          "2022-03-21T00:00:00",
          "2022-03-22T00:00:00",
          "2022-03-23T00:00:00",
          "2022-03-24T00:00:00",
          "2022-03-25T00:00:00",
          "2022-03-26T00:00:00",
          "2022-03-27T00:00:00",
          "2022-03-28T00:00:00",
          "2022-03-29T00:00:00",
          "2022-03-30T00:00:00",
          "2022-03-31T00:00:00",
          "2022-04-01T00:00:00",
          "2022-04-02T00:00:00",
          "2022-04-03T00:00:00",
          "2022-04-04T00:00:00",
          "2022-04-05T00:00:00",
          "2022-04-06T00:00:00",
          "2022-04-07T00:00:00",
          "2022-04-08T00:00:00",
          "2022-04-09T00:00:00",
          "2022-04-10T00:00:00",
          "2022-04-11T00:00:00",
          "2022-04-12T00:00:00",
          "2022-04-13T00:00:00",
          "2022-04-14T00:00:00",
          "2022-04-15T00:00:00",
          "2022-04-16T00:00:00",
          "2022-04-17T00:00:00",
          "2022-04-18T00:00:00",
          "2022-04-19T00:00:00",
          "2022-04-20T00:00:00",
          "2022-04-21T00:00:00",
          "2022-04-22T00:00:00",
          "2022-04-23T00:00:00",
          "2022-04-24T00:00:00",
          "2022-04-25T00:00:00",
          "2022-04-26T00:00:00",
          "2022-04-27T00:00:00",
          "2022-04-28T00:00:00",
          "2022-04-29T00:00:00",
          "2022-04-30T00:00:00",
          "2022-05-01T00:00:00",
          "2022-05-02T00:00:00",
          "2022-05-03T00:00:00",
          "2022-05-04T00:00:00",
          "2022-05-05T00:00:00",
          "2022-05-06T00:00:00",
          "2022-05-07T00:00:00",
          "2022-05-08T00:00:00",
          "2022-05-09T00:00:00",
          "2022-05-10T00:00:00",
          "2022-05-11T00:00:00",
          "2022-05-12T00:00:00",
          "2022-05-13T00:00:00",
          "2022-05-14T00:00:00",
          "2022-05-15T00:00:00",
          "2022-05-16T00:00:00",
          "2022-05-17T00:00:00",
          "2022-05-18T00:00:00",
          "2022-05-19T00:00:00",
          "2022-05-20T00:00:00",
          "2022-05-21T00:00:00",
          "2022-05-22T00:00:00",
          "2022-05-23T00:00:00",
          "2022-05-24T00:00:00",
          "2022-05-25T00:00:00",
          "2022-05-26T00:00:00",
          "2022-05-27T00:00:00",
          "2022-05-28T00:00:00",
          "2022-05-29T00:00:00",
          "2022-05-30T00:00:00",
          "2022-05-31T00:00:00",
          "2022-06-01T00:00:00",
          "2022-06-02T00:00:00",
          "2022-06-03T00:00:00",
          "2022-06-04T00:00:00",
          "2022-06-05T00:00:00",
          "2022-06-06T00:00:00",
          "2022-06-07T00:00:00",
          "2022-06-08T00:00:00",
          "2022-06-09T00:00:00",
          "2022-06-10T00:00:00",
          "2022-06-11T00:00:00",
          "2022-06-12T00:00:00",
          "2022-06-13T00:00:00",
          "2022-06-14T00:00:00",
          "2022-06-15T00:00:00",
          "2022-06-16T00:00:00",
          "2022-06-17T00:00:00",
          "2022-06-18T00:00:00",
          "2022-06-19T00:00:00",
          "2022-06-20T00:00:00",
          "2022-06-21T00:00:00",
          "2022-06-22T00:00:00",
          "2022-06-23T00:00:00",
          "2022-06-24T00:00:00",
          "2022-06-25T00:00:00",
          "2022-06-26T00:00:00",
          "2022-06-27T00:00:00",
          "2022-06-28T00:00:00",
          "2022-06-29T00:00:00",
          "2022-06-30T00:00:00",
          "2022-07-01T00:00:00",
          "2022-07-02T00:00:00",
          "2022-07-03T00:00:00",
          "2022-07-04T00:00:00",
          "2022-07-05T00:00:00",
          "2022-07-06T00:00:00",
          "2022-07-07T00:00:00",
          "2022-07-08T00:00:00",
          "2022-07-09T00:00:00",
          "2022-07-10T00:00:00",
          "2022-07-11T00:00:00",
          "2022-07-12T00:00:00",
          "2022-07-13T00:00:00",
          "2022-07-14T00:00:00",
          "2022-07-15T00:00:00",
          "2022-07-16T00:00:00",
          "2022-07-17T00:00:00",
          "2022-07-18T00:00:00",
          "2022-07-19T00:00:00",
          "2022-07-20T00:00:00",
          "2022-07-21T00:00:00",
          "2022-07-22T00:00:00",
          "2022-07-23T00:00:00",
          "2022-07-24T00:00:00",
          "2022-07-25T00:00:00",
          "2022-07-26T00:00:00",
          "2022-07-27T00:00:00",
          "2022-07-28T00:00:00",
          "2022-07-29T00:00:00",
          "2022-07-30T00:00:00",
          "2022-07-31T00:00:00",
          "2022-08-01T00:00:00",
          "2022-08-02T00:00:00",
          "2022-08-03T00:00:00",
          "2022-08-04T00:00:00",
          "2022-08-05T00:00:00",
          "2022-08-06T00:00:00",
          "2022-08-07T00:00:00",
          "2022-08-08T00:00:00",
          "2022-08-09T00:00:00",
          "2022-08-10T00:00:00",
          "2022-08-11T00:00:00",
          "2022-08-12T00:00:00",
          "2022-08-13T00:00:00",
          "2022-08-14T00:00:00",
          "2022-08-15T00:00:00",
          "2022-08-16T00:00:00",
          "2022-08-17T00:00:00",
          "2022-08-18T00:00:00",
          "2022-08-19T00:00:00",
          "2022-08-20T00:00:00",
          "2022-08-21T00:00:00",
          "2022-08-22T00:00:00",
          "2022-08-23T00:00:00",
          "2022-08-24T00:00:00",
          "2022-08-25T00:00:00",
          "2022-08-26T00:00:00",
          "2022-08-27T00:00:00",
          "2022-08-28T00:00:00",
          "2022-08-29T00:00:00",
          "2022-08-30T00:00:00",
          "2022-08-31T00:00:00",
          "2022-09-01T00:00:00",
          "2022-09-02T00:00:00",
          "2022-09-03T00:00:00",
          "2022-09-04T00:00:00",
          "2022-09-05T00:00:00",
          "2022-09-06T00:00:00",
          "2022-09-07T00:00:00",
          "2022-09-08T00:00:00",
          "2022-09-09T00:00:00",
          "2022-09-10T00:00:00",
          "2022-09-11T00:00:00",
          "2022-09-12T00:00:00",
          "2022-09-13T00:00:00",
          "2022-09-14T00:00:00",
          "2022-09-15T00:00:00",
          "2022-09-16T00:00:00",
          "2022-09-17T00:00:00",
          "2022-09-18T00:00:00",
          "2022-09-19T00:00:00",
          "2022-09-20T00:00:00",
          "2022-09-21T00:00:00",
          "2022-09-22T00:00:00",
          "2022-09-23T00:00:00",
          "2022-09-24T00:00:00",
          "2022-09-25T00:00:00",
          "2022-09-26T00:00:00",
          "2022-09-27T00:00:00",
          "2022-09-28T00:00:00",
          "2022-09-29T00:00:00",
          "2022-09-30T00:00:00",
          "2022-10-01T00:00:00",
          "2022-10-02T00:00:00",
          "2022-10-03T00:00:00",
          "2022-10-04T00:00:00",
          "2022-10-05T00:00:00",
          "2022-10-06T00:00:00",
          "2022-10-07T00:00:00",
          "2022-10-08T00:00:00",
          "2022-10-09T00:00:00",
          "2022-10-10T00:00:00",
          "2022-10-11T00:00:00",
          "2022-10-12T00:00:00",
          "2022-10-13T00:00:00",
          "2022-10-14T00:00:00",
          "2022-10-15T00:00:00",
          "2022-10-16T00:00:00",
          "2022-10-17T00:00:00",
          "2022-10-18T00:00:00",
          "2022-10-19T00:00:00",
          "2022-10-20T00:00:00",
          "2022-10-21T00:00:00",
          "2022-10-22T00:00:00",
          "2022-10-23T00:00:00",
          "2022-10-24T00:00:00",
          "2022-10-25T00:00:00",
          "2022-10-26T00:00:00",
          "2022-10-27T00:00:00",
          "2022-10-28T00:00:00",
          "2022-10-29T00:00:00",
          "2022-10-30T00:00:00",
          "2022-10-31T00:00:00",
          "2022-11-01T00:00:00",
          "2022-11-02T00:00:00",
          "2022-11-03T00:00:00",
          "2022-11-04T00:00:00",
          "2022-11-05T00:00:00",
          "2022-11-06T00:00:00",
          "2022-11-07T00:00:00",
          "2022-11-08T00:00:00",
          "2022-11-09T00:00:00",
          "2022-11-10T00:00:00",
          "2022-11-11T00:00:00",
          "2022-11-12T00:00:00",
          "2022-11-13T00:00:00",
          "2022-11-14T00:00:00",
          "2022-11-15T00:00:00",
          "2022-11-16T00:00:00",
          "2022-11-17T00:00:00",
          "2022-11-18T00:00:00",
          "2022-11-19T00:00:00",
          "2022-11-20T00:00:00",
          "2022-11-21T00:00:00",
          "2022-11-22T00:00:00",
          "2022-11-23T00:00:00",
          "2022-11-24T00:00:00",
          "2022-11-25T00:00:00",
          "2022-11-26T00:00:00",
          "2022-11-27T00:00:00",
          "2022-11-28T00:00:00",
          "2022-11-29T00:00:00",
          "2022-11-30T00:00:00",
          "2022-12-01T00:00:00",
          "2022-12-02T00:00:00",
          "2022-12-03T00:00:00",
          "2022-12-04T00:00:00",
          "2022-12-05T00:00:00",
          "2022-12-06T00:00:00",
          "2022-12-07T00:00:00",
          "2022-12-08T00:00:00",
          "2022-12-09T00:00:00",
          "2022-12-10T00:00:00",
          "2022-12-11T00:00:00",
          "2022-12-12T00:00:00",
          "2022-12-13T00:00:00",
          "2022-12-14T00:00:00",
          "2022-12-15T00:00:00",
          "2022-12-16T00:00:00",
          "2022-12-17T00:00:00",
          "2022-12-18T00:00:00",
          "2022-12-19T00:00:00",
          "2022-12-20T00:00:00",
          "2022-12-21T00:00:00",
          "2022-12-22T00:00:00",
          "2022-12-23T00:00:00",
          "2022-12-24T00:00:00",
          "2022-12-25T00:00:00",
          "2022-12-26T00:00:00",
          "2022-12-27T00:00:00",
          "2022-12-28T00:00:00",
          "2022-12-29T00:00:00",
          "2022-12-30T00:00:00",
          "2022-12-31T00:00:00",
          "2023-01-01T00:00:00",
          "2023-01-02T00:00:00",
          "2023-01-03T00:00:00",
          "2023-01-04T00:00:00",
          "2023-01-05T00:00:00",
          "2023-01-06T00:00:00",
          "2023-01-07T00:00:00",
          "2023-01-08T00:00:00",
          "2023-01-09T00:00:00",
          "2023-01-10T00:00:00",
          "2023-01-11T00:00:00",
          "2023-01-12T00:00:00",
          "2023-01-13T00:00:00",
          "2023-01-14T00:00:00",
          "2023-01-15T00:00:00",
          "2023-01-16T00:00:00",
          "2023-01-17T00:00:00",
          "2023-01-18T00:00:00"
         ],
         "y": [
          136.42550659179688,
          137.4875030517578,
          132.30850219726562,
          130.46749877929688,
          130.46749877929688,
          130.46749877929688,
          130.46749877929688,
          129.40249633789062,
          127.58499908447266,
          132.67349243164062,
          134.51950073242188,
          134.51950073242188,
          134.51950073242188,
          134.89100646972656,
          134.16799926757812,
          134.75149536132812,
          134.30799865722656,
          132.1219940185547,
          132.1219940185547,
          132.1219940185547,
          126.4645004272461,
          127.27850341796875,
          133.86599731445312,
          132.6820068359375,
          130.47549438476562,
          130.47549438476562,
          130.47549438476562,
          126.74099731445312,
          129.66050720214844,
          133.6905059814453,
          134.60049438476562,
          136.80149841308594,
          136.80149841308594,
          136.80149841308594,
          136.47850036621094,
          140.27749633789062,
          138.5034942626953,
          141.31199645996094,
          141.52149963378906,
          141.52149963378906,
          141.52149963378906,
          141.9499969482422,
          143.25,
          142.64450073242188,
          139.64950561523438,
          140.6999969482422,
          140.6999969482422,
          140.6999969482422,
          143.6425018310547,
          141.06300354003906,
          137.17599487304688,
          136.46499633789062,
          134.010498046875,
          134.010498046875,
          134.010498046875,
          129.79649353027344,
          128.37449645996094,
          130.28599548339844,
          127.25299835205078,
          127.25299835205078,
          127.25299835205078,
          127.25299835205078,
          127.96099853515625,
          130.531005859375,
          128.24549865722656,
          124.9375,
          119.61399841308594,
          119.61399841308594,
          119.61399841308594,
          123.25,
          119.50599670410156,
          115.02050018310547,
          119.4114990234375,
          114.96649932861328,
          114.96649932861328,
          114.96649932861328,
          117.15699768066406,
          118.12950134277344,
          122.57499694824219,
          116.74649810791016,
          115.66000366210938,
          115.66000366210938,
          115.66000366210938,
          113.08399963378906,
          114.58450317382812,
          113.96099853515625,
          113.16100311279297,
          116.5155029296875,
          116.5155029296875,
          116.5155029296875,
          114.7925033569336,
          116.70149993896484,
          112.4010009765625,
          110.74549865722656,
          109.31300354003906,
          109.31300354003906,
          109.31300354003906,
          111.66649627685547,
          105.9260025024414,
          105.8395004272461,
          108.2959976196289,
          112.79900360107422,
          112.79900360107422,
          112.79900360107422,
          112.79900360107422,
          114.03900146484375,
          114.13700103759766,
          117.74600219726562,
          114.56400299072266,
          114.56400299072266,
          114.56400299072266,
          117.010498046875,
          117.22949981689453,
          117.23799896240234,
          114.91799926757812,
          111.42749786376953,
          111.42749786376953,
          111.42749786376953,
          106.87650299072266,
          107.19400024414062,
          110.3905029296875,
          106.63600158691406,
          107.8655014038086,
          107.8655014038086,
          107.8655014038086,
          107.8655014038086,
          112.01499938964844,
          112.03399658203125,
          112.68450164794922,
          118.53800201416016,
          118.53800201416016,
          118.53800201416016,
          116.62249755859375,
          112.57150268554688,
          112.25650024414062,
          109.37249755859375,
          109.08100128173828,
          109.08100128173828,
          109.08100128173828,
          109.08100128173828,
          113.88700103759766,
          115.2135009765625,
          119.30599975585938,
          120.16850280761719,
          120.16850280761719,
          120.16850280761719,
          116.52249908447266,
          114.84950256347656,
          112.18699645996094,
          111.44000244140625,
          112.76699829101562,
          112.76699829101562,
          112.76699829101562,
          109.91000366210938,
          114.62000274658203,
          114.69999694824219,
          115.04000091552734,
          108.36000061035156,
          108.36000061035156,
          108.36000061035156,
          108.20999908447266,
          105.44000244140625,
          113.5999984741211,
          114.58999633789062,
          116.63999938964844,
          116.63999938964844,
          116.63999938964844,
          115.4800033569336,
          115.9000015258789,
          118.77999877929688,
          118.87000274658203,
          118.22000122070312,
          118.22000122070312,
          118.22000122070312,
          118.13999938964844,
          117.5,
          120.6500015258789,
          119.81999969482422,
          122.6500015258789,
          122.6500015258789,
          122.6500015258789,
          122.87999725341797,
          122.51000213623047,
          120.31999969482422,
          120.86000061035156,
          118.12000274658203,
          118.12000274658203,
          118.12000274658203,
          115.06999969482422,
          114.7699966430664,
          114.69999694824219,
          117.69999694824219,
          111.30000305175781,
          111.30000305175781,
          111.30000305175781,
          110.33999633789062,
          109.91000366210938,
          109.1500015258789,
          110.55000305175781,
          108.68000030517578,
          108.68000030517578,
          108.68000030517578,
          108.68000030517578,
          107.4800033569336,
          110.4800033569336,
          109.41999816894531,
          111.77999877929688,
          111.77999877929688,
          111.77999877929688,
          111.87000274658203,
          105.30999755859375,
          105.87000274658203,
          103.9000015258789,
          103.62999725341797,
          103.62999725341797,
          103.62999725341797,
          103.8499984741211,
          101.83000183105469,
          100.01000213623047,
          100.56999969482422,
          99.16999816894531,
          99.16999816894531,
          99.16999816894531,
          98.80999755859375,
          98.08999633789062,
          100.73999786376953,
          98.08999633789062,
          96.1500015258789,
          96.1500015258789,
          96.1500015258789,
          99.30000305175781,
          102.41000366210938,
          102.22000122070312,
          102.23999786376953,
          99.56999969482422,
          99.56999969482422,
          99.56999969482422,
          98.70999908447266,
          98.05000305175781,
          98.30000305175781,
          99.70999908447266,
          97.18000030517578,
          97.18000030517578,
          97.18000030517578,
          100.77999877929688,
          101.38999938964844,
          100.29000091552734,
          100.52999877929688,
          101.4800033569336,
          101.4800033569336,
          101.4800033569336,
          102.97000122070312,
          104.93000030517578,
          94.81999969482422,
          92.5999984741211,
          96.58000183105469,
          96.58000183105469,
          96.58000183105469,
          94.66000366210938,
          90.5,
          87.06999969482422,
          83.48999786376953,
          86.69999694824219,
          86.69999694824219,
          86.69999694824219,
          88.6500015258789,
          88.91000366210938,
          87.4000015258789,
          94.16999816894531,
          96.7300033569336,
          96.7300033569336,
          96.7300033569336,
          96.02999877929688,
          98.72000122070312,
          98.98999786376953,
          98.5,
          97.80000305175781,
          97.80000305175781,
          97.80000305175781,
          95.83000183105469,
          97.33000183105469,
          98.81999969482422,
          98.81999969482422,
          97.5999984741211,
          97.5999984741211,
          97.5999984741211,
          96.25,
          95.44000244140625,
          101.44999694824219,
          101.27999877929688,
          100.83000183105469,
          100.83000183105469,
          100.83000183105469,
          99.87000274658203,
          97.30999755859375,
          95.1500015258789,
          93.94999694824219,
          93.06999969482422,
          93.06999969482422,
          93.06999969482422,
          93.55999755859375,
          95.8499984741211,
          95.30999755859375,
          91.19999694824219,
          90.86000061035156,
          90.86000061035156,
          90.86000061035156,
          89.1500015258789,
          89.62999725341797,
          90.25,
          88.26000213623047,
          89.80999755859375,
          89.80999755859375,
          89.80999755859375,
          89.80999755859375,
          87.93000030517578,
          86.45999908447266,
          88.94999694824219,
          88.7300033569336,
          88.7300033569336,
          88.7300033569336,
          88.7300033569336,
          89.69999694824219,
          88.70999908447266,
          86.7699966430664,
          88.16000366210938,
          88.16000366210938,
          88.16000366210938,
          88.80000305175781,
          89.23999786376953,
          92.26000213623047,
          91.91000366210938,
          92.80000305175781,
          92.80000305175781,
          92.80000305175781,
          92.80000305175781,
          92.16000366210938,
          91.77999877929688
         ]
        },
        {
         "mode": "lines",
         "name": "Testing",
         "type": "scatter",
         "x": [
          "2023-01-19T00:00:00",
          "2023-01-20T00:00:00",
          "2023-01-21T00:00:00",
          "2023-01-22T00:00:00",
          "2023-01-23T00:00:00",
          "2023-01-24T00:00:00",
          "2023-01-25T00:00:00",
          "2023-01-26T00:00:00",
          "2023-01-27T00:00:00",
          "2023-01-28T00:00:00",
          "2023-01-29T00:00:00",
          "2023-01-30T00:00:00",
          "2023-01-31T00:00:00",
          "2023-02-01T00:00:00",
          "2023-02-02T00:00:00",
          "2023-02-03T00:00:00",
          "2023-02-04T00:00:00",
          "2023-02-05T00:00:00",
          "2023-02-06T00:00:00",
          "2023-02-07T00:00:00",
          "2023-02-08T00:00:00",
          "2023-02-09T00:00:00",
          "2023-02-10T00:00:00",
          "2023-02-11T00:00:00",
          "2023-02-12T00:00:00",
          "2023-02-13T00:00:00",
          "2023-02-14T00:00:00",
          "2023-02-15T00:00:00"
         ],
         "y": [
          93.91000366210938,
          99.27999877929688,
          99.27999877929688,
          99.27999877929688,
          101.20999908447266,
          99.20999908447266,
          96.7300033569336,
          99.16000366210938,
          100.70999908447266,
          100.70999908447266,
          100.70999908447266,
          97.94999694824219,
          99.87000274658203,
          101.43000030517578,
          108.80000305175781,
          105.22000122070312,
          105.22000122070312,
          105.22000122070312,
          103.47000122070312,
          108.04000091552734,
          100,
          95.45999908447266,
          94.86000061035156,
          94.86000061035156,
          94.86000061035156,
          95,
          94.94999694824219,
          96.9749984741211
         ]
        }
       ],
       "layout": {
        "legend": {
         "title": {
          "text": "Data"
         }
        },
        "template": {
         "data": {
          "bar": [
           {
            "error_x": {
             "color": "rgb(36,36,36)"
            },
            "error_y": {
             "color": "rgb(36,36,36)"
            },
            "marker": {
             "line": {
              "color": "rgb(234,234,242)",
              "width": 0.5
             },
             "pattern": {
              "fillmode": "overlay",
              "size": 10,
              "solidity": 0.2
             }
            },
            "type": "bar"
           }
          ],
          "barpolar": [
           {
            "marker": {
             "line": {
              "color": "rgb(234,234,242)",
              "width": 0.5
             },
             "pattern": {
              "fillmode": "overlay",
              "size": 10,
              "solidity": 0.2
             }
            },
            "type": "barpolar"
           }
          ],
          "carpet": [
           {
            "aaxis": {
             "endlinecolor": "rgb(36,36,36)",
             "gridcolor": "white",
             "linecolor": "white",
             "minorgridcolor": "white",
             "startlinecolor": "rgb(36,36,36)"
            },
            "baxis": {
             "endlinecolor": "rgb(36,36,36)",
             "gridcolor": "white",
             "linecolor": "white",
             "minorgridcolor": "white",
             "startlinecolor": "rgb(36,36,36)"
            },
            "type": "carpet"
           }
          ],
          "choropleth": [
           {
            "colorbar": {
             "outlinewidth": 0,
             "tickcolor": "rgb(36,36,36)",
             "ticklen": 8,
             "ticks": "outside",
             "tickwidth": 2
            },
            "type": "choropleth"
           }
          ],
          "contour": [
           {
            "colorbar": {
             "outlinewidth": 0,
             "tickcolor": "rgb(36,36,36)",
             "ticklen": 8,
             "ticks": "outside",
             "tickwidth": 2
            },
            "colorscale": [
             [
              0,
              "rgb(2,4,25)"
             ],
             [
              0.06274509803921569,
              "rgb(24,15,41)"
             ],
             [
              0.12549019607843137,
              "rgb(47,23,57)"
             ],
             [
              0.18823529411764706,
              "rgb(71,28,72)"
             ],
             [
              0.25098039215686274,
              "rgb(97,30,82)"
             ],
             [
              0.3137254901960784,
              "rgb(123,30,89)"
             ],
             [
              0.3764705882352941,
              "rgb(150,27,91)"
             ],
             [
              0.4392156862745098,
              "rgb(177,22,88)"
             ],
             [
              0.5019607843137255,
              "rgb(203,26,79)"
             ],
             [
              0.5647058823529412,
              "rgb(223,47,67)"
             ],
             [
              0.6274509803921569,
              "rgb(236,76,61)"
             ],
             [
              0.6901960784313725,
              "rgb(242,107,73)"
             ],
             [
              0.7529411764705882,
              "rgb(244,135,95)"
             ],
             [
              0.8156862745098039,
              "rgb(245,162,122)"
             ],
             [
              0.8784313725490196,
              "rgb(246,188,153)"
             ],
             [
              0.9411764705882353,
              "rgb(247,212,187)"
             ],
             [
              1,
              "rgb(250,234,220)"
             ]
            ],
            "type": "contour"
           }
          ],
          "contourcarpet": [
           {
            "colorbar": {
             "outlinewidth": 0,
             "tickcolor": "rgb(36,36,36)",
             "ticklen": 8,
             "ticks": "outside",
             "tickwidth": 2
            },
            "type": "contourcarpet"
           }
          ],
          "heatmap": [
           {
            "colorbar": {
             "outlinewidth": 0,
             "tickcolor": "rgb(36,36,36)",
             "ticklen": 8,
             "ticks": "outside",
             "tickwidth": 2
            },
            "colorscale": [
             [
              0,
              "rgb(2,4,25)"
             ],
             [
              0.06274509803921569,
              "rgb(24,15,41)"
             ],
             [
              0.12549019607843137,
              "rgb(47,23,57)"
             ],
             [
              0.18823529411764706,
              "rgb(71,28,72)"
             ],
             [
              0.25098039215686274,
              "rgb(97,30,82)"
             ],
             [
              0.3137254901960784,
              "rgb(123,30,89)"
             ],
             [
              0.3764705882352941,
              "rgb(150,27,91)"
             ],
             [
              0.4392156862745098,
              "rgb(177,22,88)"
             ],
             [
              0.5019607843137255,
              "rgb(203,26,79)"
             ],
             [
              0.5647058823529412,
              "rgb(223,47,67)"
             ],
             [
              0.6274509803921569,
              "rgb(236,76,61)"
             ],
             [
              0.6901960784313725,
              "rgb(242,107,73)"
             ],
             [
              0.7529411764705882,
              "rgb(244,135,95)"
             ],
             [
              0.8156862745098039,
              "rgb(245,162,122)"
             ],
             [
              0.8784313725490196,
              "rgb(246,188,153)"
             ],
             [
              0.9411764705882353,
              "rgb(247,212,187)"
             ],
             [
              1,
              "rgb(250,234,220)"
             ]
            ],
            "type": "heatmap"
           }
          ],
          "heatmapgl": [
           {
            "colorbar": {
             "outlinewidth": 0,
             "tickcolor": "rgb(36,36,36)",
             "ticklen": 8,
             "ticks": "outside",
             "tickwidth": 2
            },
            "colorscale": [
             [
              0,
              "rgb(2,4,25)"
             ],
             [
              0.06274509803921569,
              "rgb(24,15,41)"
             ],
             [
              0.12549019607843137,
              "rgb(47,23,57)"
             ],
             [
              0.18823529411764706,
              "rgb(71,28,72)"
             ],
             [
              0.25098039215686274,
              "rgb(97,30,82)"
             ],
             [
              0.3137254901960784,
              "rgb(123,30,89)"
             ],
             [
              0.3764705882352941,
              "rgb(150,27,91)"
             ],
             [
              0.4392156862745098,
              "rgb(177,22,88)"
             ],
             [
              0.5019607843137255,
              "rgb(203,26,79)"
             ],
             [
              0.5647058823529412,
              "rgb(223,47,67)"
             ],
             [
              0.6274509803921569,
              "rgb(236,76,61)"
             ],
             [
              0.6901960784313725,
              "rgb(242,107,73)"
             ],
             [
              0.7529411764705882,
              "rgb(244,135,95)"
             ],
             [
              0.8156862745098039,
              "rgb(245,162,122)"
             ],
             [
              0.8784313725490196,
              "rgb(246,188,153)"
             ],
             [
              0.9411764705882353,
              "rgb(247,212,187)"
             ],
             [
              1,
              "rgb(250,234,220)"
             ]
            ],
            "type": "heatmapgl"
           }
          ],
          "histogram": [
           {
            "marker": {
             "pattern": {
              "fillmode": "overlay",
              "size": 10,
              "solidity": 0.2
             }
            },
            "type": "histogram"
           }
          ],
          "histogram2d": [
           {
            "colorbar": {
             "outlinewidth": 0,
             "tickcolor": "rgb(36,36,36)",
             "ticklen": 8,
             "ticks": "outside",
             "tickwidth": 2
            },
            "colorscale": [
             [
              0,
              "rgb(2,4,25)"
             ],
             [
              0.06274509803921569,
              "rgb(24,15,41)"
             ],
             [
              0.12549019607843137,
              "rgb(47,23,57)"
             ],
             [
              0.18823529411764706,
              "rgb(71,28,72)"
             ],
             [
              0.25098039215686274,
              "rgb(97,30,82)"
             ],
             [
              0.3137254901960784,
              "rgb(123,30,89)"
             ],
             [
              0.3764705882352941,
              "rgb(150,27,91)"
             ],
             [
              0.4392156862745098,
              "rgb(177,22,88)"
             ],
             [
              0.5019607843137255,
              "rgb(203,26,79)"
             ],
             [
              0.5647058823529412,
              "rgb(223,47,67)"
             ],
             [
              0.6274509803921569,
              "rgb(236,76,61)"
             ],
             [
              0.6901960784313725,
              "rgb(242,107,73)"
             ],
             [
              0.7529411764705882,
              "rgb(244,135,95)"
             ],
             [
              0.8156862745098039,
              "rgb(245,162,122)"
             ],
             [
              0.8784313725490196,
              "rgb(246,188,153)"
             ],
             [
              0.9411764705882353,
              "rgb(247,212,187)"
             ],
             [
              1,
              "rgb(250,234,220)"
             ]
            ],
            "type": "histogram2d"
           }
          ],
          "histogram2dcontour": [
           {
            "colorbar": {
             "outlinewidth": 0,
             "tickcolor": "rgb(36,36,36)",
             "ticklen": 8,
             "ticks": "outside",
             "tickwidth": 2
            },
            "colorscale": [
             [
              0,
              "rgb(2,4,25)"
             ],
             [
              0.06274509803921569,
              "rgb(24,15,41)"
             ],
             [
              0.12549019607843137,
              "rgb(47,23,57)"
             ],
             [
              0.18823529411764706,
              "rgb(71,28,72)"
             ],
             [
              0.25098039215686274,
              "rgb(97,30,82)"
             ],
             [
              0.3137254901960784,
              "rgb(123,30,89)"
             ],
             [
              0.3764705882352941,
              "rgb(150,27,91)"
             ],
             [
              0.4392156862745098,
              "rgb(177,22,88)"
             ],
             [
              0.5019607843137255,
              "rgb(203,26,79)"
             ],
             [
              0.5647058823529412,
              "rgb(223,47,67)"
             ],
             [
              0.6274509803921569,
              "rgb(236,76,61)"
             ],
             [
              0.6901960784313725,
              "rgb(242,107,73)"
             ],
             [
              0.7529411764705882,
              "rgb(244,135,95)"
             ],
             [
              0.8156862745098039,
              "rgb(245,162,122)"
             ],
             [
              0.8784313725490196,
              "rgb(246,188,153)"
             ],
             [
              0.9411764705882353,
              "rgb(247,212,187)"
             ],
             [
              1,
              "rgb(250,234,220)"
             ]
            ],
            "type": "histogram2dcontour"
           }
          ],
          "mesh3d": [
           {
            "colorbar": {
             "outlinewidth": 0,
             "tickcolor": "rgb(36,36,36)",
             "ticklen": 8,
             "ticks": "outside",
             "tickwidth": 2
            },
            "type": "mesh3d"
           }
          ],
          "parcoords": [
           {
            "line": {
             "colorbar": {
              "outlinewidth": 0,
              "tickcolor": "rgb(36,36,36)",
              "ticklen": 8,
              "ticks": "outside",
              "tickwidth": 2
             }
            },
            "type": "parcoords"
           }
          ],
          "pie": [
           {
            "automargin": true,
            "type": "pie"
           }
          ],
          "scatter": [
           {
            "fillpattern": {
             "fillmode": "overlay",
             "size": 10,
             "solidity": 0.2
            },
            "type": "scatter"
           }
          ],
          "scatter3d": [
           {
            "line": {
             "colorbar": {
              "outlinewidth": 0,
              "tickcolor": "rgb(36,36,36)",
              "ticklen": 8,
              "ticks": "outside",
              "tickwidth": 2
             }
            },
            "marker": {
             "colorbar": {
              "outlinewidth": 0,
              "tickcolor": "rgb(36,36,36)",
              "ticklen": 8,
              "ticks": "outside",
              "tickwidth": 2
             }
            },
            "type": "scatter3d"
           }
          ],
          "scattercarpet": [
           {
            "marker": {
             "colorbar": {
              "outlinewidth": 0,
              "tickcolor": "rgb(36,36,36)",
              "ticklen": 8,
              "ticks": "outside",
              "tickwidth": 2
             }
            },
            "type": "scattercarpet"
           }
          ],
          "scattergeo": [
           {
            "marker": {
             "colorbar": {
              "outlinewidth": 0,
              "tickcolor": "rgb(36,36,36)",
              "ticklen": 8,
              "ticks": "outside",
              "tickwidth": 2
             }
            },
            "type": "scattergeo"
           }
          ],
          "scattergl": [
           {
            "marker": {
             "colorbar": {
              "outlinewidth": 0,
              "tickcolor": "rgb(36,36,36)",
              "ticklen": 8,
              "ticks": "outside",
              "tickwidth": 2
             }
            },
            "type": "scattergl"
           }
          ],
          "scattermapbox": [
           {
            "marker": {
             "colorbar": {
              "outlinewidth": 0,
              "tickcolor": "rgb(36,36,36)",
              "ticklen": 8,
              "ticks": "outside",
              "tickwidth": 2
             }
            },
            "type": "scattermapbox"
           }
          ],
          "scatterpolar": [
           {
            "marker": {
             "colorbar": {
              "outlinewidth": 0,
              "tickcolor": "rgb(36,36,36)",
              "ticklen": 8,
              "ticks": "outside",
              "tickwidth": 2
             }
            },
            "type": "scatterpolar"
           }
          ],
          "scatterpolargl": [
           {
            "marker": {
             "colorbar": {
              "outlinewidth": 0,
              "tickcolor": "rgb(36,36,36)",
              "ticklen": 8,
              "ticks": "outside",
              "tickwidth": 2
             }
            },
            "type": "scatterpolargl"
           }
          ],
          "scatterternary": [
           {
            "marker": {
             "colorbar": {
              "outlinewidth": 0,
              "tickcolor": "rgb(36,36,36)",
              "ticklen": 8,
              "ticks": "outside",
              "tickwidth": 2
             }
            },
            "type": "scatterternary"
           }
          ],
          "surface": [
           {
            "colorbar": {
             "outlinewidth": 0,
             "tickcolor": "rgb(36,36,36)",
             "ticklen": 8,
             "ticks": "outside",
             "tickwidth": 2
            },
            "colorscale": [
             [
              0,
              "rgb(2,4,25)"
             ],
             [
              0.06274509803921569,
              "rgb(24,15,41)"
             ],
             [
              0.12549019607843137,
              "rgb(47,23,57)"
             ],
             [
              0.18823529411764706,
              "rgb(71,28,72)"
             ],
             [
              0.25098039215686274,
              "rgb(97,30,82)"
             ],
             [
              0.3137254901960784,
              "rgb(123,30,89)"
             ],
             [
              0.3764705882352941,
              "rgb(150,27,91)"
             ],
             [
              0.4392156862745098,
              "rgb(177,22,88)"
             ],
             [
              0.5019607843137255,
              "rgb(203,26,79)"
             ],
             [
              0.5647058823529412,
              "rgb(223,47,67)"
             ],
             [
              0.6274509803921569,
              "rgb(236,76,61)"
             ],
             [
              0.6901960784313725,
              "rgb(242,107,73)"
             ],
             [
              0.7529411764705882,
              "rgb(244,135,95)"
             ],
             [
              0.8156862745098039,
              "rgb(245,162,122)"
             ],
             [
              0.8784313725490196,
              "rgb(246,188,153)"
             ],
             [
              0.9411764705882353,
              "rgb(247,212,187)"
             ],
             [
              1,
              "rgb(250,234,220)"
             ]
            ],
            "type": "surface"
           }
          ],
          "table": [
           {
            "cells": {
             "fill": {
              "color": "rgb(231,231,240)"
             },
             "line": {
              "color": "white"
             }
            },
            "header": {
             "fill": {
              "color": "rgb(183,183,191)"
             },
             "line": {
              "color": "white"
             }
            },
            "type": "table"
           }
          ]
         },
         "layout": {
          "annotationdefaults": {
           "arrowcolor": "rgb(67,103,167)"
          },
          "autotypenumbers": "strict",
          "coloraxis": {
           "colorbar": {
            "outlinewidth": 0,
            "tickcolor": "rgb(36,36,36)",
            "ticklen": 8,
            "ticks": "outside",
            "tickwidth": 2
           }
          },
          "colorscale": {
           "sequential": [
            [
             0,
             "rgb(2,4,25)"
            ],
            [
             0.06274509803921569,
             "rgb(24,15,41)"
            ],
            [
             0.12549019607843137,
             "rgb(47,23,57)"
            ],
            [
             0.18823529411764706,
             "rgb(71,28,72)"
            ],
            [
             0.25098039215686274,
             "rgb(97,30,82)"
            ],
            [
             0.3137254901960784,
             "rgb(123,30,89)"
            ],
            [
             0.3764705882352941,
             "rgb(150,27,91)"
            ],
            [
             0.4392156862745098,
             "rgb(177,22,88)"
            ],
            [
             0.5019607843137255,
             "rgb(203,26,79)"
            ],
            [
             0.5647058823529412,
             "rgb(223,47,67)"
            ],
            [
             0.6274509803921569,
             "rgb(236,76,61)"
            ],
            [
             0.6901960784313725,
             "rgb(242,107,73)"
            ],
            [
             0.7529411764705882,
             "rgb(244,135,95)"
            ],
            [
             0.8156862745098039,
             "rgb(245,162,122)"
            ],
            [
             0.8784313725490196,
             "rgb(246,188,153)"
            ],
            [
             0.9411764705882353,
             "rgb(247,212,187)"
            ],
            [
             1,
             "rgb(250,234,220)"
            ]
           ],
           "sequentialminus": [
            [
             0,
             "rgb(2,4,25)"
            ],
            [
             0.06274509803921569,
             "rgb(24,15,41)"
            ],
            [
             0.12549019607843137,
             "rgb(47,23,57)"
            ],
            [
             0.18823529411764706,
             "rgb(71,28,72)"
            ],
            [
             0.25098039215686274,
             "rgb(97,30,82)"
            ],
            [
             0.3137254901960784,
             "rgb(123,30,89)"
            ],
            [
             0.3764705882352941,
             "rgb(150,27,91)"
            ],
            [
             0.4392156862745098,
             "rgb(177,22,88)"
            ],
            [
             0.5019607843137255,
             "rgb(203,26,79)"
            ],
            [
             0.5647058823529412,
             "rgb(223,47,67)"
            ],
            [
             0.6274509803921569,
             "rgb(236,76,61)"
            ],
            [
             0.6901960784313725,
             "rgb(242,107,73)"
            ],
            [
             0.7529411764705882,
             "rgb(244,135,95)"
            ],
            [
             0.8156862745098039,
             "rgb(245,162,122)"
            ],
            [
             0.8784313725490196,
             "rgb(246,188,153)"
            ],
            [
             0.9411764705882353,
             "rgb(247,212,187)"
            ],
            [
             1,
             "rgb(250,234,220)"
            ]
           ]
          },
          "colorway": [
           "rgb(76,114,176)",
           "rgb(221,132,82)",
           "rgb(85,168,104)",
           "rgb(196,78,82)",
           "rgb(129,114,179)",
           "rgb(147,120,96)",
           "rgb(218,139,195)",
           "rgb(140,140,140)",
           "rgb(204,185,116)",
           "rgb(100,181,205)"
          ],
          "font": {
           "color": "rgb(36,36,36)"
          },
          "geo": {
           "bgcolor": "white",
           "lakecolor": "white",
           "landcolor": "rgb(234,234,242)",
           "showlakes": true,
           "showland": true,
           "subunitcolor": "white"
          },
          "hoverlabel": {
           "align": "left"
          },
          "hovermode": "closest",
          "paper_bgcolor": "white",
          "plot_bgcolor": "rgb(234,234,242)",
          "polar": {
           "angularaxis": {
            "gridcolor": "white",
            "linecolor": "white",
            "showgrid": true,
            "ticks": ""
           },
           "bgcolor": "rgb(234,234,242)",
           "radialaxis": {
            "gridcolor": "white",
            "linecolor": "white",
            "showgrid": true,
            "ticks": ""
           }
          },
          "scene": {
           "xaxis": {
            "backgroundcolor": "rgb(234,234,242)",
            "gridcolor": "white",
            "gridwidth": 2,
            "linecolor": "white",
            "showbackground": true,
            "showgrid": true,
            "ticks": "",
            "zerolinecolor": "white"
           },
           "yaxis": {
            "backgroundcolor": "rgb(234,234,242)",
            "gridcolor": "white",
            "gridwidth": 2,
            "linecolor": "white",
            "showbackground": true,
            "showgrid": true,
            "ticks": "",
            "zerolinecolor": "white"
           },
           "zaxis": {
            "backgroundcolor": "rgb(234,234,242)",
            "gridcolor": "white",
            "gridwidth": 2,
            "linecolor": "white",
            "showbackground": true,
            "showgrid": true,
            "ticks": "",
            "zerolinecolor": "white"
           }
          },
          "shapedefaults": {
           "fillcolor": "rgb(67,103,167)",
           "line": {
            "width": 0
           },
           "opacity": 0.5
          },
          "ternary": {
           "aaxis": {
            "gridcolor": "white",
            "linecolor": "white",
            "showgrid": true,
            "ticks": ""
           },
           "baxis": {
            "gridcolor": "white",
            "linecolor": "white",
            "showgrid": true,
            "ticks": ""
           },
           "bgcolor": "rgb(234,234,242)",
           "caxis": {
            "gridcolor": "white",
            "linecolor": "white",
            "showgrid": true,
            "ticks": ""
           }
          },
          "xaxis": {
           "automargin": true,
           "gridcolor": "white",
           "linecolor": "white",
           "showgrid": true,
           "ticks": "",
           "title": {
            "standoff": 15
           },
           "zerolinecolor": "white"
          },
          "yaxis": {
           "automargin": true,
           "gridcolor": "white",
           "linecolor": "white",
           "showgrid": true,
           "ticks": "",
           "title": {
            "standoff": 15
           },
           "zerolinecolor": "white"
          }
         }
        },
        "xaxis": {
         "title": {
          "text": "Date"
         }
        },
        "yaxis": {
         "title": {
          "text": "Adj. Close price"
         }
        }
       }
      }
     },
     "metadata": {},
     "output_type": "display_data"
    }
   ],
   "source": [
    "fig = plot_data_split(train_data, test_data)\n",
    "fig.update_layout(template=\"seaborn\").show()"
   ]
  },
  {
   "attachments": {},
   "cell_type": "markdown",
   "metadata": {},
   "source": [
    "### 4.2. Model selection and hyper-parameter tuning\n",
    "\n",
    "By default, a random forest autoregressor is trained to make predictions into the future. Its hyper-parameters are tuned using a special case of Grid Search with backtesting.\n",
    "\n",
    "Mean Squared Error (MSE), a common regression evaluation metric, is used in this case to assess performance."
   ]
  },
  {
   "cell_type": "code",
   "execution_count": 23,
   "metadata": {},
   "outputs": [
    {
     "name": "stdout",
     "output_type": "stream",
     "text": [
      "Number of models compared: 72.\n"
     ]
    },
    {
     "name": "stderr",
     "output_type": "stream",
     "text": [
      "loop lags_grid: 100%|███████████████████████████████████████| 6/6 [00:12<00:00,  2.13s/it]"
     ]
    },
    {
     "name": "stdout",
     "output_type": "stream",
     "text": [
      "`Forecaster` refitted using the best-found lags and parameters, and the whole data set: \n",
      "  Lags: [ 1  2  3  4  5  6  7  8  9 10 11 12 13 14] \n",
      "  Parameters: {'max_depth': 11, 'n_estimators': 100}\n",
      "  Backtesting metric: 26.360296031213775\n",
      "\n"
     ]
    },
    {
     "name": "stderr",
     "output_type": "stream",
     "text": [
      "\n"
     ]
    },
    {
     "data": {
      "text/html": [
       "<div>\n",
       "<style scoped>\n",
       "    .dataframe tbody tr th:only-of-type {\n",
       "        vertical-align: middle;\n",
       "    }\n",
       "\n",
       "    .dataframe tbody tr th {\n",
       "        vertical-align: top;\n",
       "    }\n",
       "\n",
       "    .dataframe thead th {\n",
       "        text-align: right;\n",
       "    }\n",
       "</style>\n",
       "<table border=\"1\" class=\"dataframe\">\n",
       "  <thead>\n",
       "    <tr style=\"text-align: right;\">\n",
       "      <th></th>\n",
       "      <th>lags</th>\n",
       "      <th>params</th>\n",
       "      <th>mean_squared_error</th>\n",
       "      <th>max_depth</th>\n",
       "      <th>n_estimators</th>\n",
       "    </tr>\n",
       "  </thead>\n",
       "  <tbody>\n",
       "    <tr>\n",
       "      <th>58</th>\n",
       "      <td>[1, 2, 3, 4, 5, 6, 7, 8, 9, 10, 11, 12, 13, 14]</td>\n",
       "      <td>{'max_depth': 11, 'n_estimators': 100}</td>\n",
       "      <td>26.360296</td>\n",
       "      <td>11.0</td>\n",
       "      <td>100.0</td>\n",
       "    </tr>\n",
       "    <tr>\n",
       "      <th>49</th>\n",
       "      <td>[1, 2, 3, 4, 5, 6, 7, 8, 9, 10, 11, 12, 13, 14]</td>\n",
       "      <td>{'max_depth': None, 'n_estimators': 100}</td>\n",
       "      <td>26.360296</td>\n",
       "      <td>NaN</td>\n",
       "      <td>100.0</td>\n",
       "    </tr>\n",
       "    <tr>\n",
       "      <th>55</th>\n",
       "      <td>[1, 2, 3, 4, 5, 6, 7, 8, 9, 10, 11, 12, 13, 14]</td>\n",
       "      <td>{'max_depth': 7, 'n_estimators': 100}</td>\n",
       "      <td>26.360296</td>\n",
       "      <td>7.0</td>\n",
       "      <td>100.0</td>\n",
       "    </tr>\n",
       "    <tr>\n",
       "      <th>52</th>\n",
       "      <td>[1, 2, 3, 4, 5, 6, 7, 8, 9, 10, 11, 12, 13, 14]</td>\n",
       "      <td>{'max_depth': 3, 'n_estimators': 100}</td>\n",
       "      <td>28.255902</td>\n",
       "      <td>3.0</td>\n",
       "      <td>100.0</td>\n",
       "    </tr>\n",
       "    <tr>\n",
       "      <th>54</th>\n",
       "      <td>[1, 2, 3, 4, 5, 6, 7, 8, 9, 10, 11, 12, 13, 14]</td>\n",
       "      <td>{'max_depth': 7, 'n_estimators': 50}</td>\n",
       "      <td>29.158522</td>\n",
       "      <td>7.0</td>\n",
       "      <td>50.0</td>\n",
       "    </tr>\n",
       "  </tbody>\n",
       "</table>\n",
       "</div>"
      ],
      "text/plain": [
       "                                               lags  \\\n",
       "58  [1, 2, 3, 4, 5, 6, 7, 8, 9, 10, 11, 12, 13, 14]   \n",
       "49  [1, 2, 3, 4, 5, 6, 7, 8, 9, 10, 11, 12, 13, 14]   \n",
       "55  [1, 2, 3, 4, 5, 6, 7, 8, 9, 10, 11, 12, 13, 14]   \n",
       "52  [1, 2, 3, 4, 5, 6, 7, 8, 9, 10, 11, 12, 13, 14]   \n",
       "54  [1, 2, 3, 4, 5, 6, 7, 8, 9, 10, 11, 12, 13, 14]   \n",
       "\n",
       "                                      params  mean_squared_error  max_depth  \\\n",
       "58    {'max_depth': 11, 'n_estimators': 100}           26.360296       11.0   \n",
       "49  {'max_depth': None, 'n_estimators': 100}           26.360296        NaN   \n",
       "55     {'max_depth': 7, 'n_estimators': 100}           26.360296        7.0   \n",
       "52     {'max_depth': 3, 'n_estimators': 100}           28.255902        3.0   \n",
       "54      {'max_depth': 7, 'n_estimators': 50}           29.158522        7.0   \n",
       "\n",
       "    n_estimators  \n",
       "58         100.0  \n",
       "49         100.0  \n",
       "55         100.0  \n",
       "52         100.0  \n",
       "54          50.0  "
      ]
     },
     "execution_count": 23,
     "metadata": {},
     "output_type": "execute_result"
    }
   ],
   "source": [
    "_, results_grid, pred, error_mse = fit_forecaster(\n",
    "    train_data, test_data, exog_cols=[\"day\", \"month\"]\n",
    ")\n",
    "results_grid.head()"
   ]
  },
  {
   "attachments": {},
   "cell_type": "markdown",
   "metadata": {},
   "source": [
    "The lowest mean squared error was achieved with `lags=14` and the following hyper-parameters:\n",
    "\n",
    "`{'max_depth': 11, 'n_estimators': 100}`"
   ]
  },
  {
   "attachments": {},
   "cell_type": "markdown",
   "metadata": {},
   "source": [
    "### 4.3. Model Evaluation"
   ]
  },
  {
   "cell_type": "code",
   "execution_count": 24,
   "metadata": {},
   "outputs": [
    {
     "data": {
      "application/vnd.plotly.v1+json": {
       "config": {
        "plotlyServerURL": "https://plot.ly"
       },
       "data": [
        {
         "mode": "lines",
         "name": "Testing",
         "type": "scatter",
         "x": [
          "2023-01-19T00:00:00",
          "2023-01-20T00:00:00",
          "2023-01-21T00:00:00",
          "2023-01-22T00:00:00",
          "2023-01-23T00:00:00",
          "2023-01-24T00:00:00",
          "2023-01-25T00:00:00",
          "2023-01-26T00:00:00",
          "2023-01-27T00:00:00",
          "2023-01-28T00:00:00",
          "2023-01-29T00:00:00",
          "2023-01-30T00:00:00",
          "2023-01-31T00:00:00",
          "2023-02-01T00:00:00",
          "2023-02-02T00:00:00",
          "2023-02-03T00:00:00",
          "2023-02-04T00:00:00",
          "2023-02-05T00:00:00",
          "2023-02-06T00:00:00",
          "2023-02-07T00:00:00",
          "2023-02-08T00:00:00",
          "2023-02-09T00:00:00",
          "2023-02-10T00:00:00",
          "2023-02-11T00:00:00",
          "2023-02-12T00:00:00",
          "2023-02-13T00:00:00",
          "2023-02-14T00:00:00",
          "2023-02-15T00:00:00"
         ],
         "y": [
          93.91000366210938,
          99.27999877929688,
          99.27999877929688,
          99.27999877929688,
          101.20999908447266,
          99.20999908447266,
          96.7300033569336,
          99.16000366210938,
          100.70999908447266,
          100.70999908447266,
          100.70999908447266,
          97.94999694824219,
          99.87000274658203,
          101.43000030517578,
          108.80000305175781,
          105.22000122070312,
          105.22000122070312,
          105.22000122070312,
          103.47000122070312,
          108.04000091552734,
          100,
          95.45999908447266,
          94.86000061035156,
          94.86000061035156,
          94.86000061035156,
          95,
          94.94999694824219,
          96.9749984741211
         ]
        },
        {
         "mode": "lines",
         "name": "Predicted",
         "type": "scatter",
         "x": [
          "2023-01-19T00:00:00",
          "2023-01-20T00:00:00",
          "2023-01-21T00:00:00",
          "2023-01-22T00:00:00",
          "2023-01-23T00:00:00",
          "2023-01-24T00:00:00",
          "2023-01-25T00:00:00",
          "2023-01-26T00:00:00",
          "2023-01-27T00:00:00",
          "2023-01-28T00:00:00",
          "2023-01-29T00:00:00",
          "2023-01-30T00:00:00",
          "2023-01-31T00:00:00",
          "2023-02-01T00:00:00",
          "2023-02-02T00:00:00",
          "2023-02-03T00:00:00",
          "2023-02-04T00:00:00",
          "2023-02-05T00:00:00",
          "2023-02-06T00:00:00",
          "2023-02-07T00:00:00",
          "2023-02-08T00:00:00",
          "2023-02-09T00:00:00",
          "2023-02-10T00:00:00",
          "2023-02-11T00:00:00",
          "2023-02-12T00:00:00",
          "2023-02-13T00:00:00",
          "2023-02-14T00:00:00",
          "2023-02-15T00:00:00"
         ],
         "y": [
          91.46226258440689,
          91.45445409146512,
          91.45445409146512,
          91.39119521775751,
          91.53395188430481,
          91.53395188430481,
          91.56695900025842,
          91.30401507993595,
          91.30401507993595,
          91.30401507993595,
          91.30401507993595,
          91.30401507993595,
          91.30401507993595,
          90.1460870535344,
          89.19280025064802,
          87.94114355139831,
          87.48585264090434,
          88.02129852156325,
          88.34745928235438,
          88.45699643567681,
          88.56964014587747,
          88.60442780262889,
          90.19842507866477,
          91.82810638424004,
          92.33546294719251,
          93.34898663104079,
          93.97634425246969,
          94.0235039819284
         ]
        }
       ],
       "layout": {
        "legend": {
         "title": {
          "text": "Data"
         }
        },
        "template": {
         "data": {
          "bar": [
           {
            "error_x": {
             "color": "rgb(36,36,36)"
            },
            "error_y": {
             "color": "rgb(36,36,36)"
            },
            "marker": {
             "line": {
              "color": "rgb(234,234,242)",
              "width": 0.5
             },
             "pattern": {
              "fillmode": "overlay",
              "size": 10,
              "solidity": 0.2
             }
            },
            "type": "bar"
           }
          ],
          "barpolar": [
           {
            "marker": {
             "line": {
              "color": "rgb(234,234,242)",
              "width": 0.5
             },
             "pattern": {
              "fillmode": "overlay",
              "size": 10,
              "solidity": 0.2
             }
            },
            "type": "barpolar"
           }
          ],
          "carpet": [
           {
            "aaxis": {
             "endlinecolor": "rgb(36,36,36)",
             "gridcolor": "white",
             "linecolor": "white",
             "minorgridcolor": "white",
             "startlinecolor": "rgb(36,36,36)"
            },
            "baxis": {
             "endlinecolor": "rgb(36,36,36)",
             "gridcolor": "white",
             "linecolor": "white",
             "minorgridcolor": "white",
             "startlinecolor": "rgb(36,36,36)"
            },
            "type": "carpet"
           }
          ],
          "choropleth": [
           {
            "colorbar": {
             "outlinewidth": 0,
             "tickcolor": "rgb(36,36,36)",
             "ticklen": 8,
             "ticks": "outside",
             "tickwidth": 2
            },
            "type": "choropleth"
           }
          ],
          "contour": [
           {
            "colorbar": {
             "outlinewidth": 0,
             "tickcolor": "rgb(36,36,36)",
             "ticklen": 8,
             "ticks": "outside",
             "tickwidth": 2
            },
            "colorscale": [
             [
              0,
              "rgb(2,4,25)"
             ],
             [
              0.06274509803921569,
              "rgb(24,15,41)"
             ],
             [
              0.12549019607843137,
              "rgb(47,23,57)"
             ],
             [
              0.18823529411764706,
              "rgb(71,28,72)"
             ],
             [
              0.25098039215686274,
              "rgb(97,30,82)"
             ],
             [
              0.3137254901960784,
              "rgb(123,30,89)"
             ],
             [
              0.3764705882352941,
              "rgb(150,27,91)"
             ],
             [
              0.4392156862745098,
              "rgb(177,22,88)"
             ],
             [
              0.5019607843137255,
              "rgb(203,26,79)"
             ],
             [
              0.5647058823529412,
              "rgb(223,47,67)"
             ],
             [
              0.6274509803921569,
              "rgb(236,76,61)"
             ],
             [
              0.6901960784313725,
              "rgb(242,107,73)"
             ],
             [
              0.7529411764705882,
              "rgb(244,135,95)"
             ],
             [
              0.8156862745098039,
              "rgb(245,162,122)"
             ],
             [
              0.8784313725490196,
              "rgb(246,188,153)"
             ],
             [
              0.9411764705882353,
              "rgb(247,212,187)"
             ],
             [
              1,
              "rgb(250,234,220)"
             ]
            ],
            "type": "contour"
           }
          ],
          "contourcarpet": [
           {
            "colorbar": {
             "outlinewidth": 0,
             "tickcolor": "rgb(36,36,36)",
             "ticklen": 8,
             "ticks": "outside",
             "tickwidth": 2
            },
            "type": "contourcarpet"
           }
          ],
          "heatmap": [
           {
            "colorbar": {
             "outlinewidth": 0,
             "tickcolor": "rgb(36,36,36)",
             "ticklen": 8,
             "ticks": "outside",
             "tickwidth": 2
            },
            "colorscale": [
             [
              0,
              "rgb(2,4,25)"
             ],
             [
              0.06274509803921569,
              "rgb(24,15,41)"
             ],
             [
              0.12549019607843137,
              "rgb(47,23,57)"
             ],
             [
              0.18823529411764706,
              "rgb(71,28,72)"
             ],
             [
              0.25098039215686274,
              "rgb(97,30,82)"
             ],
             [
              0.3137254901960784,
              "rgb(123,30,89)"
             ],
             [
              0.3764705882352941,
              "rgb(150,27,91)"
             ],
             [
              0.4392156862745098,
              "rgb(177,22,88)"
             ],
             [
              0.5019607843137255,
              "rgb(203,26,79)"
             ],
             [
              0.5647058823529412,
              "rgb(223,47,67)"
             ],
             [
              0.6274509803921569,
              "rgb(236,76,61)"
             ],
             [
              0.6901960784313725,
              "rgb(242,107,73)"
             ],
             [
              0.7529411764705882,
              "rgb(244,135,95)"
             ],
             [
              0.8156862745098039,
              "rgb(245,162,122)"
             ],
             [
              0.8784313725490196,
              "rgb(246,188,153)"
             ],
             [
              0.9411764705882353,
              "rgb(247,212,187)"
             ],
             [
              1,
              "rgb(250,234,220)"
             ]
            ],
            "type": "heatmap"
           }
          ],
          "heatmapgl": [
           {
            "colorbar": {
             "outlinewidth": 0,
             "tickcolor": "rgb(36,36,36)",
             "ticklen": 8,
             "ticks": "outside",
             "tickwidth": 2
            },
            "colorscale": [
             [
              0,
              "rgb(2,4,25)"
             ],
             [
              0.06274509803921569,
              "rgb(24,15,41)"
             ],
             [
              0.12549019607843137,
              "rgb(47,23,57)"
             ],
             [
              0.18823529411764706,
              "rgb(71,28,72)"
             ],
             [
              0.25098039215686274,
              "rgb(97,30,82)"
             ],
             [
              0.3137254901960784,
              "rgb(123,30,89)"
             ],
             [
              0.3764705882352941,
              "rgb(150,27,91)"
             ],
             [
              0.4392156862745098,
              "rgb(177,22,88)"
             ],
             [
              0.5019607843137255,
              "rgb(203,26,79)"
             ],
             [
              0.5647058823529412,
              "rgb(223,47,67)"
             ],
             [
              0.6274509803921569,
              "rgb(236,76,61)"
             ],
             [
              0.6901960784313725,
              "rgb(242,107,73)"
             ],
             [
              0.7529411764705882,
              "rgb(244,135,95)"
             ],
             [
              0.8156862745098039,
              "rgb(245,162,122)"
             ],
             [
              0.8784313725490196,
              "rgb(246,188,153)"
             ],
             [
              0.9411764705882353,
              "rgb(247,212,187)"
             ],
             [
              1,
              "rgb(250,234,220)"
             ]
            ],
            "type": "heatmapgl"
           }
          ],
          "histogram": [
           {
            "marker": {
             "pattern": {
              "fillmode": "overlay",
              "size": 10,
              "solidity": 0.2
             }
            },
            "type": "histogram"
           }
          ],
          "histogram2d": [
           {
            "colorbar": {
             "outlinewidth": 0,
             "tickcolor": "rgb(36,36,36)",
             "ticklen": 8,
             "ticks": "outside",
             "tickwidth": 2
            },
            "colorscale": [
             [
              0,
              "rgb(2,4,25)"
             ],
             [
              0.06274509803921569,
              "rgb(24,15,41)"
             ],
             [
              0.12549019607843137,
              "rgb(47,23,57)"
             ],
             [
              0.18823529411764706,
              "rgb(71,28,72)"
             ],
             [
              0.25098039215686274,
              "rgb(97,30,82)"
             ],
             [
              0.3137254901960784,
              "rgb(123,30,89)"
             ],
             [
              0.3764705882352941,
              "rgb(150,27,91)"
             ],
             [
              0.4392156862745098,
              "rgb(177,22,88)"
             ],
             [
              0.5019607843137255,
              "rgb(203,26,79)"
             ],
             [
              0.5647058823529412,
              "rgb(223,47,67)"
             ],
             [
              0.6274509803921569,
              "rgb(236,76,61)"
             ],
             [
              0.6901960784313725,
              "rgb(242,107,73)"
             ],
             [
              0.7529411764705882,
              "rgb(244,135,95)"
             ],
             [
              0.8156862745098039,
              "rgb(245,162,122)"
             ],
             [
              0.8784313725490196,
              "rgb(246,188,153)"
             ],
             [
              0.9411764705882353,
              "rgb(247,212,187)"
             ],
             [
              1,
              "rgb(250,234,220)"
             ]
            ],
            "type": "histogram2d"
           }
          ],
          "histogram2dcontour": [
           {
            "colorbar": {
             "outlinewidth": 0,
             "tickcolor": "rgb(36,36,36)",
             "ticklen": 8,
             "ticks": "outside",
             "tickwidth": 2
            },
            "colorscale": [
             [
              0,
              "rgb(2,4,25)"
             ],
             [
              0.06274509803921569,
              "rgb(24,15,41)"
             ],
             [
              0.12549019607843137,
              "rgb(47,23,57)"
             ],
             [
              0.18823529411764706,
              "rgb(71,28,72)"
             ],
             [
              0.25098039215686274,
              "rgb(97,30,82)"
             ],
             [
              0.3137254901960784,
              "rgb(123,30,89)"
             ],
             [
              0.3764705882352941,
              "rgb(150,27,91)"
             ],
             [
              0.4392156862745098,
              "rgb(177,22,88)"
             ],
             [
              0.5019607843137255,
              "rgb(203,26,79)"
             ],
             [
              0.5647058823529412,
              "rgb(223,47,67)"
             ],
             [
              0.6274509803921569,
              "rgb(236,76,61)"
             ],
             [
              0.6901960784313725,
              "rgb(242,107,73)"
             ],
             [
              0.7529411764705882,
              "rgb(244,135,95)"
             ],
             [
              0.8156862745098039,
              "rgb(245,162,122)"
             ],
             [
              0.8784313725490196,
              "rgb(246,188,153)"
             ],
             [
              0.9411764705882353,
              "rgb(247,212,187)"
             ],
             [
              1,
              "rgb(250,234,220)"
             ]
            ],
            "type": "histogram2dcontour"
           }
          ],
          "mesh3d": [
           {
            "colorbar": {
             "outlinewidth": 0,
             "tickcolor": "rgb(36,36,36)",
             "ticklen": 8,
             "ticks": "outside",
             "tickwidth": 2
            },
            "type": "mesh3d"
           }
          ],
          "parcoords": [
           {
            "line": {
             "colorbar": {
              "outlinewidth": 0,
              "tickcolor": "rgb(36,36,36)",
              "ticklen": 8,
              "ticks": "outside",
              "tickwidth": 2
             }
            },
            "type": "parcoords"
           }
          ],
          "pie": [
           {
            "automargin": true,
            "type": "pie"
           }
          ],
          "scatter": [
           {
            "fillpattern": {
             "fillmode": "overlay",
             "size": 10,
             "solidity": 0.2
            },
            "type": "scatter"
           }
          ],
          "scatter3d": [
           {
            "line": {
             "colorbar": {
              "outlinewidth": 0,
              "tickcolor": "rgb(36,36,36)",
              "ticklen": 8,
              "ticks": "outside",
              "tickwidth": 2
             }
            },
            "marker": {
             "colorbar": {
              "outlinewidth": 0,
              "tickcolor": "rgb(36,36,36)",
              "ticklen": 8,
              "ticks": "outside",
              "tickwidth": 2
             }
            },
            "type": "scatter3d"
           }
          ],
          "scattercarpet": [
           {
            "marker": {
             "colorbar": {
              "outlinewidth": 0,
              "tickcolor": "rgb(36,36,36)",
              "ticklen": 8,
              "ticks": "outside",
              "tickwidth": 2
             }
            },
            "type": "scattercarpet"
           }
          ],
          "scattergeo": [
           {
            "marker": {
             "colorbar": {
              "outlinewidth": 0,
              "tickcolor": "rgb(36,36,36)",
              "ticklen": 8,
              "ticks": "outside",
              "tickwidth": 2
             }
            },
            "type": "scattergeo"
           }
          ],
          "scattergl": [
           {
            "marker": {
             "colorbar": {
              "outlinewidth": 0,
              "tickcolor": "rgb(36,36,36)",
              "ticklen": 8,
              "ticks": "outside",
              "tickwidth": 2
             }
            },
            "type": "scattergl"
           }
          ],
          "scattermapbox": [
           {
            "marker": {
             "colorbar": {
              "outlinewidth": 0,
              "tickcolor": "rgb(36,36,36)",
              "ticklen": 8,
              "ticks": "outside",
              "tickwidth": 2
             }
            },
            "type": "scattermapbox"
           }
          ],
          "scatterpolar": [
           {
            "marker": {
             "colorbar": {
              "outlinewidth": 0,
              "tickcolor": "rgb(36,36,36)",
              "ticklen": 8,
              "ticks": "outside",
              "tickwidth": 2
             }
            },
            "type": "scatterpolar"
           }
          ],
          "scatterpolargl": [
           {
            "marker": {
             "colorbar": {
              "outlinewidth": 0,
              "tickcolor": "rgb(36,36,36)",
              "ticklen": 8,
              "ticks": "outside",
              "tickwidth": 2
             }
            },
            "type": "scatterpolargl"
           }
          ],
          "scatterternary": [
           {
            "marker": {
             "colorbar": {
              "outlinewidth": 0,
              "tickcolor": "rgb(36,36,36)",
              "ticklen": 8,
              "ticks": "outside",
              "tickwidth": 2
             }
            },
            "type": "scatterternary"
           }
          ],
          "surface": [
           {
            "colorbar": {
             "outlinewidth": 0,
             "tickcolor": "rgb(36,36,36)",
             "ticklen": 8,
             "ticks": "outside",
             "tickwidth": 2
            },
            "colorscale": [
             [
              0,
              "rgb(2,4,25)"
             ],
             [
              0.06274509803921569,
              "rgb(24,15,41)"
             ],
             [
              0.12549019607843137,
              "rgb(47,23,57)"
             ],
             [
              0.18823529411764706,
              "rgb(71,28,72)"
             ],
             [
              0.25098039215686274,
              "rgb(97,30,82)"
             ],
             [
              0.3137254901960784,
              "rgb(123,30,89)"
             ],
             [
              0.3764705882352941,
              "rgb(150,27,91)"
             ],
             [
              0.4392156862745098,
              "rgb(177,22,88)"
             ],
             [
              0.5019607843137255,
              "rgb(203,26,79)"
             ],
             [
              0.5647058823529412,
              "rgb(223,47,67)"
             ],
             [
              0.6274509803921569,
              "rgb(236,76,61)"
             ],
             [
              0.6901960784313725,
              "rgb(242,107,73)"
             ],
             [
              0.7529411764705882,
              "rgb(244,135,95)"
             ],
             [
              0.8156862745098039,
              "rgb(245,162,122)"
             ],
             [
              0.8784313725490196,
              "rgb(246,188,153)"
             ],
             [
              0.9411764705882353,
              "rgb(247,212,187)"
             ],
             [
              1,
              "rgb(250,234,220)"
             ]
            ],
            "type": "surface"
           }
          ],
          "table": [
           {
            "cells": {
             "fill": {
              "color": "rgb(231,231,240)"
             },
             "line": {
              "color": "white"
             }
            },
            "header": {
             "fill": {
              "color": "rgb(183,183,191)"
             },
             "line": {
              "color": "white"
             }
            },
            "type": "table"
           }
          ]
         },
         "layout": {
          "annotationdefaults": {
           "arrowcolor": "rgb(67,103,167)"
          },
          "autotypenumbers": "strict",
          "coloraxis": {
           "colorbar": {
            "outlinewidth": 0,
            "tickcolor": "rgb(36,36,36)",
            "ticklen": 8,
            "ticks": "outside",
            "tickwidth": 2
           }
          },
          "colorscale": {
           "sequential": [
            [
             0,
             "rgb(2,4,25)"
            ],
            [
             0.06274509803921569,
             "rgb(24,15,41)"
            ],
            [
             0.12549019607843137,
             "rgb(47,23,57)"
            ],
            [
             0.18823529411764706,
             "rgb(71,28,72)"
            ],
            [
             0.25098039215686274,
             "rgb(97,30,82)"
            ],
            [
             0.3137254901960784,
             "rgb(123,30,89)"
            ],
            [
             0.3764705882352941,
             "rgb(150,27,91)"
            ],
            [
             0.4392156862745098,
             "rgb(177,22,88)"
            ],
            [
             0.5019607843137255,
             "rgb(203,26,79)"
            ],
            [
             0.5647058823529412,
             "rgb(223,47,67)"
            ],
            [
             0.6274509803921569,
             "rgb(236,76,61)"
            ],
            [
             0.6901960784313725,
             "rgb(242,107,73)"
            ],
            [
             0.7529411764705882,
             "rgb(244,135,95)"
            ],
            [
             0.8156862745098039,
             "rgb(245,162,122)"
            ],
            [
             0.8784313725490196,
             "rgb(246,188,153)"
            ],
            [
             0.9411764705882353,
             "rgb(247,212,187)"
            ],
            [
             1,
             "rgb(250,234,220)"
            ]
           ],
           "sequentialminus": [
            [
             0,
             "rgb(2,4,25)"
            ],
            [
             0.06274509803921569,
             "rgb(24,15,41)"
            ],
            [
             0.12549019607843137,
             "rgb(47,23,57)"
            ],
            [
             0.18823529411764706,
             "rgb(71,28,72)"
            ],
            [
             0.25098039215686274,
             "rgb(97,30,82)"
            ],
            [
             0.3137254901960784,
             "rgb(123,30,89)"
            ],
            [
             0.3764705882352941,
             "rgb(150,27,91)"
            ],
            [
             0.4392156862745098,
             "rgb(177,22,88)"
            ],
            [
             0.5019607843137255,
             "rgb(203,26,79)"
            ],
            [
             0.5647058823529412,
             "rgb(223,47,67)"
            ],
            [
             0.6274509803921569,
             "rgb(236,76,61)"
            ],
            [
             0.6901960784313725,
             "rgb(242,107,73)"
            ],
            [
             0.7529411764705882,
             "rgb(244,135,95)"
            ],
            [
             0.8156862745098039,
             "rgb(245,162,122)"
            ],
            [
             0.8784313725490196,
             "rgb(246,188,153)"
            ],
            [
             0.9411764705882353,
             "rgb(247,212,187)"
            ],
            [
             1,
             "rgb(250,234,220)"
            ]
           ]
          },
          "colorway": [
           "rgb(76,114,176)",
           "rgb(221,132,82)",
           "rgb(85,168,104)",
           "rgb(196,78,82)",
           "rgb(129,114,179)",
           "rgb(147,120,96)",
           "rgb(218,139,195)",
           "rgb(140,140,140)",
           "rgb(204,185,116)",
           "rgb(100,181,205)"
          ],
          "font": {
           "color": "rgb(36,36,36)"
          },
          "geo": {
           "bgcolor": "white",
           "lakecolor": "white",
           "landcolor": "rgb(234,234,242)",
           "showlakes": true,
           "showland": true,
           "subunitcolor": "white"
          },
          "hoverlabel": {
           "align": "left"
          },
          "hovermode": "closest",
          "paper_bgcolor": "white",
          "plot_bgcolor": "rgb(234,234,242)",
          "polar": {
           "angularaxis": {
            "gridcolor": "white",
            "linecolor": "white",
            "showgrid": true,
            "ticks": ""
           },
           "bgcolor": "rgb(234,234,242)",
           "radialaxis": {
            "gridcolor": "white",
            "linecolor": "white",
            "showgrid": true,
            "ticks": ""
           }
          },
          "scene": {
           "xaxis": {
            "backgroundcolor": "rgb(234,234,242)",
            "gridcolor": "white",
            "gridwidth": 2,
            "linecolor": "white",
            "showbackground": true,
            "showgrid": true,
            "ticks": "",
            "zerolinecolor": "white"
           },
           "yaxis": {
            "backgroundcolor": "rgb(234,234,242)",
            "gridcolor": "white",
            "gridwidth": 2,
            "linecolor": "white",
            "showbackground": true,
            "showgrid": true,
            "ticks": "",
            "zerolinecolor": "white"
           },
           "zaxis": {
            "backgroundcolor": "rgb(234,234,242)",
            "gridcolor": "white",
            "gridwidth": 2,
            "linecolor": "white",
            "showbackground": true,
            "showgrid": true,
            "ticks": "",
            "zerolinecolor": "white"
           }
          },
          "shapedefaults": {
           "fillcolor": "rgb(67,103,167)",
           "line": {
            "width": 0
           },
           "opacity": 0.5
          },
          "ternary": {
           "aaxis": {
            "gridcolor": "white",
            "linecolor": "white",
            "showgrid": true,
            "ticks": ""
           },
           "baxis": {
            "gridcolor": "white",
            "linecolor": "white",
            "showgrid": true,
            "ticks": ""
           },
           "bgcolor": "rgb(234,234,242)",
           "caxis": {
            "gridcolor": "white",
            "linecolor": "white",
            "showgrid": true,
            "ticks": ""
           }
          },
          "xaxis": {
           "automargin": true,
           "gridcolor": "white",
           "linecolor": "white",
           "showgrid": true,
           "ticks": "",
           "title": {
            "standoff": 15
           },
           "zerolinecolor": "white"
          },
          "yaxis": {
           "automargin": true,
           "gridcolor": "white",
           "linecolor": "white",
           "showgrid": true,
           "ticks": "",
           "title": {
            "standoff": 15
           },
           "zerolinecolor": "white"
          }
         }
        },
        "xaxis": {
         "title": {
          "text": "Date"
         }
        },
        "yaxis": {
         "title": {
          "text": "Adj. Close price"
         }
        }
       }
      }
     },
     "metadata": {},
     "output_type": "display_data"
    }
   ],
   "source": [
    "fig = plot_data_predictions(test_data, pred)\n",
    "fig.update_layout(template=\"seaborn\").show()"
   ]
  },
  {
   "cell_type": "code",
   "execution_count": 25,
   "metadata": {},
   "outputs": [
    {
     "name": "stdout",
     "output_type": "stream",
     "text": [
      "MSE: 109.81174377559408\n"
     ]
    }
   ],
   "source": [
    "print(f\"MSE: {error_mse}\")"
   ]
  },
  {
   "attachments": {},
   "cell_type": "markdown",
   "metadata": {},
   "source": [
    "The predicted price was very far from the actual trend, suggesting that more effort is needed in order to achieve a better performance. Improvements include using more powerful models, such as **XGBoost**, more exhaustive hyper-parameter tuning, as well as a more careful selection of training and testing data. The latter might prove crucial due to the great variability experimented in time.\n",
    "\n",
    "In any case, and as mentioned at the beginning of this notebook, security price is hardly dependent on past performance. Instead, it is driven by current events from varying sources, from sentiments expressed in social media to geopolotical changes. Including this information as exogenous variables would greatly increase our ability to predict future prices."
   ]
  },
  {
   "cell_type": "markdown",
   "metadata": {},
   "source": []
  }
 ],
 "metadata": {
  "kernelspec": {
   "display_name": "stock_picker",
   "language": "python",
   "name": "python3"
  },
  "language_info": {
   "codemirror_mode": {
    "name": "ipython",
    "version": 3
   },
   "file_extension": ".py",
   "mimetype": "text/x-python",
   "name": "python",
   "nbconvert_exporter": "python",
   "pygments_lexer": "ipython3",
   "version": "3.10.9"
  },
  "orig_nbformat": 4,
  "vscode": {
   "interpreter": {
    "hash": "6e5c7e30385affd6440523185551fe66f92a799210751853f17fab07698cc394"
   }
  }
 },
 "nbformat": 4,
 "nbformat_minor": 2
}
