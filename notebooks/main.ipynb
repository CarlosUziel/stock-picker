{
 "cells": [
  {
   "cell_type": "code",
   "execution_count": null,
   "metadata": {},
   "outputs": [],
   "source": [
    "%load_ext autoreload\n",
    "%autoreload 2"
   ]
  },
  {
   "cell_type": "code",
   "execution_count": null,
   "metadata": {},
   "outputs": [],
   "source": [
    "import yfinance as yf\n",
    "import json\n",
    "import numpy as np\n",
    "import pandas as pd"
   ]
  },
  {
   "cell_type": "code",
   "execution_count": null,
   "metadata": {},
   "outputs": [],
   "source": [
    "tickers = yf.Tickers(\"MSFT AMZN\")"
   ]
  },
  {
   "cell_type": "code",
   "execution_count": null,
   "metadata": {},
   "outputs": [],
   "source": []
  },
  {
   "cell_type": "code",
   "execution_count": null,
   "metadata": {},
   "outputs": [],
   "source": [
    "data = yf.download(\"MSFT AMZN\", start=\"2000-01-01\", end=\"2022-01-01\")[\"Adj Close\"]\n",
    "data.plot()"
   ]
  },
  {
   "cell_type": "code",
   "execution_count": null,
   "metadata": {},
   "outputs": [],
   "source": [
    "def to_relative(series: pd.Series) -> pd.Series:\n",
    "    return series / series.iloc[0]\n",
    "\n",
    "\n",
    "data.apply(to_relative).plot()"
   ]
  },
  {
   "cell_type": "code",
   "execution_count": null,
   "metadata": {},
   "outputs": [],
   "source": [
    "data"
   ]
  },
  {
   "cell_type": "code",
   "execution_count": null,
   "metadata": {},
   "outputs": [],
   "source": [
    "data.describe()"
   ]
  },
  {
   "cell_type": "code",
   "execution_count": null,
   "metadata": {},
   "outputs": [],
   "source": []
  },
  {
   "cell_type": "code",
   "execution_count": null,
   "metadata": {},
   "outputs": [],
   "source": [
    "def abs_start_end_change(series: pd.Series) -> float:\n",
    "    return series.iloc[-1] - series.iloc[0]\n",
    "\n",
    "\n",
    "def rel_start_end_change(series: pd.Series) -> float:\n",
    "    return (abs_start_end_change(series) / series.iloc[0]) * 100\n",
    "\n",
    "\n",
    "def max_fall(series: pd.Series) -> float:\n",
    "    return np.min(\n",
    "        [\n",
    "            (np.min(series.iloc[i:] - np.max(series.iloc[:i])))\n",
    "            / np.max(series.iloc[:i])\n",
    "            for i in range(1, len(series))\n",
    "        ]\n",
    "    )\n",
    "\n",
    "\n",
    "def max_rise(series: pd.Series) -> float:\n",
    "    return np.max(\n",
    "        [\n",
    "            (np.max(series.iloc[i:] - np.min(series.iloc[:i])))\n",
    "            / np.min(series.iloc[:i])\n",
    "            for i in range(1, len(series))\n",
    "        ]\n",
    "    )"
   ]
  },
  {
   "cell_type": "code",
   "execution_count": null,
   "metadata": {},
   "outputs": [],
   "source": [
    "data.agg([max_fall, max_rise])"
   ]
  },
  {
   "cell_type": "code",
   "execution_count": null,
   "metadata": {},
   "outputs": [],
   "source": [
    "pd.concat(\n",
    "    (\n",
    "        data.describe(),\n",
    "        data.agg([abs_start_end_change, rel_start_end_change, max_fall, max_rise]),\n",
    "    )\n",
    ").round(2).transpose().sort_values(by=\"rel_start_end_change\", ascending=False)"
   ]
  },
  {
   "cell_type": "code",
   "execution_count": null,
   "metadata": {},
   "outputs": [],
   "source": [
    "data.agg(\n",
    "    [\"count\", \"min\", \"mean\", \"max\", abs_start_end_change, rel_start_end_change]\n",
    ").round(2).transpose()"
   ]
  },
  {
   "cell_type": "code",
   "execution_count": null,
   "metadata": {},
   "outputs": [],
   "source": []
  },
  {
   "cell_type": "code",
   "execution_count": null,
   "metadata": {},
   "outputs": [],
   "source": [
    "(339.92 - 11.40) / 11.40"
   ]
  },
  {
   "cell_type": "code",
   "execution_count": null,
   "metadata": {},
   "outputs": [],
   "source": [
    "type(np.mean([1, 2, 3]))"
   ]
  },
  {
   "cell_type": "code",
   "execution_count": null,
   "metadata": {},
   "outputs": [],
   "source": []
  },
  {
   "cell_type": "code",
   "execution_count": null,
   "metadata": {},
   "outputs": [],
   "source": [
    "data = yf.download(\"BTC-USD\", start=\"2008-01-01\", end=\"2022-01-01\")[\"Adj Close\"]\n",
    "data.plot()\n",
    "data = yf.download(\"ETH-USD\", start=\"2008-01-01\", end=\"2022-01-01\")[\"Adj Close\"]\n",
    "data.plot()"
   ]
  },
  {
   "cell_type": "code",
   "execution_count": null,
   "metadata": {},
   "outputs": [],
   "source": [
    "yf.download(\"BTC-USD\", start=\"2008-01-01\", end=\"2022-01-01\")"
   ]
  },
  {
   "cell_type": "code",
   "execution_count": null,
   "metadata": {},
   "outputs": [],
   "source": [
    "yf.download(\"ETH-USD\", start=\"2008-01-01\", end=\"2022-01-01\")"
   ]
  },
  {
   "cell_type": "code",
   "execution_count": null,
   "metadata": {},
   "outputs": [],
   "source": [
    "info = yf.Ticker(\"0P00011HBM.F\").info"
   ]
  },
  {
   "cell_type": "code",
   "execution_count": null,
   "metadata": {},
   "outputs": [],
   "source": [
    "info.keys()"
   ]
  },
  {
   "cell_type": "code",
   "execution_count": null,
   "metadata": {},
   "outputs": [],
   "source": [
    "info[\"holdings\"]"
   ]
  },
  {
   "cell_type": "code",
   "execution_count": null,
   "metadata": {},
   "outputs": [],
   "source": []
  },
  {
   "cell_type": "code",
   "execution_count": null,
   "metadata": {},
   "outputs": [],
   "source": []
  },
  {
   "cell_type": "code",
   "execution_count": null,
   "metadata": {},
   "outputs": [],
   "source": []
  },
  {
   "cell_type": "code",
   "execution_count": null,
   "metadata": {},
   "outputs": [],
   "source": []
  },
  {
   "cell_type": "code",
   "execution_count": null,
   "metadata": {},
   "outputs": [],
   "source": [
    "import yfinance as yf\n",
    "\n",
    "msft = yf.Ticker(\"MSFT\")\n",
    "\n",
    "# get all stock info (slow)\n",
    "msft.info\n",
    "# fast access to subset of stock info (opportunistic)\n",
    "msft.fast_info\n",
    "\n",
    "# get historical market data\n",
    "hist = msft.history(period=\"1mo\")\n",
    "\n",
    "# show meta information about the history (requires history() to be called first)\n",
    "msft.history_metadata\n",
    "\n",
    "# show actions (dividends, splits, capital gains)\n",
    "msft.actions\n",
    "msft.dividends\n",
    "msft.splits\n",
    "msft.capital_gains  # only for mutual funds & etfs\n",
    "\n",
    "# show share count\n",
    "# - yearly summary:\n",
    "msft.shares\n",
    "# - accurate time-series count:\n",
    "msft.get_shares_full(start=\"2022-01-01\", end=None)\n",
    "\n",
    "# show financials:\n",
    "# - income statement\n",
    "msft.income_stmt\n",
    "msft.quarterly_income_stmt\n",
    "# - balance sheet\n",
    "msft.balance_sheet\n",
    "msft.quarterly_balance_sheet\n",
    "# - cash flow statement\n",
    "msft.cashflow\n",
    "msft.quarterly_cashflow\n",
    "# see `Ticker.get_income_stmt()` for more options\n",
    "\n",
    "# show holders\n",
    "msft.major_holders\n",
    "msft.institutional_holders\n",
    "msft.mutualfund_holders\n",
    "\n",
    "# show earnings\n",
    "msft.earnings\n",
    "msft.quarterly_earnings\n",
    "\n",
    "# show sustainability\n",
    "msft.sustainability\n",
    "\n",
    "# show analysts recommendations\n",
    "msft.recommendations\n",
    "msft.recommendations_summary\n",
    "# show analysts other work\n",
    "msft.analyst_price_target\n",
    "msft.revenue_forecasts\n",
    "msft.earnings_forecasts\n",
    "msft.earnings_trend\n",
    "\n",
    "# show next event (earnings, etc)\n",
    "msft.calendar\n",
    "\n",
    "# Show future and historic earnings dates, returns at most next 4 quarters and last 8 quarters by default.\n",
    "# Note: If more are needed use msft.get_earnings_dates(limit=XX) with increased limit argument.\n",
    "msft.earnings_dates\n",
    "\n",
    "# show ISIN code - *experimental*\n",
    "# ISIN = International Securities Identification Number\n",
    "msft.isin\n",
    "\n",
    "# show options expirations\n",
    "msft.options\n",
    "\n",
    "# show news\n",
    "msft.news\n",
    "\n",
    "# get option chain for specific expiration\n",
    "opt = msft.option_chain(\"YYYY-MM-DD\")\n",
    "# data available via: opt.calls, opt.puts"
   ]
  },
  {
   "cell_type": "code",
   "execution_count": null,
   "metadata": {},
   "outputs": [],
   "source": []
  }
 ],
 "metadata": {
  "kernelspec": {
   "display_name": "stock_picker",
   "language": "python",
   "name": "python3"
  },
  "language_info": {
   "codemirror_mode": {
    "name": "ipython",
    "version": 3
   },
   "file_extension": ".py",
   "mimetype": "text/x-python",
   "name": "python",
   "nbconvert_exporter": "python",
   "pygments_lexer": "ipython3",
   "version": "3.9.15"
  },
  "orig_nbformat": 4,
  "vscode": {
   "interpreter": {
    "hash": "6e5c7e30385affd6440523185551fe66f92a799210751853f17fab07698cc394"
   }
  }
 },
 "nbformat": 4,
 "nbformat_minor": 2
}
